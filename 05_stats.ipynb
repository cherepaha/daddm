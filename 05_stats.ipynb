{
 "cells": [
  {
   "cell_type": "code",
   "execution_count": 1,
   "metadata": {
    "collapsed": true,
    "ExecuteTime": {
     "end_time": "2023-11-16T15:59:48.172170600Z",
     "start_time": "2023-11-16T15:59:38.992047300Z"
    }
   },
   "outputs": [],
   "source": [
    "import pandas as pd\n",
    "import pymer4.models\n",
    "import numpy as np\n",
    "import scipy.stats"
   ]
  },
  {
   "cell_type": "code",
   "execution_count": 2,
   "outputs": [],
   "source": [
    "measures = pd.read_csv(\"measures.csv\")\n",
    "measures[\"RT_z\"] = (measures[\"RT\"]-measures[\"RT\"].mean())/measures[\"RT\"].std()\n",
    "measures[\"d_condition_z\"] = (measures[\"d_condition\"]-measures[\"d_condition\"].mean())/measures[\"d_condition\"].std()\n",
    "measures[\"tta_condition_z\"] = (measures[\"tta_condition\"]-measures[\"tta_condition\"].mean())/measures[\"tta_condition\"].std()\n",
    "measures[\"tta_or_condition_z\"] = (measures[\"tta_or_condition\"]-measures[\"tta_or_condition\"].mean())/measures[\"tta_or_condition\"].std()\n",
    "measures[\"dwell_time_z\"] = (measures[\"dwell_time\"]-measures[\"dwell_time\"].mean())/measures[\"dwell_time\"].std()"
   ],
   "metadata": {
    "collapsed": false,
    "pycharm": {
     "name": "#%%\n"
    },
    "ExecuteTime": {
     "end_time": "2023-11-16T15:59:48.205458300Z",
     "start_time": "2023-11-16T15:59:48.170171800Z"
    }
   }
  },
  {
   "cell_type": "code",
   "execution_count": 3,
   "outputs": [],
   "source": [
    "column_names = {\"Estimate\": \"$\\\\beta$\", \"Z-stat\": \"$z$\", \"P-val\": \"$p$\", \"T-stat\": \"$t$\", \"F-stat\": \"$F$\", \"2.5_ci\": \"CI 2.5\\%\", \"97.5_ci\": \"CI 97.5\\%\", \"NumDF\": \"df\"}\n",
    "var_names = {\"tta_condition_z\": \"$\\\\textrm{TTA}$\",\n",
    "             \"d_condition_z\": \"distance\",\n",
    "             \"tta_or_condition_z\": \"time budget\",\n",
    "             \"dwell_time_z\": \"\\% dwell time mirror\",\n",
    "             \"tta_condition_z:tta_or_condition_z\": \"$\\\\textrm{TTA}$:time budget\",\n",
    "             \"tta_condition_z:dwell_time_z\": \"$\\\\textrm{TTA}$:\\% dwell time mirror\",\n",
    "             \"tta_or_condition_z:dwell_time_z\": \"time budget:\\% dwell time mirror\",\n",
    "             \"tta_condition_z:tta_or_condition_z:dwell_time_z\": \"$\\\\textrm{TTA}$:time budget:\\% dwell time mirror\",\n",
    "             \"decision:d_condition_z\": \"decision:distance\",\n",
    "             \"decision:tta_condition_z\": \"decision:$\\\\textrm{TTA}$\",\n",
    "             \"decision:tta_or_condition_z\": \"decision:time budget\",\n",
    "             \"decision:tta_condition_z:tta_or_condition_z\": \"decision:$\\\\textrm{TTA}$:time budget\"}\n",
    "\n",
    "def p_formatted(p):\n",
    "    if p>0.01:\n",
    "        return \"{:.2f}\".format(p)\n",
    "    elif p>0.001:\n",
    "        return \"{:.3f}\".format(p)\n",
    "    else:\n",
    "        return \"$<0.001$\""
   ],
   "metadata": {
    "collapsed": false,
    "ExecuteTime": {
     "end_time": "2023-11-16T15:59:48.223812600Z",
     "start_time": "2023-11-16T15:59:48.199942Z"
    }
   }
  },
  {
   "cell_type": "markdown",
   "source": [
    "# Dwell time"
   ],
   "metadata": {
    "collapsed": false,
    "pycharm": {
     "name": "#%% md\n"
    }
   }
  },
  {
   "cell_type": "code",
   "execution_count": 12,
   "outputs": [
    {
     "name": "stdout",
     "output_type": "stream",
     "text": [
      "Linear mixed model fit by REML [’lmerMod’]\n",
      "Formula: dwell_time_z~RT_z*decision+(1|subj_id)\n",
      "\n",
      "Family: gaussian\t Inference: parametric\n",
      "\n",
      "Number of observations: 8634\t Groups: {'subj_id': 24.0}\n",
      "\n",
      "Log-likelihood: -8890.112 \t AIC: 17792.225\n",
      "\n",
      "Random effects:\n",
      "\n",
      "                 Name    Var    Std\n",
      "subj_id   (Intercept)  0.486  0.697\n",
      "Residual               0.451  0.671\n",
      "\n",
      "No random effect correlations specified\n",
      "\n",
      "Fixed effects:\n"
     ]
    },
    {
     "data": {
      "text/plain": "                   Estimate    2.5_ci   97.5_ci        SE           DF  \\\n(Intercept)       -0.038547 -0.318179  0.241084  0.142672    23.079816   \nRT_z              -0.195625 -0.220385 -0.170864  0.012633  8625.113433   \ndecisionWait       0.082622  0.046667  0.118577  0.018345  8613.065527   \nRT_z:decisionWait  0.054404  0.020695  0.088114  0.017199  8612.813949   \n\n                      T-stat         P-val  Sig  \n(Intercept)        -0.270182  7.894213e-01       \nRT_z              -15.485115  2.276965e-53  ***  \ndecisionWait        4.503848  6.761239e-06  ***  \nRT_z:decisionWait   3.163214  1.565800e-03   **  ",
      "text/html": "<div>\n<style scoped>\n    .dataframe tbody tr th:only-of-type {\n        vertical-align: middle;\n    }\n\n    .dataframe tbody tr th {\n        vertical-align: top;\n    }\n\n    .dataframe thead th {\n        text-align: right;\n    }\n</style>\n<table border=\"1\" class=\"dataframe\">\n  <thead>\n    <tr style=\"text-align: right;\">\n      <th></th>\n      <th>Estimate</th>\n      <th>2.5_ci</th>\n      <th>97.5_ci</th>\n      <th>SE</th>\n      <th>DF</th>\n      <th>T-stat</th>\n      <th>P-val</th>\n      <th>Sig</th>\n    </tr>\n  </thead>\n  <tbody>\n    <tr>\n      <th>(Intercept)</th>\n      <td>-0.038547</td>\n      <td>-0.318179</td>\n      <td>0.241084</td>\n      <td>0.142672</td>\n      <td>23.079816</td>\n      <td>-0.270182</td>\n      <td>7.894213e-01</td>\n      <td></td>\n    </tr>\n    <tr>\n      <th>RT_z</th>\n      <td>-0.195625</td>\n      <td>-0.220385</td>\n      <td>-0.170864</td>\n      <td>0.012633</td>\n      <td>8625.113433</td>\n      <td>-15.485115</td>\n      <td>2.276965e-53</td>\n      <td>***</td>\n    </tr>\n    <tr>\n      <th>decisionWait</th>\n      <td>0.082622</td>\n      <td>0.046667</td>\n      <td>0.118577</td>\n      <td>0.018345</td>\n      <td>8613.065527</td>\n      <td>4.503848</td>\n      <td>6.761239e-06</td>\n      <td>***</td>\n    </tr>\n    <tr>\n      <th>RT_z:decisionWait</th>\n      <td>0.054404</td>\n      <td>0.020695</td>\n      <td>0.088114</td>\n      <td>0.017199</td>\n      <td>8612.813949</td>\n      <td>3.163214</td>\n      <td>1.565800e-03</td>\n      <td>**</td>\n    </tr>\n  </tbody>\n</table>\n</div>"
     },
     "execution_count": 12,
     "metadata": {},
     "output_type": "execute_result"
    }
   ],
   "source": [
    "model_dwell_time = pymer4.models.Lmer(\"dwell_time_z ~ RT_z*decision + (1 | subj_id) \", data=measures, family=\"gaussian\")\n",
    "model_dwell_time_fit = model_dwell_time.fit(summarize=True)\n",
    "model_dwell_time.coefs"
   ],
   "metadata": {
    "collapsed": false,
    "pycharm": {
     "name": "#%%\n"
    },
    "ExecuteTime": {
     "end_time": "2023-10-27T15:30:15.047723500Z",
     "start_time": "2023-10-27T15:30:14.081422400Z"
    }
   }
  },
  {
   "cell_type": "markdown",
   "source": [
    "# Decision outcome"
   ],
   "metadata": {
    "collapsed": false,
    "pycharm": {
     "name": "#%% md\n"
    }
   }
  },
  {
   "cell_type": "code",
   "execution_count": 53,
   "outputs": [
    {
     "name": "stdout",
     "output_type": "stream",
     "text": [
      "Linear mixed model fit by maximum likelihood  ['lmerMod']\n",
      "Formula: is_gap_accepted~1+d_condition_z+tta_condition_z+tta_or_condition_z+(1+tta_condition_z+tta_or_condition_z+d_condition_z|subj_id)\n",
      "\n",
      "Family: binomial\t Inference: parametric\n",
      "\n",
      "Number of observations: 8634\t Groups: {'subj_id': 24.0}\n",
      "\n",
      "Log-likelihood: -3232.833 \t AIC: 6493.667\n",
      "\n",
      "Random effects:\n",
      "\n",
      "                       Name    Var    Std\n",
      "subj_id         (Intercept)  1.621  1.273\n",
      "subj_id     tta_condition_z  0.268  0.518\n",
      "subj_id  tta_or_condition_z  0.202  0.449\n",
      "subj_id       d_condition_z  0.251  0.501\n",
      "\n",
      "                        IV1                 IV2   Corr\n",
      "subj_id         (Intercept)     tta_condition_z -0.124\n",
      "subj_id         (Intercept)  tta_or_condition_z -0.220\n",
      "subj_id         (Intercept)       d_condition_z  0.215\n",
      "subj_id     tta_condition_z  tta_or_condition_z -0.140\n",
      "subj_id     tta_condition_z       d_condition_z -0.548\n",
      "subj_id  tta_or_condition_z       d_condition_z  0.462\n",
      "\n",
      "Fixed effects:\n"
     ]
    },
    {
     "data": {
      "text/plain": "                    Estimate    2.5_ci   97.5_ci        SE        OR  \\\n(Intercept)         1.299452  0.780160  1.818745  0.264950  3.667288   \nd_condition_z       0.537341  0.325559  0.749123  0.108054  1.711451   \ntta_condition_z     1.841681  1.611953  2.071408  0.117210  6.307130   \ntta_or_condition_z -0.416692 -0.608406 -0.224978  0.097815  0.659224   \n\n                    OR_2.5_ci  OR_97.5_ci      Prob  Prob_2.5_ci  \\\n(Intercept)          2.181821    6.164116  0.785743     0.685715   \nd_condition_z        1.384805    2.115145  0.631194     0.580678   \ntta_condition_z      5.012592    7.935991  0.863147     0.833682   \ntta_or_condition_z   0.544218    0.798534  0.397309     0.352423   \n\n                    Prob_97.5_ci     Z-stat         P-val  Sig  \n(Intercept)             0.860415   4.904520  9.365625e-07  ***  \nd_condition_z           0.678988   4.972894  6.596063e-07  ***  \ntta_condition_z         0.888093  15.712650  1.238910e-55  ***  \ntta_or_condition_z      0.443992  -4.259998  2.044290e-05  ***  ",
      "text/html": "<div>\n<style scoped>\n    .dataframe tbody tr th:only-of-type {\n        vertical-align: middle;\n    }\n\n    .dataframe tbody tr th {\n        vertical-align: top;\n    }\n\n    .dataframe thead th {\n        text-align: right;\n    }\n</style>\n<table border=\"1\" class=\"dataframe\">\n  <thead>\n    <tr style=\"text-align: right;\">\n      <th></th>\n      <th>Estimate</th>\n      <th>2.5_ci</th>\n      <th>97.5_ci</th>\n      <th>SE</th>\n      <th>OR</th>\n      <th>OR_2.5_ci</th>\n      <th>OR_97.5_ci</th>\n      <th>Prob</th>\n      <th>Prob_2.5_ci</th>\n      <th>Prob_97.5_ci</th>\n      <th>Z-stat</th>\n      <th>P-val</th>\n      <th>Sig</th>\n    </tr>\n  </thead>\n  <tbody>\n    <tr>\n      <th>(Intercept)</th>\n      <td>1.299452</td>\n      <td>0.780160</td>\n      <td>1.818745</td>\n      <td>0.264950</td>\n      <td>3.667288</td>\n      <td>2.181821</td>\n      <td>6.164116</td>\n      <td>0.785743</td>\n      <td>0.685715</td>\n      <td>0.860415</td>\n      <td>4.904520</td>\n      <td>9.365625e-07</td>\n      <td>***</td>\n    </tr>\n    <tr>\n      <th>d_condition_z</th>\n      <td>0.537341</td>\n      <td>0.325559</td>\n      <td>0.749123</td>\n      <td>0.108054</td>\n      <td>1.711451</td>\n      <td>1.384805</td>\n      <td>2.115145</td>\n      <td>0.631194</td>\n      <td>0.580678</td>\n      <td>0.678988</td>\n      <td>4.972894</td>\n      <td>6.596063e-07</td>\n      <td>***</td>\n    </tr>\n    <tr>\n      <th>tta_condition_z</th>\n      <td>1.841681</td>\n      <td>1.611953</td>\n      <td>2.071408</td>\n      <td>0.117210</td>\n      <td>6.307130</td>\n      <td>5.012592</td>\n      <td>7.935991</td>\n      <td>0.863147</td>\n      <td>0.833682</td>\n      <td>0.888093</td>\n      <td>15.712650</td>\n      <td>1.238910e-55</td>\n      <td>***</td>\n    </tr>\n    <tr>\n      <th>tta_or_condition_z</th>\n      <td>-0.416692</td>\n      <td>-0.608406</td>\n      <td>-0.224978</td>\n      <td>0.097815</td>\n      <td>0.659224</td>\n      <td>0.544218</td>\n      <td>0.798534</td>\n      <td>0.397309</td>\n      <td>0.352423</td>\n      <td>0.443992</td>\n      <td>-4.259998</td>\n      <td>2.044290e-05</td>\n      <td>***</td>\n    </tr>\n  </tbody>\n</table>\n</div>"
     },
     "execution_count": 53,
     "metadata": {},
     "output_type": "execute_result"
    }
   ],
   "source": [
    "model_decision = pymer4.models.Lmer(\"is_gap_accepted ~ 1 + d_condition_z + tta_condition_z + tta_or_condition_z + (1 + tta_condition_z + tta_or_condition_z + d_condition_z | subj_id)\", data=measures, family=\"binomial\")\n",
    "model_decision_fit = model_decision.fit(summarize=True)\n",
    "model_decision.coefs"
   ],
   "metadata": {
    "collapsed": false,
    "pycharm": {
     "name": "#%%\n"
    },
    "ExecuteTime": {
     "end_time": "2023-10-27T23:05:21.594002200Z",
     "start_time": "2023-10-27T23:05:01.849055700Z"
    }
   }
  },
  {
   "cell_type": "code",
   "execution_count": 56,
   "outputs": [],
   "source": [
    "df = model_decision.coefs.loc[:, [\"Estimate\", \"SE\", \"Z-stat\", \"P-val\"]]\n",
    "\n",
    "df[\"P-val\"] = df[\"P-val\"].apply(p_formatted)\n",
    "\n",
    "styler = df.rename(columns=column_names, index=var_names).style.format(precision=2)\n",
    "\n",
    "with open('C:\\\\Users\\\\azgonnikov\\\\Dropbox\\\\Apps\\\\Overleaf\\\\AAP Dynamics of merging decisions Elsevier template\\\\tab_decision.tex', 'w') as tf:\n",
    "     tf.write(styler.to_latex(\n",
    "         column_format=\"rrrrr\", position=\"h\", position_float=\"centering\",\n",
    "         hrules=True, label=\"tab:decision\", caption=\"Standardized coefficients of the mixed-effects logistic regression describing the final decision as a function of $\\\\textrm{TTA}$ and distance to the overtaking vehicle and the time budget provided by the merging lane. All effects were modelled as random slopes per participant: \\\\texttt{decision $\\sim$ 1 + distance + TTA + time budget + (1 + distance + TTA + time budget) | participant}.\"\n",
    "     )\n",
    ")"
   ],
   "metadata": {
    "collapsed": false,
    "ExecuteTime": {
     "end_time": "2023-10-27T23:09:33.687287900Z",
     "start_time": "2023-10-27T23:09:33.662760Z"
    }
   }
  },
  {
   "cell_type": "markdown",
   "source": [
    "# Response time"
   ],
   "metadata": {
    "collapsed": false
   }
  },
  {
   "cell_type": "code",
   "execution_count": 64,
   "outputs": [
    {
     "name": "stdout",
     "output_type": "stream",
     "text": [
      "Linear mixed model fit by REML [’lmerMod’]\n",
      "Formula: RT_z~1+decision*(d_condition_z+tta_condition_z*tta_or_condition_z)+(decision|subj_id)\n",
      "\n",
      "Family: gaussian\t Inference: parametric\n",
      "\n",
      "Number of observations: 8634\t Groups: {'subj_id': 24.0}\n",
      "\n",
      "Log-likelihood: -9164.353 \t AIC: 18356.706\n",
      "\n",
      "Random effects:\n",
      "\n",
      "                  Name    Var    Std\n",
      "subj_id    (Intercept)  0.343  0.586\n",
      "subj_id   decisionWait  0.201  0.449\n",
      "Residual                0.475  0.689\n",
      "\n",
      "                 IV1           IV2   Corr\n",
      "subj_id  (Intercept)  decisionWait -0.431\n",
      "\n",
      "Fixed effects:\n",
      "\n",
      "SS Type III Analysis of Variance Table with Satterthwaite approximated degrees of freedom:\n",
      "(NOTE: Using original model contrasts, orthogonality not guaranteed)\n"
     ]
    }
   ],
   "source": [
    "model_RT = pymer4.models.Lmer(\"RT_z ~ 1 + decision*(d_condition_z + tta_condition_z*tta_or_condition_z) + (decision | subj_id) \", data=measures, family=\"gaussian\")\n",
    "model_RT.fit(summarize=True, factors={\"decision\": [\"Merge\", \"Wait\"]})\n",
    "model_RT.coefs\n",
    "RT_anova = model_RT.anova()\n",
    "RT_decision_marginal_estimates, RT_decision_comparisons = model_RT.post_hoc(marginal_vars=[\"decision\"])"
   ],
   "metadata": {
    "collapsed": false,
    "ExecuteTime": {
     "end_time": "2023-10-27T23:19:14.366028Z",
     "start_time": "2023-10-27T23:19:13.017269600Z"
    }
   }
  },
  {
   "cell_type": "code",
   "execution_count": 59,
   "outputs": [
    {
     "data": {
      "text/plain": "                                                     SS          MS  NumDF  \\\ndecision                                      61.469085   61.469085      1   \nd_condition_z                                  0.599919    0.599919      1   \ntta_condition_z                              129.168121  129.168121      1   \ntta_or_condition_z                            63.368563   63.368563      1   \ntta_condition_z:tta_or_condition_z            18.071613   18.071613      1   \ndecision:d_condition_z                        15.262386   15.262386      1   \ndecision:tta_condition_z                      79.633941   79.633941      1   \ndecision:tta_or_condition_z                   18.125095   18.125095      1   \ndecision:tta_condition_z:tta_or_condition_z    1.861408    1.861408      1   \n\n                                                 DenomDF      F-stat  \\\ndecision                                       23.988530  129.529043   \nd_condition_z                                8594.728326    1.264164   \ntta_condition_z                              8597.057316  272.185979   \ntta_or_condition_z                           8586.658891  133.531667   \ntta_condition_z:tta_or_condition_z           8582.008688   38.080911   \ndecision:d_condition_z                       8591.988757   32.161243   \ndecision:tta_condition_z                     8599.404593  167.806438   \ndecision:tta_or_condition_z                  8583.265824   38.193609   \ndecision:tta_condition_z:tta_or_condition_z  8581.322751    3.922400   \n\n                                                    P-val  Sig  \ndecision                                     3.732783e-11  ***  \nd_condition_z                                2.608958e-01       \ntta_condition_z                              3.173882e-60  ***  \ntta_or_condition_z                           1.165224e-30  ***  \ntta_condition_z:tta_or_condition_z           7.094581e-10  ***  \ndecision:d_condition_z                       1.464876e-08  ***  \ndecision:tta_condition_z                     5.051654e-38  ***  \ndecision:tta_or_condition_z                  6.698096e-10  ***  \ndecision:tta_condition_z:tta_or_condition_z  4.767869e-02    *  ",
      "text/html": "<div>\n<style scoped>\n    .dataframe tbody tr th:only-of-type {\n        vertical-align: middle;\n    }\n\n    .dataframe tbody tr th {\n        vertical-align: top;\n    }\n\n    .dataframe thead th {\n        text-align: right;\n    }\n</style>\n<table border=\"1\" class=\"dataframe\">\n  <thead>\n    <tr style=\"text-align: right;\">\n      <th></th>\n      <th>SS</th>\n      <th>MS</th>\n      <th>NumDF</th>\n      <th>DenomDF</th>\n      <th>F-stat</th>\n      <th>P-val</th>\n      <th>Sig</th>\n    </tr>\n  </thead>\n  <tbody>\n    <tr>\n      <th>decision</th>\n      <td>61.469085</td>\n      <td>61.469085</td>\n      <td>1</td>\n      <td>23.988530</td>\n      <td>129.529043</td>\n      <td>3.732783e-11</td>\n      <td>***</td>\n    </tr>\n    <tr>\n      <th>d_condition_z</th>\n      <td>0.599919</td>\n      <td>0.599919</td>\n      <td>1</td>\n      <td>8594.728326</td>\n      <td>1.264164</td>\n      <td>2.608958e-01</td>\n      <td></td>\n    </tr>\n    <tr>\n      <th>tta_condition_z</th>\n      <td>129.168121</td>\n      <td>129.168121</td>\n      <td>1</td>\n      <td>8597.057316</td>\n      <td>272.185979</td>\n      <td>3.173882e-60</td>\n      <td>***</td>\n    </tr>\n    <tr>\n      <th>tta_or_condition_z</th>\n      <td>63.368563</td>\n      <td>63.368563</td>\n      <td>1</td>\n      <td>8586.658891</td>\n      <td>133.531667</td>\n      <td>1.165224e-30</td>\n      <td>***</td>\n    </tr>\n    <tr>\n      <th>tta_condition_z:tta_or_condition_z</th>\n      <td>18.071613</td>\n      <td>18.071613</td>\n      <td>1</td>\n      <td>8582.008688</td>\n      <td>38.080911</td>\n      <td>7.094581e-10</td>\n      <td>***</td>\n    </tr>\n    <tr>\n      <th>decision:d_condition_z</th>\n      <td>15.262386</td>\n      <td>15.262386</td>\n      <td>1</td>\n      <td>8591.988757</td>\n      <td>32.161243</td>\n      <td>1.464876e-08</td>\n      <td>***</td>\n    </tr>\n    <tr>\n      <th>decision:tta_condition_z</th>\n      <td>79.633941</td>\n      <td>79.633941</td>\n      <td>1</td>\n      <td>8599.404593</td>\n      <td>167.806438</td>\n      <td>5.051654e-38</td>\n      <td>***</td>\n    </tr>\n    <tr>\n      <th>decision:tta_or_condition_z</th>\n      <td>18.125095</td>\n      <td>18.125095</td>\n      <td>1</td>\n      <td>8583.265824</td>\n      <td>38.193609</td>\n      <td>6.698096e-10</td>\n      <td>***</td>\n    </tr>\n    <tr>\n      <th>decision:tta_condition_z:tta_or_condition_z</th>\n      <td>1.861408</td>\n      <td>1.861408</td>\n      <td>1</td>\n      <td>8581.322751</td>\n      <td>3.922400</td>\n      <td>4.767869e-02</td>\n      <td>*</td>\n    </tr>\n  </tbody>\n</table>\n</div>"
     },
     "execution_count": 59,
     "metadata": {},
     "output_type": "execute_result"
    }
   ],
   "source": [
    "RT_anova"
   ],
   "metadata": {
    "collapsed": false,
    "ExecuteTime": {
     "end_time": "2023-10-27T23:15:09.407923200Z",
     "start_time": "2023-10-27T23:15:09.388063100Z"
    }
   }
  },
  {
   "cell_type": "code",
   "execution_count": 60,
   "outputs": [],
   "source": [
    "df = RT_anova.loc[:, [\"SS\", \"MS\", \"F-stat\", \"P-val\"]]\n",
    "df[\"P-val\"] = df[\"P-val\"].apply(p_formatted)\n",
    "styler = df.rename(columns=column_names, index=var_names).style.format(precision=2)\n",
    "\n",
    "with open('C:\\\\Users\\\\azgonnikov\\\\Dropbox\\\\Apps\\\\Overleaf\\\\AAP Dynamics of merging decisions Elsevier template\\\\tab_RT.tex', 'w') as tf:\n",
    "     tf.write(styler.to_latex(\n",
    "         column_format=\"rrrrrr\", position=\"h\", position_float=\"centering\",\n",
    "         hrules=True, label=\"tab:RT\", caption=\"ANOVA table based on the mixed-effects linear regression describing response time as a function of TTA and distance to the overtaking vehicle and the time budget provided by the merging lane. Random slope of decision was included per participant: \\\\texttt{RT $\\sim$ 1 + decision*(TTA*time budget + distance) + (1 + decision) | participant}.\"\n",
    "     )\n",
    ")"
   ],
   "metadata": {
    "collapsed": false,
    "ExecuteTime": {
     "end_time": "2023-10-27T23:17:37.734898700Z",
     "start_time": "2023-10-27T23:17:37.698740400Z"
    }
   }
  },
  {
   "cell_type": "markdown",
   "source": [
    "## Difference between accept and reject RTs"
   ],
   "metadata": {
    "collapsed": false
   }
  },
  {
   "cell_type": "code",
   "execution_count": 65,
   "outputs": [
    {
     "data": {
      "text/plain": "       Contrast  Estimate  2.5_ci  97.5_ci     SE      DF  T-stat  P-val  Sig\n1  Merge - Wait    -1.077  -1.272   -0.881  0.095  23.988 -11.382    0.0  ***",
      "text/html": "<div>\n<style scoped>\n    .dataframe tbody tr th:only-of-type {\n        vertical-align: middle;\n    }\n\n    .dataframe tbody tr th {\n        vertical-align: top;\n    }\n\n    .dataframe thead th {\n        text-align: right;\n    }\n</style>\n<table border=\"1\" class=\"dataframe\">\n  <thead>\n    <tr style=\"text-align: right;\">\n      <th></th>\n      <th>Contrast</th>\n      <th>Estimate</th>\n      <th>2.5_ci</th>\n      <th>97.5_ci</th>\n      <th>SE</th>\n      <th>DF</th>\n      <th>T-stat</th>\n      <th>P-val</th>\n      <th>Sig</th>\n    </tr>\n  </thead>\n  <tbody>\n    <tr>\n      <th>1</th>\n      <td>Merge - Wait</td>\n      <td>-1.077</td>\n      <td>-1.272</td>\n      <td>-0.881</td>\n      <td>0.095</td>\n      <td>23.988</td>\n      <td>-11.382</td>\n      <td>0.0</td>\n      <td>***</td>\n    </tr>\n  </tbody>\n</table>\n</div>"
     },
     "execution_count": 65,
     "metadata": {},
     "output_type": "execute_result"
    }
   ],
   "source": [
    "# RT_decision_marginal_estimates, RT_decision_comparisons = model_RT.post_hoc(marginal_vars=[\"tta_condition_z\"], grouping_vars=[\"decision\"])\n",
    "RT_decision_marginal_estimates, RT_decision_comparisons = model_RT.post_hoc(marginal_vars=[\"decision\"])\n",
    "RT_decision_comparisons"
   ],
   "metadata": {
    "collapsed": false,
    "ExecuteTime": {
     "end_time": "2023-10-27T23:19:16.515558500Z",
     "start_time": "2023-10-27T23:19:16.252784600Z"
    }
   }
  },
  {
   "cell_type": "code",
   "execution_count": 66,
   "outputs": [
    {
     "data": {
      "text/plain": "1   -0.687359\nName: Estimate, dtype: float64"
     },
     "execution_count": 66,
     "metadata": {},
     "output_type": "execute_result"
    }
   ],
   "source": [
    "RT_decision_comparisons.Estimate*measures.RT.std()"
   ],
   "metadata": {
    "collapsed": false,
    "ExecuteTime": {
     "end_time": "2023-10-27T23:19:48.772452900Z",
     "start_time": "2023-10-27T23:19:48.743374100Z"
    }
   }
  },
  {
   "cell_type": "markdown",
   "source": [
    "## Estimates of condition effects on RT per decision"
   ],
   "metadata": {
    "collapsed": false
   }
  },
  {
   "cell_type": "code",
   "execution_count": 67,
   "outputs": [],
   "source": [
    "def get_marginal_estimates(model_RT, marginal_vars):\n",
    "    marginal_estimates, comparisons = model_RT.post_hoc(marginal_vars=marginal_vars, grouping_vars=[\"decision\"])\n",
    "    marginal_estimates[\"T-stat\"] = marginal_estimates[\"Estimate\"]/marginal_estimates[\"SE\"]\n",
    "    marginal_estimates[\"P-val\"] = scipy.stats.t.sf(np.abs(marginal_estimates[\"T-stat\"]), marginal_estimates.DF)\n",
    "    return marginal_estimates"
   ],
   "metadata": {
    "collapsed": false,
    "ExecuteTime": {
     "end_time": "2023-10-27T23:21:30.080094900Z",
     "start_time": "2023-10-27T23:21:30.058773700Z"
    }
   }
  },
  {
   "cell_type": "code",
   "execution_count": 68,
   "outputs": [
    {
     "data": {
      "text/plain": "  decision  Estimate  2.5_ci  97.5_ci     SE        DF     T-stat  \\\n1    Merge     0.039   0.019    0.059  0.010  8589.916   3.900000   \n2     Wait     0.324   0.286    0.362  0.019  8598.869  17.052632   \n\n          P-val  \n1  4.846282e-05  \n2  1.880770e-64  ",
      "text/html": "<div>\n<style scoped>\n    .dataframe tbody tr th:only-of-type {\n        vertical-align: middle;\n    }\n\n    .dataframe tbody tr th {\n        vertical-align: top;\n    }\n\n    .dataframe thead th {\n        text-align: right;\n    }\n</style>\n<table border=\"1\" class=\"dataframe\">\n  <thead>\n    <tr style=\"text-align: right;\">\n      <th></th>\n      <th>decision</th>\n      <th>Estimate</th>\n      <th>2.5_ci</th>\n      <th>97.5_ci</th>\n      <th>SE</th>\n      <th>DF</th>\n      <th>T-stat</th>\n      <th>P-val</th>\n    </tr>\n  </thead>\n  <tbody>\n    <tr>\n      <th>1</th>\n      <td>Merge</td>\n      <td>0.039</td>\n      <td>0.019</td>\n      <td>0.059</td>\n      <td>0.010</td>\n      <td>8589.916</td>\n      <td>3.900000</td>\n      <td>4.846282e-05</td>\n    </tr>\n    <tr>\n      <th>2</th>\n      <td>Wait</td>\n      <td>0.324</td>\n      <td>0.286</td>\n      <td>0.362</td>\n      <td>0.019</td>\n      <td>8598.869</td>\n      <td>17.052632</td>\n      <td>1.880770e-64</td>\n    </tr>\n  </tbody>\n</table>\n</div>"
     },
     "execution_count": 68,
     "metadata": {},
     "output_type": "execute_result"
    }
   ],
   "source": [
    "get_marginal_estimates(model_RT, \"tta_condition_z\")"
   ],
   "metadata": {
    "collapsed": false,
    "ExecuteTime": {
     "end_time": "2023-10-27T23:21:32.598056100Z",
     "start_time": "2023-10-27T23:21:32.285636100Z"
    }
   }
  },
  {
   "cell_type": "code",
   "execution_count": 69,
   "outputs": [
    {
     "data": {
      "text/plain": "  decision  Estimate  2.5_ci  97.5_ci     SE        DF    T-stat     P-val\n1    Merge    -0.037  -0.055   -0.018  0.009  8579.888 -4.111111  0.000020\n2     Wait     0.055   0.029    0.081  0.013  8597.518  4.230769  0.000012",
      "text/html": "<div>\n<style scoped>\n    .dataframe tbody tr th:only-of-type {\n        vertical-align: middle;\n    }\n\n    .dataframe tbody tr th {\n        vertical-align: top;\n    }\n\n    .dataframe thead th {\n        text-align: right;\n    }\n</style>\n<table border=\"1\" class=\"dataframe\">\n  <thead>\n    <tr style=\"text-align: right;\">\n      <th></th>\n      <th>decision</th>\n      <th>Estimate</th>\n      <th>2.5_ci</th>\n      <th>97.5_ci</th>\n      <th>SE</th>\n      <th>DF</th>\n      <th>T-stat</th>\n      <th>P-val</th>\n    </tr>\n  </thead>\n  <tbody>\n    <tr>\n      <th>1</th>\n      <td>Merge</td>\n      <td>-0.037</td>\n      <td>-0.055</td>\n      <td>-0.018</td>\n      <td>0.009</td>\n      <td>8579.888</td>\n      <td>-4.111111</td>\n      <td>0.000020</td>\n    </tr>\n    <tr>\n      <th>2</th>\n      <td>Wait</td>\n      <td>0.055</td>\n      <td>0.029</td>\n      <td>0.081</td>\n      <td>0.013</td>\n      <td>8597.518</td>\n      <td>4.230769</td>\n      <td>0.000012</td>\n    </tr>\n  </tbody>\n</table>\n</div>"
     },
     "execution_count": 69,
     "metadata": {},
     "output_type": "execute_result"
    }
   ],
   "source": [
    "get_marginal_estimates(model_RT, \"d_condition_z\")"
   ],
   "metadata": {
    "collapsed": false,
    "ExecuteTime": {
     "end_time": "2023-10-27T23:22:55.301550Z",
     "start_time": "2023-10-27T23:22:54.995607100Z"
    }
   }
  },
  {
   "cell_type": "code",
   "execution_count": 70,
   "outputs": [
    {
     "data": {
      "text/plain": "  decision  Estimate  2.5_ci  97.5_ci     SE        DF    T-stat         P-val\n1    Merge     0.057   0.038    0.077  0.010  8579.983  5.700000  6.188545e-09\n2     Wait     0.189   0.152    0.226  0.019  8586.301  9.947368  1.727870e-23",
      "text/html": "<div>\n<style scoped>\n    .dataframe tbody tr th:only-of-type {\n        vertical-align: middle;\n    }\n\n    .dataframe tbody tr th {\n        vertical-align: top;\n    }\n\n    .dataframe thead th {\n        text-align: right;\n    }\n</style>\n<table border=\"1\" class=\"dataframe\">\n  <thead>\n    <tr style=\"text-align: right;\">\n      <th></th>\n      <th>decision</th>\n      <th>Estimate</th>\n      <th>2.5_ci</th>\n      <th>97.5_ci</th>\n      <th>SE</th>\n      <th>DF</th>\n      <th>T-stat</th>\n      <th>P-val</th>\n    </tr>\n  </thead>\n  <tbody>\n    <tr>\n      <th>1</th>\n      <td>Merge</td>\n      <td>0.057</td>\n      <td>0.038</td>\n      <td>0.077</td>\n      <td>0.010</td>\n      <td>8579.983</td>\n      <td>5.700000</td>\n      <td>6.188545e-09</td>\n    </tr>\n    <tr>\n      <th>2</th>\n      <td>Wait</td>\n      <td>0.189</td>\n      <td>0.152</td>\n      <td>0.226</td>\n      <td>0.019</td>\n      <td>8586.301</td>\n      <td>9.947368</td>\n      <td>1.727870e-23</td>\n    </tr>\n  </tbody>\n</table>\n</div>"
     },
     "execution_count": 70,
     "metadata": {},
     "output_type": "execute_result"
    }
   ],
   "source": [
    "get_marginal_estimates(model_RT, \"tta_or_condition_z\")"
   ],
   "metadata": {
    "collapsed": false,
    "ExecuteTime": {
     "end_time": "2023-10-27T23:22:58.227495700Z",
     "start_time": "2023-10-27T23:22:57.938516300Z"
    }
   }
  },
  {
   "cell_type": "markdown",
   "source": [
    "## Estimates of time budget effect per decision and TTA level"
   ],
   "metadata": {
    "collapsed": false
   }
  },
  {
   "cell_type": "code",
   "execution_count": 71,
   "outputs": [],
   "source": [
    "marginal_estimates, comparisons = model_RT.post_hoc(marginal_vars=[\"tta_or_condition_z\"], grouping_vars=[\"decision\", \"tta_condition_z\"])\n",
    "marginal_estimates[\"T-stat\"] = marginal_estimates[\"Estimate\"]/marginal_estimates[\"SE\"]\n",
    "marginal_estimates[\"P-val\"] = scipy.stats.t.sf(np.abs(marginal_estimates[\"T-stat\"]), marginal_estimates.DF)"
   ],
   "metadata": {
    "collapsed": false,
    "ExecuteTime": {
     "end_time": "2023-10-27T23:23:01.155485500Z",
     "start_time": "2023-10-27T23:23:00.853383600Z"
    }
   }
  },
  {
   "cell_type": "code",
   "execution_count": 72,
   "outputs": [
    {
     "data": {
      "text/plain": "  decision  tta_condition_z  Estimate  2.5_ci  97.5_ci     SE        DF  \\\n1    Merge             -1.0     0.013  -0.020    0.046  0.017  8580.044   \n2     Wait             -1.0     0.103   0.075    0.130  0.014  8590.524   \n3    Merge              1.0     0.102   0.080    0.123  0.011  8578.325   \n4     Wait              1.0     0.276   0.207    0.344  0.035  8583.289   \n\n     T-stat         P-val  \n1  0.764706  2.222339e-01  \n2  7.357143  1.025880e-13  \n3  9.272727  1.129338e-20  \n4  7.885714  1.755460e-15  ",
      "text/html": "<div>\n<style scoped>\n    .dataframe tbody tr th:only-of-type {\n        vertical-align: middle;\n    }\n\n    .dataframe tbody tr th {\n        vertical-align: top;\n    }\n\n    .dataframe thead th {\n        text-align: right;\n    }\n</style>\n<table border=\"1\" class=\"dataframe\">\n  <thead>\n    <tr style=\"text-align: right;\">\n      <th></th>\n      <th>decision</th>\n      <th>tta_condition_z</th>\n      <th>Estimate</th>\n      <th>2.5_ci</th>\n      <th>97.5_ci</th>\n      <th>SE</th>\n      <th>DF</th>\n      <th>T-stat</th>\n      <th>P-val</th>\n    </tr>\n  </thead>\n  <tbody>\n    <tr>\n      <th>1</th>\n      <td>Merge</td>\n      <td>-1.0</td>\n      <td>0.013</td>\n      <td>-0.020</td>\n      <td>0.046</td>\n      <td>0.017</td>\n      <td>8580.044</td>\n      <td>0.764706</td>\n      <td>2.222339e-01</td>\n    </tr>\n    <tr>\n      <th>2</th>\n      <td>Wait</td>\n      <td>-1.0</td>\n      <td>0.103</td>\n      <td>0.075</td>\n      <td>0.130</td>\n      <td>0.014</td>\n      <td>8590.524</td>\n      <td>7.357143</td>\n      <td>1.025880e-13</td>\n    </tr>\n    <tr>\n      <th>3</th>\n      <td>Merge</td>\n      <td>1.0</td>\n      <td>0.102</td>\n      <td>0.080</td>\n      <td>0.123</td>\n      <td>0.011</td>\n      <td>8578.325</td>\n      <td>9.272727</td>\n      <td>1.129338e-20</td>\n    </tr>\n    <tr>\n      <th>4</th>\n      <td>Wait</td>\n      <td>1.0</td>\n      <td>0.276</td>\n      <td>0.207</td>\n      <td>0.344</td>\n      <td>0.035</td>\n      <td>8583.289</td>\n      <td>7.885714</td>\n      <td>1.755460e-15</td>\n    </tr>\n  </tbody>\n</table>\n</div>"
     },
     "execution_count": 72,
     "metadata": {},
     "output_type": "execute_result"
    }
   ],
   "source": [
    "marginal_estimates"
   ],
   "metadata": {
    "collapsed": false,
    "ExecuteTime": {
     "end_time": "2023-10-27T23:23:02.613483800Z",
     "start_time": "2023-10-27T23:23:02.585759900Z"
    }
   }
  },
  {
   "cell_type": "markdown",
   "source": [
    "# Including dwell time in the model for decision outcome"
   ],
   "metadata": {
    "collapsed": false
   }
  },
  {
   "cell_type": "code",
   "execution_count": 4,
   "outputs": [
    {
     "name": "stdout",
     "output_type": "stream",
     "text": [
      "Linear mixed model fit by maximum likelihood  ['lmerMod']\n",
      "Formula: is_gap_accepted~d_condition_z+tta_condition_z*tta_or_condition_z*dwell_time_z+(tta_condition_z+d_condition_z+tta_or_condition_z|subj_id)\n",
      "\n",
      "Family: binomial\t Inference: parametric\n",
      "\n",
      "Number of observations: 8634\t Groups: {'subj_id': 24.0}\n",
      "\n",
      "Log-likelihood: -3213.004 \t AIC: 6464.008\n",
      "\n",
      "Random effects:\n",
      "\n",
      "                       Name    Var    Std\n",
      "subj_id         (Intercept)  1.657  1.287\n",
      "subj_id     tta_condition_z  0.261  0.511\n",
      "subj_id       d_condition_z  0.253  0.503\n",
      "subj_id  tta_or_condition_z  0.114  0.338\n",
      "\n",
      "                     IV1                 IV2   Corr\n",
      "subj_id      (Intercept)     tta_condition_z -0.132\n",
      "subj_id      (Intercept)       d_condition_z  0.219\n",
      "subj_id      (Intercept)  tta_or_condition_z -0.138\n",
      "subj_id  tta_condition_z       d_condition_z -0.540\n",
      "subj_id  tta_condition_z  tta_or_condition_z -0.206\n",
      "subj_id    d_condition_z  tta_or_condition_z  0.580\n",
      "\n",
      "Fixed effects:\n"
     ]
    },
    {
     "data": {
      "text/plain": "                                                 Estimate    2.5_ci   97.5_ci  \\\n(Intercept)                                      1.277144  0.751927  1.802361   \nd_condition_z                                    0.542184  0.329556  0.754812   \ntta_condition_z                                  1.828735  1.601117  2.056353   \ntta_or_condition_z                              -0.391190 -0.546368 -0.236013   \ndwell_time_z                                     0.062410 -0.037146  0.161967   \ntta_condition_z:tta_or_condition_z               0.049566 -0.032159  0.131291   \ntta_condition_z:dwell_time_z                     0.066278 -0.029596  0.162151   \ntta_or_condition_z:dwell_time_z                  0.239457  0.150385  0.328528   \ntta_condition_z:tta_or_condition_z:dwell_time_z -0.046320 -0.121023  0.028382   \n\n                                                       SE        OR  \\\n(Intercept)                                      0.267973  3.586382   \nd_condition_z                                    0.108486  1.719759   \ntta_condition_z                                  0.116134  6.226004   \ntta_or_condition_z                               0.079174  0.676251   \ndwell_time_z                                     0.050795  1.064399   \ntta_condition_z:tta_or_condition_z               0.041697  1.050815   \ntta_condition_z:dwell_time_z                     0.048916  1.068523   \ntta_or_condition_z:dwell_time_z                  0.045445  1.270559   \ntta_condition_z:tta_or_condition_z:dwell_time_z  0.038114  0.954736   \n\n                                                 OR_2.5_ci  OR_97.5_ci  \\\n(Intercept)                                       2.121083    6.063945   \nd_condition_z                                     1.390351    2.127212   \ntta_condition_z                                   4.958567    7.817406   \ntta_or_condition_z                                0.579049    0.789770   \ndwell_time_z                                      0.963535    1.175821   \ntta_condition_z:tta_or_condition_z                0.968353    1.140299   \ntta_condition_z:dwell_time_z                      0.970838    1.176038   \ntta_or_condition_z:dwell_time_z                   1.162282    1.388922   \ntta_condition_z:tta_or_condition_z:dwell_time_z   0.886014    1.028789   \n\n                                                     Prob  Prob_2.5_ci  \\\n(Intercept)                                      0.781963     0.679598   \nd_condition_z                                    0.632320     0.581651   \ntta_condition_z                                  0.861611     0.832174   \ntta_or_condition_z                               0.403431     0.366707   \ndwell_time_z                                     0.515597     0.490714   \ntta_condition_z:tta_or_condition_z               0.512389     0.491961   \ntta_condition_z:dwell_time_z                     0.516563     0.492602   \ntta_or_condition_z:dwell_time_z                  0.559580     0.537526   \ntta_condition_z:tta_or_condition_z:dwell_time_z  0.488422     0.469781   \n\n                                                 Prob_97.5_ci     Z-stat  \\\n(Intercept)                                          0.858436   4.765948   \nd_condition_z                                        0.680226   4.997754   \ntta_condition_z                                      0.886588  15.746795   \ntta_or_condition_z                                   0.441269  -4.940920   \ndwell_time_z                                         0.540403   1.228663   \ntta_condition_z:tta_or_condition_z                   0.532776   1.188719   \ntta_condition_z:dwell_time_z                         0.540449   1.354929   \ntta_or_condition_z:dwell_time_z                      0.581401   5.269113   \ntta_condition_z:tta_or_condition_z:dwell_time_z      0.507095  -1.215300   \n\n                                                        P-val  Sig  \n(Intercept)                                      1.879680e-06  ***  \nd_condition_z                                    5.800192e-07  ***  \ntta_condition_z                                  7.225156e-56  ***  \ntta_or_condition_z                               7.775490e-07  ***  \ndwell_time_z                                     2.191980e-01       \ntta_condition_z:tta_or_condition_z               2.345503e-01       \ntta_condition_z:dwell_time_z                     1.754400e-01       \ntta_or_condition_z:dwell_time_z                  1.370847e-07  ***  \ntta_condition_z:tta_or_condition_z:dwell_time_z  2.242518e-01       ",
      "text/html": "<div>\n<style scoped>\n    .dataframe tbody tr th:only-of-type {\n        vertical-align: middle;\n    }\n\n    .dataframe tbody tr th {\n        vertical-align: top;\n    }\n\n    .dataframe thead th {\n        text-align: right;\n    }\n</style>\n<table border=\"1\" class=\"dataframe\">\n  <thead>\n    <tr style=\"text-align: right;\">\n      <th></th>\n      <th>Estimate</th>\n      <th>2.5_ci</th>\n      <th>97.5_ci</th>\n      <th>SE</th>\n      <th>OR</th>\n      <th>OR_2.5_ci</th>\n      <th>OR_97.5_ci</th>\n      <th>Prob</th>\n      <th>Prob_2.5_ci</th>\n      <th>Prob_97.5_ci</th>\n      <th>Z-stat</th>\n      <th>P-val</th>\n      <th>Sig</th>\n    </tr>\n  </thead>\n  <tbody>\n    <tr>\n      <th>(Intercept)</th>\n      <td>1.277144</td>\n      <td>0.751927</td>\n      <td>1.802361</td>\n      <td>0.267973</td>\n      <td>3.586382</td>\n      <td>2.121083</td>\n      <td>6.063945</td>\n      <td>0.781963</td>\n      <td>0.679598</td>\n      <td>0.858436</td>\n      <td>4.765948</td>\n      <td>1.879680e-06</td>\n      <td>***</td>\n    </tr>\n    <tr>\n      <th>d_condition_z</th>\n      <td>0.542184</td>\n      <td>0.329556</td>\n      <td>0.754812</td>\n      <td>0.108486</td>\n      <td>1.719759</td>\n      <td>1.390351</td>\n      <td>2.127212</td>\n      <td>0.632320</td>\n      <td>0.581651</td>\n      <td>0.680226</td>\n      <td>4.997754</td>\n      <td>5.800192e-07</td>\n      <td>***</td>\n    </tr>\n    <tr>\n      <th>tta_condition_z</th>\n      <td>1.828735</td>\n      <td>1.601117</td>\n      <td>2.056353</td>\n      <td>0.116134</td>\n      <td>6.226004</td>\n      <td>4.958567</td>\n      <td>7.817406</td>\n      <td>0.861611</td>\n      <td>0.832174</td>\n      <td>0.886588</td>\n      <td>15.746795</td>\n      <td>7.225156e-56</td>\n      <td>***</td>\n    </tr>\n    <tr>\n      <th>tta_or_condition_z</th>\n      <td>-0.391190</td>\n      <td>-0.546368</td>\n      <td>-0.236013</td>\n      <td>0.079174</td>\n      <td>0.676251</td>\n      <td>0.579049</td>\n      <td>0.789770</td>\n      <td>0.403431</td>\n      <td>0.366707</td>\n      <td>0.441269</td>\n      <td>-4.940920</td>\n      <td>7.775490e-07</td>\n      <td>***</td>\n    </tr>\n    <tr>\n      <th>dwell_time_z</th>\n      <td>0.062410</td>\n      <td>-0.037146</td>\n      <td>0.161967</td>\n      <td>0.050795</td>\n      <td>1.064399</td>\n      <td>0.963535</td>\n      <td>1.175821</td>\n      <td>0.515597</td>\n      <td>0.490714</td>\n      <td>0.540403</td>\n      <td>1.228663</td>\n      <td>2.191980e-01</td>\n      <td></td>\n    </tr>\n    <tr>\n      <th>tta_condition_z:tta_or_condition_z</th>\n      <td>0.049566</td>\n      <td>-0.032159</td>\n      <td>0.131291</td>\n      <td>0.041697</td>\n      <td>1.050815</td>\n      <td>0.968353</td>\n      <td>1.140299</td>\n      <td>0.512389</td>\n      <td>0.491961</td>\n      <td>0.532776</td>\n      <td>1.188719</td>\n      <td>2.345503e-01</td>\n      <td></td>\n    </tr>\n    <tr>\n      <th>tta_condition_z:dwell_time_z</th>\n      <td>0.066278</td>\n      <td>-0.029596</td>\n      <td>0.162151</td>\n      <td>0.048916</td>\n      <td>1.068523</td>\n      <td>0.970838</td>\n      <td>1.176038</td>\n      <td>0.516563</td>\n      <td>0.492602</td>\n      <td>0.540449</td>\n      <td>1.354929</td>\n      <td>1.754400e-01</td>\n      <td></td>\n    </tr>\n    <tr>\n      <th>tta_or_condition_z:dwell_time_z</th>\n      <td>0.239457</td>\n      <td>0.150385</td>\n      <td>0.328528</td>\n      <td>0.045445</td>\n      <td>1.270559</td>\n      <td>1.162282</td>\n      <td>1.388922</td>\n      <td>0.559580</td>\n      <td>0.537526</td>\n      <td>0.581401</td>\n      <td>5.269113</td>\n      <td>1.370847e-07</td>\n      <td>***</td>\n    </tr>\n    <tr>\n      <th>tta_condition_z:tta_or_condition_z:dwell_time_z</th>\n      <td>-0.046320</td>\n      <td>-0.121023</td>\n      <td>0.028382</td>\n      <td>0.038114</td>\n      <td>0.954736</td>\n      <td>0.886014</td>\n      <td>1.028789</td>\n      <td>0.488422</td>\n      <td>0.469781</td>\n      <td>0.507095</td>\n      <td>-1.215300</td>\n      <td>2.242518e-01</td>\n      <td></td>\n    </tr>\n  </tbody>\n</table>\n</div>"
     },
     "execution_count": 4,
     "metadata": {},
     "output_type": "execute_result"
    }
   ],
   "source": [
    "model_decision_dwell = pymer4.models.Lmer(\"is_gap_accepted ~ d_condition_z + tta_condition_z*tta_or_condition_z*dwell_time_z + (tta_condition_z + d_condition_z + tta_or_condition_z | subj_id) \", data=measures, family=\"binomial\")\n",
    "model_decision_dwell_fit = model_decision_dwell.fit(summarize=True)\n",
    "model_decision_dwell.coefs"
   ],
   "metadata": {
    "collapsed": false,
    "pycharm": {
     "name": "#%%\n"
    },
    "ExecuteTime": {
     "end_time": "2023-11-16T16:01:30.968380300Z",
     "start_time": "2023-11-16T16:00:55.036059500Z"
    }
   }
  },
  {
   "cell_type": "code",
   "execution_count": null,
   "outputs": [],
   "source": [
    "df = model_decision_dwell.coefs.loc[:, [\"Estimate\", \"SE\", \"Z-stat\", \"P-val\"]]\n",
    "\n",
    "df[\"P-val\"] = df[\"P-val\"].apply(p_formatted)\n",
    "\n",
    "styler = df.rename(columns=column_names, index=var_names).style.format(precision=2)\n",
    "\n",
    "with open('C:\\\\Users\\\\azgonnikov\\\\Dropbox\\\\Apps\\\\Overleaf\\\\AAP Dynamics of merging decisions Elsevier template\\\\tab_decision_dwell.tex', 'w') as tf:\n",
    "     tf.write(styler.to_latex(\n",
    "         column_format=\"rrrrr\", position=\"h\", position_float=\"centering\",\n",
    "         hrules=True, label=\"tab:decision_dwell\", caption=\"Coefficients of the mixed-effects logistic regression describing the decision outcome as a function of kinematic variables and relative dwell time. Random slopes of TTA and distance to the overtaking vehicle and the time budget provided by the merging lane were included per participant: \\\\texttt{decision $\\sim$ 1 + distance + (TTA * time budget * \\\\% dwell time mirror) + (1 + distance + TTA + time budget) | participant}.\"\n",
    "     )\n",
    ")"
   ],
   "metadata": {
    "collapsed": false
   }
  },
  {
   "cell_type": "markdown",
   "source": [
    "# Including dwell time and RT in the model for decision outcome"
   ],
   "metadata": {
    "collapsed": false
   }
  },
  {
   "cell_type": "code",
   "execution_count": 14,
   "outputs": [
    {
     "name": "stdout",
     "output_type": "stream",
     "text": [
      "Linear mixed model fit by maximum likelihood  ['lmerMod']\n",
      "Formula: is_gap_accepted~RT_z+d_condition_z+tta_condition_z*tta_or_condition_z*dwell_time_z+(tta_condition_z+tta_or_condition_z|subj_id)\n",
      "\n",
      "Family: binomial\t Inference: parametric\n",
      "\n",
      "Number of observations: 8634\t Groups: {'subj_id': 24.0}\n",
      "\n",
      "Log-likelihood: -2506.973 \t AIC: 5045.945\n",
      "\n",
      "Random effects:\n",
      "\n",
      "                       Name    Var    Std\n",
      "subj_id         (Intercept)  2.418  1.555\n",
      "subj_id     tta_condition_z  0.597  0.772\n",
      "subj_id  tta_or_condition_z  0.089  0.298\n",
      "\n",
      "                     IV1                 IV2   Corr\n",
      "subj_id      (Intercept)     tta_condition_z  0.443\n",
      "subj_id      (Intercept)  tta_or_condition_z -0.339\n",
      "subj_id  tta_condition_z  tta_or_condition_z -0.202\n",
      "\n",
      "Fixed effects:\n"
     ]
    },
    {
     "data": {
      "text/plain": "                                                 Estimate    2.5_ci   97.5_ci  \\\n(Intercept)                                      1.663192  1.027145  2.299238   \nRT_z                                            -1.962961 -2.085965 -1.839958   \nd_condition_z                                    0.506926  0.433030  0.580822   \ntta_condition_z                                  2.173222  1.836484  2.509960   \ntta_or_condition_z                              -0.189079 -0.339501 -0.038656   \ndwell_time_z                                    -0.335440 -0.459929 -0.210952   \ntta_condition_z:tta_or_condition_z               0.159515  0.065350  0.253680   \ntta_condition_z:dwell_time_z                     0.101408 -0.018611  0.221428   \ntta_or_condition_z:dwell_time_z                  0.233493  0.128505  0.338481   \ntta_condition_z:tta_or_condition_z:dwell_time_z -0.011502 -0.099915  0.076910   \n\n                                                       SE        OR  \\\n(Intercept)                                      0.324519  5.276125   \nRT_z                                             0.062758  0.140442   \nd_condition_z                                    0.037703  1.660180   \ntta_condition_z                                  0.171808  8.786550   \ntta_or_condition_z                               0.076748  0.827721   \ndwell_time_z                                     0.063516  0.715023   \ntta_condition_z:tta_or_condition_z               0.048044  1.172942   \ntta_condition_z:dwell_time_z                     0.061236  1.106729   \ntta_or_condition_z:dwell_time_z                  0.053566  1.263004   \ntta_condition_z:tta_or_condition_z:dwell_time_z  0.045109  0.988563   \n\n                                                 OR_2.5_ci  OR_97.5_ci  \\\n(Intercept)                                       2.793081    9.966587   \nRT_z                                              0.124187    0.158824   \nd_condition_z                                     1.541923    1.787506   \ntta_condition_z                                   6.274438   12.304440   \ntta_or_condition_z                                0.712125    0.962081   \ndwell_time_z                                      0.631329    0.809813   \ntta_condition_z:tta_or_condition_z                1.067533    1.288760   \ntta_condition_z:dwell_time_z                      0.981561    1.247857   \ntta_or_condition_z:dwell_time_z                   1.137127    1.402815   \ntta_condition_z:tta_or_condition_z:dwell_time_z   0.904914    1.079945   \n\n                                                     Prob  Prob_2.5_ci  \\\n(Intercept)                                      0.840666     0.736362   \nRT_z                                             0.123147     0.110468   \nd_condition_z                                    0.624086     0.606597   \ntta_condition_z                                  0.897819     0.862532   \ntta_or_condition_z                               0.452871     0.415931   \ndwell_time_z                                     0.416918     0.387003   \ntta_condition_z:tta_or_condition_z               0.539794     0.516332   \ntta_condition_z:dwell_time_z                     0.525330     0.495347   \ntta_or_condition_z:dwell_time_z                  0.558109     0.532082   \ntta_condition_z:tta_or_condition_z:dwell_time_z  0.497124     0.475042   \n\n                                                 Prob_97.5_ci     Z-stat  \\\n(Intercept)                                          0.908814   5.125092   \nRT_z                                                 0.137056 -31.278204   \nd_condition_z                                        0.641256  13.445386   \ntta_condition_z                                      0.924837  12.649109   \ntta_or_condition_z                                   0.490337  -2.463643   \ndwell_time_z                                         0.447457  -5.281213   \ntta_condition_z:tta_or_condition_z                   0.563082   3.320177   \ntta_condition_z:dwell_time_z                         0.555132   1.656039   \ntta_or_condition_z:dwell_time_z                      0.583822   4.358954   \ntta_condition_z:tta_or_condition_z:dwell_time_z      0.519218  -0.254991   \n\n                                                         P-val  Sig  \n(Intercept)                                       2.973929e-07  ***  \nRT_z                                             9.235252e-215  ***  \nd_condition_z                                     3.276920e-41  ***  \ntta_condition_z                                   1.131509e-36  ***  \ntta_or_condition_z                                1.375330e-02    *  \ndwell_time_z                                      1.283313e-07  ***  \ntta_condition_z:tta_or_condition_z                8.996034e-04  ***  \ntta_condition_z:dwell_time_z                      9.771382e-02    .  \ntta_or_condition_z:dwell_time_z                   1.306857e-05  ***  \ntta_condition_z:tta_or_condition_z:dwell_time_z   7.987297e-01       ",
      "text/html": "<div>\n<style scoped>\n    .dataframe tbody tr th:only-of-type {\n        vertical-align: middle;\n    }\n\n    .dataframe tbody tr th {\n        vertical-align: top;\n    }\n\n    .dataframe thead th {\n        text-align: right;\n    }\n</style>\n<table border=\"1\" class=\"dataframe\">\n  <thead>\n    <tr style=\"text-align: right;\">\n      <th></th>\n      <th>Estimate</th>\n      <th>2.5_ci</th>\n      <th>97.5_ci</th>\n      <th>SE</th>\n      <th>OR</th>\n      <th>OR_2.5_ci</th>\n      <th>OR_97.5_ci</th>\n      <th>Prob</th>\n      <th>Prob_2.5_ci</th>\n      <th>Prob_97.5_ci</th>\n      <th>Z-stat</th>\n      <th>P-val</th>\n      <th>Sig</th>\n    </tr>\n  </thead>\n  <tbody>\n    <tr>\n      <th>(Intercept)</th>\n      <td>1.663192</td>\n      <td>1.027145</td>\n      <td>2.299238</td>\n      <td>0.324519</td>\n      <td>5.276125</td>\n      <td>2.793081</td>\n      <td>9.966587</td>\n      <td>0.840666</td>\n      <td>0.736362</td>\n      <td>0.908814</td>\n      <td>5.125092</td>\n      <td>2.973929e-07</td>\n      <td>***</td>\n    </tr>\n    <tr>\n      <th>RT_z</th>\n      <td>-1.962961</td>\n      <td>-2.085965</td>\n      <td>-1.839958</td>\n      <td>0.062758</td>\n      <td>0.140442</td>\n      <td>0.124187</td>\n      <td>0.158824</td>\n      <td>0.123147</td>\n      <td>0.110468</td>\n      <td>0.137056</td>\n      <td>-31.278204</td>\n      <td>9.235252e-215</td>\n      <td>***</td>\n    </tr>\n    <tr>\n      <th>d_condition_z</th>\n      <td>0.506926</td>\n      <td>0.433030</td>\n      <td>0.580822</td>\n      <td>0.037703</td>\n      <td>1.660180</td>\n      <td>1.541923</td>\n      <td>1.787506</td>\n      <td>0.624086</td>\n      <td>0.606597</td>\n      <td>0.641256</td>\n      <td>13.445386</td>\n      <td>3.276920e-41</td>\n      <td>***</td>\n    </tr>\n    <tr>\n      <th>tta_condition_z</th>\n      <td>2.173222</td>\n      <td>1.836484</td>\n      <td>2.509960</td>\n      <td>0.171808</td>\n      <td>8.786550</td>\n      <td>6.274438</td>\n      <td>12.304440</td>\n      <td>0.897819</td>\n      <td>0.862532</td>\n      <td>0.924837</td>\n      <td>12.649109</td>\n      <td>1.131509e-36</td>\n      <td>***</td>\n    </tr>\n    <tr>\n      <th>tta_or_condition_z</th>\n      <td>-0.189079</td>\n      <td>-0.339501</td>\n      <td>-0.038656</td>\n      <td>0.076748</td>\n      <td>0.827721</td>\n      <td>0.712125</td>\n      <td>0.962081</td>\n      <td>0.452871</td>\n      <td>0.415931</td>\n      <td>0.490337</td>\n      <td>-2.463643</td>\n      <td>1.375330e-02</td>\n      <td>*</td>\n    </tr>\n    <tr>\n      <th>dwell_time_z</th>\n      <td>-0.335440</td>\n      <td>-0.459929</td>\n      <td>-0.210952</td>\n      <td>0.063516</td>\n      <td>0.715023</td>\n      <td>0.631329</td>\n      <td>0.809813</td>\n      <td>0.416918</td>\n      <td>0.387003</td>\n      <td>0.447457</td>\n      <td>-5.281213</td>\n      <td>1.283313e-07</td>\n      <td>***</td>\n    </tr>\n    <tr>\n      <th>tta_condition_z:tta_or_condition_z</th>\n      <td>0.159515</td>\n      <td>0.065350</td>\n      <td>0.253680</td>\n      <td>0.048044</td>\n      <td>1.172942</td>\n      <td>1.067533</td>\n      <td>1.288760</td>\n      <td>0.539794</td>\n      <td>0.516332</td>\n      <td>0.563082</td>\n      <td>3.320177</td>\n      <td>8.996034e-04</td>\n      <td>***</td>\n    </tr>\n    <tr>\n      <th>tta_condition_z:dwell_time_z</th>\n      <td>0.101408</td>\n      <td>-0.018611</td>\n      <td>0.221428</td>\n      <td>0.061236</td>\n      <td>1.106729</td>\n      <td>0.981561</td>\n      <td>1.247857</td>\n      <td>0.525330</td>\n      <td>0.495347</td>\n      <td>0.555132</td>\n      <td>1.656039</td>\n      <td>9.771382e-02</td>\n      <td>.</td>\n    </tr>\n    <tr>\n      <th>tta_or_condition_z:dwell_time_z</th>\n      <td>0.233493</td>\n      <td>0.128505</td>\n      <td>0.338481</td>\n      <td>0.053566</td>\n      <td>1.263004</td>\n      <td>1.137127</td>\n      <td>1.402815</td>\n      <td>0.558109</td>\n      <td>0.532082</td>\n      <td>0.583822</td>\n      <td>4.358954</td>\n      <td>1.306857e-05</td>\n      <td>***</td>\n    </tr>\n    <tr>\n      <th>tta_condition_z:tta_or_condition_z:dwell_time_z</th>\n      <td>-0.011502</td>\n      <td>-0.099915</td>\n      <td>0.076910</td>\n      <td>0.045109</td>\n      <td>0.988563</td>\n      <td>0.904914</td>\n      <td>1.079945</td>\n      <td>0.497124</td>\n      <td>0.475042</td>\n      <td>0.519218</td>\n      <td>-0.254991</td>\n      <td>7.987297e-01</td>\n      <td></td>\n    </tr>\n  </tbody>\n</table>\n</div>"
     },
     "execution_count": 14,
     "metadata": {},
     "output_type": "execute_result"
    }
   ],
   "source": [
    "model_decision_dwell = pymer4.models.Lmer(\"is_gap_accepted ~ RT_z + d_condition_z + tta_condition_z*tta_or_condition_z*dwell_time_z + (tta_condition_z + tta_or_condition_z | subj_id) \", data=measures, family=\"binomial\")\n",
    "model_decision_dwell_fit = model_decision_dwell.fit(summarize=True)\n",
    "model_decision_dwell.coefs"
   ],
   "metadata": {
    "collapsed": false,
    "ExecuteTime": {
     "end_time": "2023-11-16T16:21:38.144956800Z",
     "start_time": "2023-11-16T16:20:56.906644300Z"
    }
   }
  },
  {
   "cell_type": "code",
   "execution_count": 17,
   "outputs": [],
   "source": [
    "df = model_decision_dwell.coefs.loc[:, [\"Estimate\", \"SE\", \"Z-stat\", \"P-val\"]]\n",
    "\n",
    "df[\"P-val\"] = df[\"P-val\"].apply(p_formatted)\n",
    "\n",
    "styler = df.rename(columns=column_names, index=var_names).style.format(precision=2)\n",
    "\n",
    "with open('C:\\\\Users\\\\azgonnikov\\\\Dropbox\\\\Apps\\\\Overleaf\\\\AAP Dynamics of merging decisions Elsevier template\\\\tab_decision_dwell_RT.tex', 'w') as tf:\n",
    "     tf.write(styler.to_latex(\n",
    "         column_format=\"rrrrr\", position=\"h\", position_float=\"centering\",\n",
    "         hrules=True, label=\"tab:decision_dwell\", caption=\"Coefficients of the mixed-effects logistic regression describing the decision outcome as a function of kinematic variables, response time, and relative dwell time. Random slopes of TTA to the overtaking vehicle and the time budget provided by the merging lane were included per participant: \\\\texttt{decision $\\sim$ 1 + distance + (TTA * time budget * \\\\% dwell time mirror) + (1 + TTA + time budget) | participant}.\"\n",
    "     )\n",
    ")"
   ],
   "metadata": {
    "collapsed": false,
    "ExecuteTime": {
     "end_time": "2023-11-16T17:00:49.756661100Z",
     "start_time": "2023-11-16T17:00:49.672985800Z"
    }
   }
  }
 ],
 "metadata": {
  "kernelspec": {
   "display_name": "Python 3",
   "language": "python",
   "name": "python3"
  },
  "language_info": {
   "codemirror_mode": {
    "name": "ipython",
    "version": 2
   },
   "file_extension": ".py",
   "mimetype": "text/x-python",
   "name": "python",
   "nbconvert_exporter": "python",
   "pygments_lexer": "ipython2",
   "version": "2.7.6"
  }
 },
 "nbformat": 4,
 "nbformat_minor": 0
}
