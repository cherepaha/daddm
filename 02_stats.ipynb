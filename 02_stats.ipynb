{
 "cells": [
  {
   "cell_type": "code",
   "execution_count": 1,
   "metadata": {
    "collapsed": true,
    "ExecuteTime": {
     "end_time": "2023-11-21T22:31:05.821187700Z",
     "start_time": "2023-11-21T22:31:01.560411600Z"
    }
   },
   "outputs": [],
   "source": [
    "import pandas as pd\n",
    "import pymer4.models\n",
    "import numpy as np\n",
    "import scipy.stats\n",
    "import os"
   ]
  },
  {
   "cell_type": "markdown",
   "source": [
    "# Output and formatting settings"
   ],
   "metadata": {
    "collapsed": false
   }
  },
  {
   "cell_type": "code",
   "execution_count": 2,
   "outputs": [],
   "source": [
    "column_names = {\"Estimate\": \"$\\\\beta$\", \"Z-stat\": \"$z$\", \"P-val\": \"$p$\", \"T-stat\": \"$t$\", \"F-stat\": \"$F$\", \"2.5_ci\": \"CI 2.5\\%\", \"97.5_ci\": \"CI 97.5\\%\", \"NumDF\": \"df\"}\n",
    "var_names = {\"tta_z\": \"$\\\\textrm{TTA}$\",\n",
    "             \"d_z\": \"distance\",\n",
    "             \"time_budget_z\": \"time budget\",\n",
    "             \"decision1\": \"decision\",\n",
    "             \"dwell_mirror_z\": \"\\% dwell time mirror\",\n",
    "             \"RT_z\": \"RT\",\n",
    "             \"tta_z:time_budget_z\": \"$\\\\textrm{TTA}$:time budget\",\n",
    "             \"d_z:dwell_mirror_z\": \"distance:\\% dwell time mirror\",\n",
    "             \"tta_z:dwell_mirror_z\": \"$\\\\textrm{TTA}$:\\% dwell time mirror\",\n",
    "             \"time_budget_z:dwell_mirror_z\": \"time budget:\\% dwell time mirror\",\n",
    "             \"tta_z:time_budget_z:dwell_mirror_z\": \"$\\\\textrm{TTA}$:time budget:\\% dwell time mirror\",\n",
    "             \"decision1:d_z\": \"decision:distance\",\n",
    "             \"decision1:tta_z\": \"decision:$\\\\textrm{TTA}$\",\n",
    "             \"decision1:time_budget_z\": \"decision:time budget\",\n",
    "             \"decision1:tta_z:time_budget_z\": \"decision:$\\\\textrm{TTA}$:time budget\"}\n",
    "\n",
    "def p_formatted(p):\n",
    "    if p>0.01:\n",
    "        return \"{:.2f}\".format(p)\n",
    "    elif p>0.001:\n",
    "        return \"{:.3f}\".format(p)\n",
    "    else:\n",
    "        return \"$<0.001$\""
   ],
   "metadata": {
    "collapsed": false,
    "ExecuteTime": {
     "end_time": "2023-11-21T22:31:05.837933Z",
     "start_time": "2023-11-21T22:31:05.824185800Z"
    }
   }
  },
  {
   "cell_type": "markdown",
   "source": [
    "# Read and pre-process the data"
   ],
   "metadata": {
    "collapsed": false
   }
  },
  {
   "cell_type": "code",
   "execution_count": 3,
   "outputs": [],
   "source": [
    "output_path = \"C:\\\\Users\\\\azgonnikov\\\\Dropbox\\\\Apps\\\\Overleaf\\\\AAP Dynamics of merging decisions Elsevier template\"\n",
    "\n",
    "processed_data_path = \"data/processed/\" \n",
    "data = pd.read_csv(os.path.join(processed_data_path, \"processed_eye_data.csv\"))\n",
    "metrics = pd.read_csv(os.path.join(processed_data_path, \"metrics.csv\"))\n",
    "\n",
    "def get_z_score(x):\n",
    "    return (x-x.mean())/x.std()\n",
    "\n",
    "for col in [\"RT\", \"d\", \"tta\", \"time_budget\", \"dwell_mirror\"]:\n",
    "    metrics.loc[:, col+\"_z\"] = get_z_score(metrics[col]) "
   ],
   "metadata": {
    "collapsed": false,
    "ExecuteTime": {
     "end_time": "2023-11-21T22:31:06.741387500Z",
     "start_time": "2023-11-21T22:31:05.840930900Z"
    }
   }
  },
  {
   "cell_type": "markdown",
   "source": [
    "# Decision outcome as a function of kinematic conditions"
   ],
   "metadata": {
    "collapsed": false,
    "pycharm": {
     "name": "#%% md\n"
    }
   }
  },
  {
   "cell_type": "code",
   "execution_count": 4,
   "outputs": [
    {
     "name": "stdout",
     "output_type": "stream",
     "text": [
      "Linear mixed model fit by maximum likelihood  ['lmerMod']\n",
      "Formula: is_gap_accepted~1+d_z+tta_z+time_budget_z+(1+tta_z+time_budget_z+d_z|participant)\n",
      "\n",
      "Family: binomial\t Inference: parametric\n",
      "\n",
      "Number of observations: 9354\t Groups: {'participant': 26.0}\n",
      "\n",
      "Log-likelihood: -3470.421 \t AIC: 6968.843\n",
      "\n",
      "Random effects:\n",
      "\n",
      "                      Name    Var    Std\n",
      "participant    (Intercept)  1.628  1.276\n",
      "participant          tta_z  0.264  0.514\n",
      "participant  time_budget_z  0.216  0.465\n",
      "participant            d_z  0.257  0.507\n",
      "\n",
      "                       IV1            IV2   Corr\n",
      "participant    (Intercept)          tta_z -0.190\n",
      "participant    (Intercept)  time_budget_z -0.209\n",
      "participant    (Intercept)            d_z  0.281\n",
      "participant          tta_z  time_budget_z -0.198\n",
      "participant          tta_z            d_z -0.596\n",
      "participant  time_budget_z            d_z  0.450\n",
      "\n",
      "Fixed effects:\n"
     ]
    },
    {
     "data": {
      "text/plain": "               Estimate    2.5_ci   97.5_ci        SE        OR  OR_2.5_ci  \\\n(Intercept)    1.235310  0.735969  1.734650  0.254770  3.439443   2.087504   \nd_z            0.496873  0.291231  0.702515  0.104921  1.643573   1.338074   \ntta_z          1.877860  1.659007  2.096714  0.111662  6.539498   5.254090   \ntime_budget_z -0.454711 -0.644824 -0.264598  0.096998  0.634631   0.524755   \n\n               OR_97.5_ci      Prob  Prob_2.5_ci  Prob_97.5_ci     Z-stat  \\\n(Intercept)      5.666943  0.774747     0.676114      0.850006   4.848722   \nd_z              2.018823  0.621724     0.572297      0.668745   4.735676   \ntta_z            8.139379  0.867365     0.840105      0.890583  16.817361   \ntime_budget_z    0.767514  0.388241     0.344157      0.434234  -4.687834   \n\n                      P-val  Sig  \n(Intercept)    1.242594e-06  ***  \nd_z            2.183258e-06  ***  \ntta_z          1.820900e-63  ***  \ntime_budget_z  2.761124e-06  ***  ",
      "text/html": "<div>\n<style scoped>\n    .dataframe tbody tr th:only-of-type {\n        vertical-align: middle;\n    }\n\n    .dataframe tbody tr th {\n        vertical-align: top;\n    }\n\n    .dataframe thead th {\n        text-align: right;\n    }\n</style>\n<table border=\"1\" class=\"dataframe\">\n  <thead>\n    <tr style=\"text-align: right;\">\n      <th></th>\n      <th>Estimate</th>\n      <th>2.5_ci</th>\n      <th>97.5_ci</th>\n      <th>SE</th>\n      <th>OR</th>\n      <th>OR_2.5_ci</th>\n      <th>OR_97.5_ci</th>\n      <th>Prob</th>\n      <th>Prob_2.5_ci</th>\n      <th>Prob_97.5_ci</th>\n      <th>Z-stat</th>\n      <th>P-val</th>\n      <th>Sig</th>\n    </tr>\n  </thead>\n  <tbody>\n    <tr>\n      <th>(Intercept)</th>\n      <td>1.235310</td>\n      <td>0.735969</td>\n      <td>1.734650</td>\n      <td>0.254770</td>\n      <td>3.439443</td>\n      <td>2.087504</td>\n      <td>5.666943</td>\n      <td>0.774747</td>\n      <td>0.676114</td>\n      <td>0.850006</td>\n      <td>4.848722</td>\n      <td>1.242594e-06</td>\n      <td>***</td>\n    </tr>\n    <tr>\n      <th>d_z</th>\n      <td>0.496873</td>\n      <td>0.291231</td>\n      <td>0.702515</td>\n      <td>0.104921</td>\n      <td>1.643573</td>\n      <td>1.338074</td>\n      <td>2.018823</td>\n      <td>0.621724</td>\n      <td>0.572297</td>\n      <td>0.668745</td>\n      <td>4.735676</td>\n      <td>2.183258e-06</td>\n      <td>***</td>\n    </tr>\n    <tr>\n      <th>tta_z</th>\n      <td>1.877860</td>\n      <td>1.659007</td>\n      <td>2.096714</td>\n      <td>0.111662</td>\n      <td>6.539498</td>\n      <td>5.254090</td>\n      <td>8.139379</td>\n      <td>0.867365</td>\n      <td>0.840105</td>\n      <td>0.890583</td>\n      <td>16.817361</td>\n      <td>1.820900e-63</td>\n      <td>***</td>\n    </tr>\n    <tr>\n      <th>time_budget_z</th>\n      <td>-0.454711</td>\n      <td>-0.644824</td>\n      <td>-0.264598</td>\n      <td>0.096998</td>\n      <td>0.634631</td>\n      <td>0.524755</td>\n      <td>0.767514</td>\n      <td>0.388241</td>\n      <td>0.344157</td>\n      <td>0.434234</td>\n      <td>-4.687834</td>\n      <td>2.761124e-06</td>\n      <td>***</td>\n    </tr>\n  </tbody>\n</table>\n</div>"
     },
     "execution_count": 4,
     "metadata": {},
     "output_type": "execute_result"
    }
   ],
   "source": [
    "model_decision = pymer4.models.Lmer(\"is_gap_accepted ~ 1 + d_z + tta_z + time_budget_z + (1 + tta_z + time_budget_z + d_z | participant)\", data=metrics, family=\"binomial\")\n",
    "model_decision_fit = model_decision.fit(summarize=True)\n",
    "model_decision.coefs"
   ],
   "metadata": {
    "collapsed": false,
    "pycharm": {
     "name": "#%%\n"
    },
    "ExecuteTime": {
     "end_time": "2023-11-21T22:31:31.648088900Z",
     "start_time": "2023-11-21T22:31:06.740387400Z"
    }
   }
  },
  {
   "cell_type": "code",
   "execution_count": 5,
   "outputs": [],
   "source": [
    "coefs = model_decision.coefs.loc[:, [\"Estimate\", \"SE\", \"Z-stat\", \"P-val\"]]\n",
    "coefs[\"P-val\"] = coefs[\"P-val\"].apply(p_formatted)\n",
    "styler = coefs.rename(columns=column_names, index=var_names).style.format(precision=2)\n",
    "\n",
    "with open(os.path.join(output_path, \"tab_decision.tex\"), 'w') as writer:\n",
    "     writer.write(styler.to_latex(\n",
    "         column_format=\"rrrrr\", position=\"h\", position_float=\"centering\",\n",
    "         hrules=True, label=\"tab:decision\", caption=\"Standardized coefficients of the mixed-effects logistic regression describing the final decision. All effects were modelled as random slopes per participant: \\\\texttt{decision $\\sim$ 1 + distance + TTA + time budget + (1 + distance + TTA + time budget) | participant}.\"\n",
    "     )\n",
    ")"
   ],
   "metadata": {
    "collapsed": false,
    "ExecuteTime": {
     "end_time": "2023-11-21T22:31:31.749711600Z",
     "start_time": "2023-11-21T22:31:31.644370900Z"
    }
   }
  },
  {
   "cell_type": "markdown",
   "source": [
    "# Response time"
   ],
   "metadata": {
    "collapsed": false
   }
  },
  {
   "cell_type": "code",
   "execution_count": 6,
   "outputs": [
    {
     "name": "stdout",
     "output_type": "stream",
     "text": [
      "Linear mixed model fit by REML [’lmerMod’]\n",
      "Formula: RT_z~1+decision*(d_z+tta_z*time_budget_z)+(decision|participant)\n",
      "\n",
      "Family: gaussian\t Inference: parametric\n",
      "\n",
      "Number of observations: 9354\t Groups: {'participant': 26.0}\n",
      "\n",
      "Log-likelihood: -10000.986 \t AIC: 20029.971\n",
      "\n",
      "Random effects:\n",
      "\n",
      "                       Name    Var    Std\n",
      "participant     (Intercept)  0.332  0.576\n",
      "participant  decisionReject  0.213  0.462\n",
      "Residual                     0.482  0.694\n",
      "\n",
      "                     IV1             IV2   Corr\n",
      "participant  (Intercept)  decisionReject -0.419\n",
      "\n",
      "Fixed effects:\n"
     ]
    },
    {
     "data": {
      "text/plain": "                               Estimate    2.5_ci   97.5_ci        SE  \\\n(Intercept)                   -0.264038 -0.486344 -0.041732  0.113423   \ndecision1                      1.071699  0.888574  1.254823  0.093433   \nd_z                           -0.035816 -0.053540 -0.018092  0.009043   \ntta_z                          0.043968  0.023941  0.063995  0.010218   \ntime_budget_z                  0.064291  0.044864  0.083719  0.009912   \ntta_z:time_budget_z            0.045797  0.026404  0.065191  0.009895   \ndecision1:d_z                  0.087718  0.057324  0.118111  0.015507   \ndecision1:tta_z                0.283923  0.242029  0.325817  0.021375   \ndecision1:time_budget_z        0.125070  0.084361  0.165778  0.020770   \ndecision1:tta_z:time_budget_z  0.039901 -0.000596  0.080398  0.020662   \n\n                                        DF     T-stat         P-val  Sig  \n(Intercept)                      25.107009  -2.327897  2.826776e-02    *  \ndecision1                        26.061084  11.470294  1.098433e-11  ***  \nd_z                            9295.998708  -3.960684  7.529327e-05  ***  \ntta_z                          9307.683628   4.302981  1.702384e-05  ***  \ntime_budget_z                  9296.496516   6.486153  9.254174e-11  ***  \ntta_z:time_budget_z            9295.556832   4.628444  3.734136e-06  ***  \ndecision1:d_z                  9307.775132   5.656655  1.589144e-08  ***  \ndecision1:tta_z                9316.166689  13.283008  6.690803e-40  ***  \ndecision1:time_budget_z        9299.355557   6.021598  1.792446e-09  ***  \ndecision1:tta_z:time_budget_z  9297.470195   1.931113  5.349950e-02    .  ",
      "text/html": "<div>\n<style scoped>\n    .dataframe tbody tr th:only-of-type {\n        vertical-align: middle;\n    }\n\n    .dataframe tbody tr th {\n        vertical-align: top;\n    }\n\n    .dataframe thead th {\n        text-align: right;\n    }\n</style>\n<table border=\"1\" class=\"dataframe\">\n  <thead>\n    <tr style=\"text-align: right;\">\n      <th></th>\n      <th>Estimate</th>\n      <th>2.5_ci</th>\n      <th>97.5_ci</th>\n      <th>SE</th>\n      <th>DF</th>\n      <th>T-stat</th>\n      <th>P-val</th>\n      <th>Sig</th>\n    </tr>\n  </thead>\n  <tbody>\n    <tr>\n      <th>(Intercept)</th>\n      <td>-0.264038</td>\n      <td>-0.486344</td>\n      <td>-0.041732</td>\n      <td>0.113423</td>\n      <td>25.107009</td>\n      <td>-2.327897</td>\n      <td>2.826776e-02</td>\n      <td>*</td>\n    </tr>\n    <tr>\n      <th>decision1</th>\n      <td>1.071699</td>\n      <td>0.888574</td>\n      <td>1.254823</td>\n      <td>0.093433</td>\n      <td>26.061084</td>\n      <td>11.470294</td>\n      <td>1.098433e-11</td>\n      <td>***</td>\n    </tr>\n    <tr>\n      <th>d_z</th>\n      <td>-0.035816</td>\n      <td>-0.053540</td>\n      <td>-0.018092</td>\n      <td>0.009043</td>\n      <td>9295.998708</td>\n      <td>-3.960684</td>\n      <td>7.529327e-05</td>\n      <td>***</td>\n    </tr>\n    <tr>\n      <th>tta_z</th>\n      <td>0.043968</td>\n      <td>0.023941</td>\n      <td>0.063995</td>\n      <td>0.010218</td>\n      <td>9307.683628</td>\n      <td>4.302981</td>\n      <td>1.702384e-05</td>\n      <td>***</td>\n    </tr>\n    <tr>\n      <th>time_budget_z</th>\n      <td>0.064291</td>\n      <td>0.044864</td>\n      <td>0.083719</td>\n      <td>0.009912</td>\n      <td>9296.496516</td>\n      <td>6.486153</td>\n      <td>9.254174e-11</td>\n      <td>***</td>\n    </tr>\n    <tr>\n      <th>tta_z:time_budget_z</th>\n      <td>0.045797</td>\n      <td>0.026404</td>\n      <td>0.065191</td>\n      <td>0.009895</td>\n      <td>9295.556832</td>\n      <td>4.628444</td>\n      <td>3.734136e-06</td>\n      <td>***</td>\n    </tr>\n    <tr>\n      <th>decision1:d_z</th>\n      <td>0.087718</td>\n      <td>0.057324</td>\n      <td>0.118111</td>\n      <td>0.015507</td>\n      <td>9307.775132</td>\n      <td>5.656655</td>\n      <td>1.589144e-08</td>\n      <td>***</td>\n    </tr>\n    <tr>\n      <th>decision1:tta_z</th>\n      <td>0.283923</td>\n      <td>0.242029</td>\n      <td>0.325817</td>\n      <td>0.021375</td>\n      <td>9316.166689</td>\n      <td>13.283008</td>\n      <td>6.690803e-40</td>\n      <td>***</td>\n    </tr>\n    <tr>\n      <th>decision1:time_budget_z</th>\n      <td>0.125070</td>\n      <td>0.084361</td>\n      <td>0.165778</td>\n      <td>0.020770</td>\n      <td>9299.355557</td>\n      <td>6.021598</td>\n      <td>1.792446e-09</td>\n      <td>***</td>\n    </tr>\n    <tr>\n      <th>decision1:tta_z:time_budget_z</th>\n      <td>0.039901</td>\n      <td>-0.000596</td>\n      <td>0.080398</td>\n      <td>0.020662</td>\n      <td>9297.470195</td>\n      <td>1.931113</td>\n      <td>5.349950e-02</td>\n      <td>.</td>\n    </tr>\n  </tbody>\n</table>\n</div>"
     },
     "execution_count": 6,
     "metadata": {},
     "output_type": "execute_result"
    }
   ],
   "source": [
    "model_RT = pymer4.models.Lmer(\"RT_z ~ 1 + decision*(d_z + tta_z*time_budget_z) + (decision | participant) \", data=metrics, family=\"gaussian\")\n",
    "model_RT.fit(summarize=True, factors={\"decision\": [\"Accept\", \"Reject\"]})\n",
    "model_RT.coefs"
   ],
   "metadata": {
    "collapsed": false,
    "ExecuteTime": {
     "end_time": "2023-11-21T22:31:35.303606400Z",
     "start_time": "2023-11-21T22:31:31.707600Z"
    }
   }
  },
  {
   "cell_type": "code",
   "execution_count": 7,
   "outputs": [],
   "source": [
    "coefs = model_RT.coefs.loc[:, [\"Estimate\", \"SE\", \"T-stat\", \"P-val\"]]\n",
    "coefs[\"P-val\"] = coefs[\"P-val\"].apply(p_formatted)\n",
    "styler = coefs.rename(columns=column_names, index=var_names).style.format(precision=2)\n",
    "\n",
    "with open(os.path.join(output_path, \"tab_RT.tex\"), 'w') as writer:\n",
    "     writer.write(styler.to_latex(\n",
    "         column_format=\"rrrrr\", position=\"h\", position_float=\"centering\",\n",
    "         hrules=True, label=\"tab:RT\", caption=\"Standardized coefficients of the mixed-effects linear regression describing response times. Random slope of decision was included per participant: \\\\texttt{RT $\\sim$ 1 + decision*(TTA*time budget + distance) + (1 + decision) | participant}. ``Accept'' was set as a reference level for the decision outcome factor.\"\n",
    "     )\n",
    ")"
   ],
   "metadata": {
    "collapsed": false,
    "ExecuteTime": {
     "end_time": "2023-11-21T22:31:35.357725900Z",
     "start_time": "2023-11-21T22:31:35.299102Z"
    }
   }
  },
  {
   "cell_type": "markdown",
   "source": [
    "## ANOVA"
   ],
   "metadata": {
    "collapsed": false
   }
  },
  {
   "cell_type": "code",
   "execution_count": 8,
   "outputs": [
    {
     "name": "stdout",
     "output_type": "stream",
     "text": [
      "SS Type III Analysis of Variance Table with Satterthwaite approximated degrees of freedom:\n",
      "(NOTE: Using original model contrasts, orthogonality not guaranteed)\n"
     ]
    },
    {
     "data": {
      "text/plain": "                                      SS          MS  NumDF      DenomDF  \\\ndecision                       63.432596   63.432596      1    26.061084   \nd_z                             0.518863    0.518863      1  9310.895838   \ntta_z                         145.871728  145.871728      1  9313.506604   \ntime_budget_z                  71.921823   71.921823      1  9303.012663   \ntta_z:time_budget_z            19.527744   19.527744      1  9298.171011   \ndecision:d_z                   15.427044   15.427044      1  9307.775132   \ndecision:tta_z                 85.066039   85.066039      1  9316.166689   \ndecision:time_budget_z         17.481832   17.481832      1  9299.355557   \ndecision:tta_z:time_budget_z    1.797954    1.797954      1  9297.470195   \n\n                                  F-stat         P-val  Sig  \ndecision                      131.567652  1.098433e-11  ***  \nd_z                             1.076190  2.995784e-01       \ntta_z                         302.557390  1.028326e-66  ***  \ntime_budget_z                 149.175438  4.781966e-34  ***  \ntta_z:time_budget_z            40.503142  2.055678e-10  ***  \ndecision:d_z                   31.997744  1.589144e-08  ***  \ndecision:tta_z                176.438294  6.690803e-40  ***  \ndecision:time_budget_z         36.259647  1.792446e-09  ***  \ndecision:tta_z:time_budget_z    3.729196  5.349950e-02    .  ",
      "text/html": "<div>\n<style scoped>\n    .dataframe tbody tr th:only-of-type {\n        vertical-align: middle;\n    }\n\n    .dataframe tbody tr th {\n        vertical-align: top;\n    }\n\n    .dataframe thead th {\n        text-align: right;\n    }\n</style>\n<table border=\"1\" class=\"dataframe\">\n  <thead>\n    <tr style=\"text-align: right;\">\n      <th></th>\n      <th>SS</th>\n      <th>MS</th>\n      <th>NumDF</th>\n      <th>DenomDF</th>\n      <th>F-stat</th>\n      <th>P-val</th>\n      <th>Sig</th>\n    </tr>\n  </thead>\n  <tbody>\n    <tr>\n      <th>decision</th>\n      <td>63.432596</td>\n      <td>63.432596</td>\n      <td>1</td>\n      <td>26.061084</td>\n      <td>131.567652</td>\n      <td>1.098433e-11</td>\n      <td>***</td>\n    </tr>\n    <tr>\n      <th>d_z</th>\n      <td>0.518863</td>\n      <td>0.518863</td>\n      <td>1</td>\n      <td>9310.895838</td>\n      <td>1.076190</td>\n      <td>2.995784e-01</td>\n      <td></td>\n    </tr>\n    <tr>\n      <th>tta_z</th>\n      <td>145.871728</td>\n      <td>145.871728</td>\n      <td>1</td>\n      <td>9313.506604</td>\n      <td>302.557390</td>\n      <td>1.028326e-66</td>\n      <td>***</td>\n    </tr>\n    <tr>\n      <th>time_budget_z</th>\n      <td>71.921823</td>\n      <td>71.921823</td>\n      <td>1</td>\n      <td>9303.012663</td>\n      <td>149.175438</td>\n      <td>4.781966e-34</td>\n      <td>***</td>\n    </tr>\n    <tr>\n      <th>tta_z:time_budget_z</th>\n      <td>19.527744</td>\n      <td>19.527744</td>\n      <td>1</td>\n      <td>9298.171011</td>\n      <td>40.503142</td>\n      <td>2.055678e-10</td>\n      <td>***</td>\n    </tr>\n    <tr>\n      <th>decision:d_z</th>\n      <td>15.427044</td>\n      <td>15.427044</td>\n      <td>1</td>\n      <td>9307.775132</td>\n      <td>31.997744</td>\n      <td>1.589144e-08</td>\n      <td>***</td>\n    </tr>\n    <tr>\n      <th>decision:tta_z</th>\n      <td>85.066039</td>\n      <td>85.066039</td>\n      <td>1</td>\n      <td>9316.166689</td>\n      <td>176.438294</td>\n      <td>6.690803e-40</td>\n      <td>***</td>\n    </tr>\n    <tr>\n      <th>decision:time_budget_z</th>\n      <td>17.481832</td>\n      <td>17.481832</td>\n      <td>1</td>\n      <td>9299.355557</td>\n      <td>36.259647</td>\n      <td>1.792446e-09</td>\n      <td>***</td>\n    </tr>\n    <tr>\n      <th>decision:tta_z:time_budget_z</th>\n      <td>1.797954</td>\n      <td>1.797954</td>\n      <td>1</td>\n      <td>9297.470195</td>\n      <td>3.729196</td>\n      <td>5.349950e-02</td>\n      <td>.</td>\n    </tr>\n  </tbody>\n</table>\n</div>"
     },
     "execution_count": 8,
     "metadata": {},
     "output_type": "execute_result"
    }
   ],
   "source": [
    "RT_anova = model_RT.anova()\n",
    "RT_decision_marginal_estimates, RT_decision_comparisons = model_RT.post_hoc(marginal_vars=[\"decision\"])\n",
    "RT_anova"
   ],
   "metadata": {
    "collapsed": false,
    "ExecuteTime": {
     "end_time": "2023-11-21T22:31:35.965891Z",
     "start_time": "2023-11-21T22:31:35.315296700Z"
    }
   }
  },
  {
   "cell_type": "code",
   "execution_count": 9,
   "outputs": [],
   "source": [
    "coefs = RT_anova.loc[:, [\"SS\", \"MS\", \"F-stat\", \"P-val\"]]\n",
    "coefs[\"P-val\"] = coefs[\"P-val\"].apply(p_formatted)\n",
    "styler = coefs.rename(columns=column_names, index=var_names).style.format(precision=2)\n",
    "\n",
    "with open(os.path.join(output_path, \"tab_RT_ANOVA.tex\"), 'w') as writer:\n",
    "     writer.write(styler.to_latex(\n",
    "         column_format=\"rrrrrr\", position=\"h\", position_float=\"centering\",\n",
    "         hrules=True, label=\"tab:RT_ANOVA\", caption=\"ANOVA table based on the mixed-effects linear regression describing response time. Random slope of decision was included per participant: \\\\texttt{RT $\\sim$ 1 + decision*(TTA*time budget + distance) + (1 + decision) | participant}.\"\n",
    "     )\n",
    ")"
   ],
   "metadata": {
    "collapsed": false,
    "ExecuteTime": {
     "end_time": "2023-11-21T22:31:35.989456Z",
     "start_time": "2023-11-21T22:31:35.965891Z"
    }
   }
  },
  {
   "cell_type": "markdown",
   "source": [
    "## Difference between accept and reject RTs"
   ],
   "metadata": {
    "collapsed": false
   }
  },
  {
   "cell_type": "code",
   "execution_count": 10,
   "outputs": [
    {
     "data": {
      "text/plain": "          Contrast  Estimate  2.5_ci  97.5_ci     SE      DF  T-stat  P-val  \\\n1  Accept - Reject    -1.072  -1.264    -0.88  0.093  26.061 -11.471    0.0   \n\n   Sig  \n1  ***  ",
      "text/html": "<div>\n<style scoped>\n    .dataframe tbody tr th:only-of-type {\n        vertical-align: middle;\n    }\n\n    .dataframe tbody tr th {\n        vertical-align: top;\n    }\n\n    .dataframe thead th {\n        text-align: right;\n    }\n</style>\n<table border=\"1\" class=\"dataframe\">\n  <thead>\n    <tr style=\"text-align: right;\">\n      <th></th>\n      <th>Contrast</th>\n      <th>Estimate</th>\n      <th>2.5_ci</th>\n      <th>97.5_ci</th>\n      <th>SE</th>\n      <th>DF</th>\n      <th>T-stat</th>\n      <th>P-val</th>\n      <th>Sig</th>\n    </tr>\n  </thead>\n  <tbody>\n    <tr>\n      <th>1</th>\n      <td>Accept - Reject</td>\n      <td>-1.072</td>\n      <td>-1.264</td>\n      <td>-0.88</td>\n      <td>0.093</td>\n      <td>26.061</td>\n      <td>-11.471</td>\n      <td>0.0</td>\n      <td>***</td>\n    </tr>\n  </tbody>\n</table>\n</div>"
     },
     "execution_count": 10,
     "metadata": {},
     "output_type": "execute_result"
    }
   ],
   "source": [
    "RT_decision_marginal_estimates, RT_decision_comparisons = model_RT.post_hoc(marginal_vars=[\"decision\"])\n",
    "RT_decision_comparisons"
   ],
   "metadata": {
    "collapsed": false,
    "ExecuteTime": {
     "end_time": "2023-11-21T22:31:36.343658800Z",
     "start_time": "2023-11-21T22:31:35.979834400Z"
    }
   }
  },
  {
   "cell_type": "code",
   "execution_count": 11,
   "outputs": [
    {
     "data": {
      "text/plain": "1   -0.667688\nName: Estimate, dtype: float64"
     },
     "execution_count": 11,
     "metadata": {},
     "output_type": "execute_result"
    }
   ],
   "source": [
    "RT_decision_comparisons.Estimate*metrics.RT.std()"
   ],
   "metadata": {
    "collapsed": false,
    "ExecuteTime": {
     "end_time": "2023-11-21T22:31:36.395533200Z",
     "start_time": "2023-11-21T22:31:36.340696700Z"
    }
   }
  },
  {
   "cell_type": "markdown",
   "source": [
    "## Estimates of condition effects on RT per decision"
   ],
   "metadata": {
    "collapsed": false
   }
  },
  {
   "cell_type": "code",
   "execution_count": 12,
   "outputs": [],
   "source": [
    "def get_marginal_estimates(model_RT, marginal_vars):\n",
    "    marginal_estimates, comparisons = model_RT.post_hoc(marginal_vars=marginal_vars, grouping_vars=[\"decision\"])\n",
    "    marginal_estimates[\"T-stat\"] = marginal_estimates[\"Estimate\"]/marginal_estimates[\"SE\"]\n",
    "    marginal_estimates[\"P-val\"] = scipy.stats.t.sf(np.abs(marginal_estimates[\"T-stat\"]), marginal_estimates.DF)\n",
    "    return marginal_estimates"
   ],
   "metadata": {
    "collapsed": false,
    "ExecuteTime": {
     "end_time": "2023-11-21T22:31:36.397392400Z",
     "start_time": "2023-11-21T22:31:36.358845500Z"
    }
   }
  },
  {
   "cell_type": "code",
   "execution_count": 13,
   "outputs": [
    {
     "data": {
      "text/plain": "  decision  Estimate  2.5_ci  97.5_ci     SE        DF     T-stat  \\\n1   Accept     0.044   0.024    0.064  0.010  9307.682   4.400000   \n2   Reject     0.328   0.291    0.365  0.019  9315.358  17.263158   \n\n          P-val  \n1  5.472812e-06  \n2  4.669593e-66  ",
      "text/html": "<div>\n<style scoped>\n    .dataframe tbody tr th:only-of-type {\n        vertical-align: middle;\n    }\n\n    .dataframe tbody tr th {\n        vertical-align: top;\n    }\n\n    .dataframe thead th {\n        text-align: right;\n    }\n</style>\n<table border=\"1\" class=\"dataframe\">\n  <thead>\n    <tr style=\"text-align: right;\">\n      <th></th>\n      <th>decision</th>\n      <th>Estimate</th>\n      <th>2.5_ci</th>\n      <th>97.5_ci</th>\n      <th>SE</th>\n      <th>DF</th>\n      <th>T-stat</th>\n      <th>P-val</th>\n    </tr>\n  </thead>\n  <tbody>\n    <tr>\n      <th>1</th>\n      <td>Accept</td>\n      <td>0.044</td>\n      <td>0.024</td>\n      <td>0.064</td>\n      <td>0.010</td>\n      <td>9307.682</td>\n      <td>4.400000</td>\n      <td>5.472812e-06</td>\n    </tr>\n    <tr>\n      <th>2</th>\n      <td>Reject</td>\n      <td>0.328</td>\n      <td>0.291</td>\n      <td>0.365</td>\n      <td>0.019</td>\n      <td>9315.358</td>\n      <td>17.263158</td>\n      <td>4.669593e-66</td>\n    </tr>\n  </tbody>\n</table>\n</div>"
     },
     "execution_count": 13,
     "metadata": {},
     "output_type": "execute_result"
    }
   ],
   "source": [
    "get_marginal_estimates(model_RT, \"tta_z\")"
   ],
   "metadata": {
    "collapsed": false,
    "ExecuteTime": {
     "end_time": "2023-11-21T22:31:36.843590400Z",
     "start_time": "2023-11-21T22:31:36.371853800Z"
    }
   }
  },
  {
   "cell_type": "code",
   "execution_count": 14,
   "outputs": [
    {
     "data": {
      "text/plain": "  decision  Estimate  2.5_ci  97.5_ci     SE        DF  T-stat     P-val\n1   Accept    -0.036  -0.054   -0.018  0.009  9295.999    -4.0  0.000032\n2   Reject     0.052   0.027    0.077  0.013  9313.936     4.0  0.000032",
      "text/html": "<div>\n<style scoped>\n    .dataframe tbody tr th:only-of-type {\n        vertical-align: middle;\n    }\n\n    .dataframe tbody tr th {\n        vertical-align: top;\n    }\n\n    .dataframe thead th {\n        text-align: right;\n    }\n</style>\n<table border=\"1\" class=\"dataframe\">\n  <thead>\n    <tr style=\"text-align: right;\">\n      <th></th>\n      <th>decision</th>\n      <th>Estimate</th>\n      <th>2.5_ci</th>\n      <th>97.5_ci</th>\n      <th>SE</th>\n      <th>DF</th>\n      <th>T-stat</th>\n      <th>P-val</th>\n    </tr>\n  </thead>\n  <tbody>\n    <tr>\n      <th>1</th>\n      <td>Accept</td>\n      <td>-0.036</td>\n      <td>-0.054</td>\n      <td>-0.018</td>\n      <td>0.009</td>\n      <td>9295.999</td>\n      <td>-4.0</td>\n      <td>0.000032</td>\n    </tr>\n    <tr>\n      <th>2</th>\n      <td>Reject</td>\n      <td>0.052</td>\n      <td>0.027</td>\n      <td>0.077</td>\n      <td>0.013</td>\n      <td>9313.936</td>\n      <td>4.0</td>\n      <td>0.000032</td>\n    </tr>\n  </tbody>\n</table>\n</div>"
     },
     "execution_count": 14,
     "metadata": {},
     "output_type": "execute_result"
    }
   ],
   "source": [
    "get_marginal_estimates(model_RT, \"d_z\")"
   ],
   "metadata": {
    "collapsed": false,
    "ExecuteTime": {
     "end_time": "2023-11-21T22:31:37.286715800Z",
     "start_time": "2023-11-21T22:31:36.840449700Z"
    }
   }
  },
  {
   "cell_type": "code",
   "execution_count": 15,
   "outputs": [
    {
     "data": {
      "text/plain": "  decision  Estimate  2.5_ci  97.5_ci     SE        DF  T-stat         P-val\n1   Accept     0.064   0.045    0.084  0.010  9296.497     6.4  8.144008e-11\n2   Reject     0.189   0.154    0.225  0.018  9302.492    10.5  6.007415e-26",
      "text/html": "<div>\n<style scoped>\n    .dataframe tbody tr th:only-of-type {\n        vertical-align: middle;\n    }\n\n    .dataframe tbody tr th {\n        vertical-align: top;\n    }\n\n    .dataframe thead th {\n        text-align: right;\n    }\n</style>\n<table border=\"1\" class=\"dataframe\">\n  <thead>\n    <tr style=\"text-align: right;\">\n      <th></th>\n      <th>decision</th>\n      <th>Estimate</th>\n      <th>2.5_ci</th>\n      <th>97.5_ci</th>\n      <th>SE</th>\n      <th>DF</th>\n      <th>T-stat</th>\n      <th>P-val</th>\n    </tr>\n  </thead>\n  <tbody>\n    <tr>\n      <th>1</th>\n      <td>Accept</td>\n      <td>0.064</td>\n      <td>0.045</td>\n      <td>0.084</td>\n      <td>0.010</td>\n      <td>9296.497</td>\n      <td>6.4</td>\n      <td>8.144008e-11</td>\n    </tr>\n    <tr>\n      <th>2</th>\n      <td>Reject</td>\n      <td>0.189</td>\n      <td>0.154</td>\n      <td>0.225</td>\n      <td>0.018</td>\n      <td>9302.492</td>\n      <td>10.5</td>\n      <td>6.007415e-26</td>\n    </tr>\n  </tbody>\n</table>\n</div>"
     },
     "execution_count": 15,
     "metadata": {},
     "output_type": "execute_result"
    }
   ],
   "source": [
    "get_marginal_estimates(model_RT, \"time_budget_z\")"
   ],
   "metadata": {
    "collapsed": false,
    "ExecuteTime": {
     "end_time": "2023-11-21T22:31:37.734806200Z",
     "start_time": "2023-11-21T22:31:37.277920Z"
    }
   }
  },
  {
   "cell_type": "markdown",
   "source": [
    "## Estimates of time budget effect per decision and TTA level"
   ],
   "metadata": {
    "collapsed": false
   }
  },
  {
   "cell_type": "code",
   "execution_count": 16,
   "outputs": [],
   "source": [
    "marginal_estimates, comparisons = model_RT.post_hoc(marginal_vars=[\"time_budget_z\"], grouping_vars=[\"decision\", \"tta_z\"])\n",
    "marginal_estimates[\"T-stat\"] = marginal_estimates[\"Estimate\"]/marginal_estimates[\"SE\"]\n",
    "marginal_estimates[\"P-val\"] = scipy.stats.t.sf(np.abs(marginal_estimates[\"T-stat\"]), marginal_estimates.DF)"
   ],
   "metadata": {
    "collapsed": false,
    "ExecuteTime": {
     "end_time": "2023-11-21T22:31:38.176260200Z",
     "start_time": "2023-11-21T22:31:37.726855800Z"
    }
   }
  },
  {
   "cell_type": "code",
   "execution_count": 17,
   "outputs": [
    {
     "data": {
      "text/plain": "  decision  tta_z  Estimate  2.5_ci  97.5_ci     SE        DF     T-stat  \\\n1   Accept   -1.0     0.018  -0.014    0.051  0.017  9296.700   1.058824   \n2   Reject   -1.0     0.104   0.077    0.130  0.013  9307.115   8.000000   \n3   Accept    1.0     0.110   0.089    0.131  0.011  9294.359  10.000000   \n4   Reject    1.0     0.275   0.209    0.341  0.034  9299.382   8.088235   \n\n          P-val  \n1  1.448538e-01  \n2  6.964658e-16  \n3  1.000565e-23  \n4  3.405848e-16  ",
      "text/html": "<div>\n<style scoped>\n    .dataframe tbody tr th:only-of-type {\n        vertical-align: middle;\n    }\n\n    .dataframe tbody tr th {\n        vertical-align: top;\n    }\n\n    .dataframe thead th {\n        text-align: right;\n    }\n</style>\n<table border=\"1\" class=\"dataframe\">\n  <thead>\n    <tr style=\"text-align: right;\">\n      <th></th>\n      <th>decision</th>\n      <th>tta_z</th>\n      <th>Estimate</th>\n      <th>2.5_ci</th>\n      <th>97.5_ci</th>\n      <th>SE</th>\n      <th>DF</th>\n      <th>T-stat</th>\n      <th>P-val</th>\n    </tr>\n  </thead>\n  <tbody>\n    <tr>\n      <th>1</th>\n      <td>Accept</td>\n      <td>-1.0</td>\n      <td>0.018</td>\n      <td>-0.014</td>\n      <td>0.051</td>\n      <td>0.017</td>\n      <td>9296.700</td>\n      <td>1.058824</td>\n      <td>1.448538e-01</td>\n    </tr>\n    <tr>\n      <th>2</th>\n      <td>Reject</td>\n      <td>-1.0</td>\n      <td>0.104</td>\n      <td>0.077</td>\n      <td>0.130</td>\n      <td>0.013</td>\n      <td>9307.115</td>\n      <td>8.000000</td>\n      <td>6.964658e-16</td>\n    </tr>\n    <tr>\n      <th>3</th>\n      <td>Accept</td>\n      <td>1.0</td>\n      <td>0.110</td>\n      <td>0.089</td>\n      <td>0.131</td>\n      <td>0.011</td>\n      <td>9294.359</td>\n      <td>10.000000</td>\n      <td>1.000565e-23</td>\n    </tr>\n    <tr>\n      <th>4</th>\n      <td>Reject</td>\n      <td>1.0</td>\n      <td>0.275</td>\n      <td>0.209</td>\n      <td>0.341</td>\n      <td>0.034</td>\n      <td>9299.382</td>\n      <td>8.088235</td>\n      <td>3.405848e-16</td>\n    </tr>\n  </tbody>\n</table>\n</div>"
     },
     "execution_count": 17,
     "metadata": {},
     "output_type": "execute_result"
    }
   ],
   "source": [
    "marginal_estimates"
   ],
   "metadata": {
    "collapsed": false,
    "ExecuteTime": {
     "end_time": "2023-11-21T22:31:38.195318900Z",
     "start_time": "2023-11-21T22:31:38.177253500Z"
    }
   }
  },
  {
   "cell_type": "markdown",
   "source": [
    "# Decision outcome as a function of dwell time and response time"
   ],
   "metadata": {
    "collapsed": false
   }
  },
  {
   "cell_type": "code",
   "execution_count": 18,
   "outputs": [
    {
     "name": "stdout",
     "output_type": "stream",
     "text": [
      "Linear mixed model fit by maximum likelihood  ['lmerMod']\n",
      "Formula: is_gap_accepted~(d_z+tta_z+time_budget_z)*dwell_mirror_z+RT_z+(tta_z+time_budget_z|participant)\n",
      "\n",
      "Family: binomial\t Inference: parametric\n",
      "\n",
      "Number of observations: 9354\t Groups: {'participant': 26.0}\n",
      "\n",
      "Log-likelihood: -2697.486 \t AIC: 5424.971\n",
      "\n",
      "Random effects:\n",
      "\n",
      "                      Name    Var    Std\n",
      "participant    (Intercept)  2.639  1.625\n",
      "participant          tta_z  0.623  0.789\n",
      "participant  time_budget_z  0.125  0.353\n",
      "\n",
      "                     IV1            IV2   Corr\n",
      "participant  (Intercept)          tta_z  0.390\n",
      "participant  (Intercept)  time_budget_z -0.515\n",
      "participant        tta_z  time_budget_z -0.293\n",
      "\n",
      "Fixed effects:\n"
     ]
    },
    {
     "data": {
      "text/plain": "                              Estimate    2.5_ci   97.5_ci        SE  \\\n(Intercept)                   1.632110  0.995442  2.268778  0.324837   \nd_z                           0.474443  0.403363  0.545522  0.036265   \ntta_z                         2.253207  1.924368  2.582046  0.167778   \ntime_budget_z                -0.305540 -0.460844 -0.150235  0.079238   \ndwell_mirror_z               -0.338802 -0.455872 -0.221732  0.059731   \nRT_z                         -1.919034 -2.035556 -1.802513  0.059451   \nd_z:dwell_mirror_z           -0.046112 -0.119143  0.026919  0.037261   \ntta_z:dwell_mirror_z          0.148806  0.034332  0.263279  0.058406   \ntime_budget_z:dwell_mirror_z  0.217606  0.124588  0.310624  0.047459   \n\n                                    OR  OR_2.5_ci  OR_97.5_ci      Prob  \\\n(Intercept)                   5.114655   2.705920    9.667577  0.836458   \nd_z                           1.607118   1.496851    1.725508  0.616435   \ntta_z                         9.518213   6.850817   13.224172  0.904927   \ntime_budget_z                 0.736726   0.630751    0.860505  0.424204   \ndwell_mirror_z                0.712624   0.633895    0.801130  0.416101   \nRT_z                          0.146749   0.130608    0.164884  0.127969   \nd_z:dwell_mirror_z            0.954935   0.887681    1.027284  0.488474   \ntta_z:dwell_mirror_z          1.160448   1.034928    1.301190  0.537133   \ntime_budget_z:dwell_mirror_z  1.243097   1.132681    1.364277  0.554188   \n\n                              Prob_2.5_ci  Prob_97.5_ci     Z-stat  \\\n(Intercept)                      0.730161      0.906258   5.024404   \nd_z                              0.599496      0.633096  13.082479   \ntta_z                            0.872625      0.929697  13.429679   \ntime_budget_z                    0.386786      0.462512  -3.855955   \ndwell_mirror_z                   0.387965      0.444793  -5.672144   \nRT_z                             0.115520      0.141545 -32.279418   \nd_z:dwell_mirror_z               0.470249      0.506729  -1.237531   \ntta_z:dwell_mirror_z             0.508582      0.565442   2.547782   \ntime_budget_z:dwell_mirror_z     0.531107      0.577038   4.585118   \n\n                                      P-val  Sig  \n(Intercept)                    5.049976e-07  ***  \nd_z                            4.146934e-39  ***  \ntta_z                          4.051617e-41  ***  \ntime_budget_z                  1.152789e-04  ***  \ndwell_mirror_z                 1.410213e-08  ***  \nRT_z                          1.360434e-228  ***  \nd_z:dwell_mirror_z             2.158899e-01       \ntta_z:dwell_mirror_z           1.084103e-02    *  \ntime_budget_z:dwell_mirror_z   4.537309e-06  ***  ",
      "text/html": "<div>\n<style scoped>\n    .dataframe tbody tr th:only-of-type {\n        vertical-align: middle;\n    }\n\n    .dataframe tbody tr th {\n        vertical-align: top;\n    }\n\n    .dataframe thead th {\n        text-align: right;\n    }\n</style>\n<table border=\"1\" class=\"dataframe\">\n  <thead>\n    <tr style=\"text-align: right;\">\n      <th></th>\n      <th>Estimate</th>\n      <th>2.5_ci</th>\n      <th>97.5_ci</th>\n      <th>SE</th>\n      <th>OR</th>\n      <th>OR_2.5_ci</th>\n      <th>OR_97.5_ci</th>\n      <th>Prob</th>\n      <th>Prob_2.5_ci</th>\n      <th>Prob_97.5_ci</th>\n      <th>Z-stat</th>\n      <th>P-val</th>\n      <th>Sig</th>\n    </tr>\n  </thead>\n  <tbody>\n    <tr>\n      <th>(Intercept)</th>\n      <td>1.632110</td>\n      <td>0.995442</td>\n      <td>2.268778</td>\n      <td>0.324837</td>\n      <td>5.114655</td>\n      <td>2.705920</td>\n      <td>9.667577</td>\n      <td>0.836458</td>\n      <td>0.730161</td>\n      <td>0.906258</td>\n      <td>5.024404</td>\n      <td>5.049976e-07</td>\n      <td>***</td>\n    </tr>\n    <tr>\n      <th>d_z</th>\n      <td>0.474443</td>\n      <td>0.403363</td>\n      <td>0.545522</td>\n      <td>0.036265</td>\n      <td>1.607118</td>\n      <td>1.496851</td>\n      <td>1.725508</td>\n      <td>0.616435</td>\n      <td>0.599496</td>\n      <td>0.633096</td>\n      <td>13.082479</td>\n      <td>4.146934e-39</td>\n      <td>***</td>\n    </tr>\n    <tr>\n      <th>tta_z</th>\n      <td>2.253207</td>\n      <td>1.924368</td>\n      <td>2.582046</td>\n      <td>0.167778</td>\n      <td>9.518213</td>\n      <td>6.850817</td>\n      <td>13.224172</td>\n      <td>0.904927</td>\n      <td>0.872625</td>\n      <td>0.929697</td>\n      <td>13.429679</td>\n      <td>4.051617e-41</td>\n      <td>***</td>\n    </tr>\n    <tr>\n      <th>time_budget_z</th>\n      <td>-0.305540</td>\n      <td>-0.460844</td>\n      <td>-0.150235</td>\n      <td>0.079238</td>\n      <td>0.736726</td>\n      <td>0.630751</td>\n      <td>0.860505</td>\n      <td>0.424204</td>\n      <td>0.386786</td>\n      <td>0.462512</td>\n      <td>-3.855955</td>\n      <td>1.152789e-04</td>\n      <td>***</td>\n    </tr>\n    <tr>\n      <th>dwell_mirror_z</th>\n      <td>-0.338802</td>\n      <td>-0.455872</td>\n      <td>-0.221732</td>\n      <td>0.059731</td>\n      <td>0.712624</td>\n      <td>0.633895</td>\n      <td>0.801130</td>\n      <td>0.416101</td>\n      <td>0.387965</td>\n      <td>0.444793</td>\n      <td>-5.672144</td>\n      <td>1.410213e-08</td>\n      <td>***</td>\n    </tr>\n    <tr>\n      <th>RT_z</th>\n      <td>-1.919034</td>\n      <td>-2.035556</td>\n      <td>-1.802513</td>\n      <td>0.059451</td>\n      <td>0.146749</td>\n      <td>0.130608</td>\n      <td>0.164884</td>\n      <td>0.127969</td>\n      <td>0.115520</td>\n      <td>0.141545</td>\n      <td>-32.279418</td>\n      <td>1.360434e-228</td>\n      <td>***</td>\n    </tr>\n    <tr>\n      <th>d_z:dwell_mirror_z</th>\n      <td>-0.046112</td>\n      <td>-0.119143</td>\n      <td>0.026919</td>\n      <td>0.037261</td>\n      <td>0.954935</td>\n      <td>0.887681</td>\n      <td>1.027284</td>\n      <td>0.488474</td>\n      <td>0.470249</td>\n      <td>0.506729</td>\n      <td>-1.237531</td>\n      <td>2.158899e-01</td>\n      <td></td>\n    </tr>\n    <tr>\n      <th>tta_z:dwell_mirror_z</th>\n      <td>0.148806</td>\n      <td>0.034332</td>\n      <td>0.263279</td>\n      <td>0.058406</td>\n      <td>1.160448</td>\n      <td>1.034928</td>\n      <td>1.301190</td>\n      <td>0.537133</td>\n      <td>0.508582</td>\n      <td>0.565442</td>\n      <td>2.547782</td>\n      <td>1.084103e-02</td>\n      <td>*</td>\n    </tr>\n    <tr>\n      <th>time_budget_z:dwell_mirror_z</th>\n      <td>0.217606</td>\n      <td>0.124588</td>\n      <td>0.310624</td>\n      <td>0.047459</td>\n      <td>1.243097</td>\n      <td>1.132681</td>\n      <td>1.364277</td>\n      <td>0.554188</td>\n      <td>0.531107</td>\n      <td>0.577038</td>\n      <td>4.585118</td>\n      <td>4.537309e-06</td>\n      <td>***</td>\n    </tr>\n  </tbody>\n</table>\n</div>"
     },
     "execution_count": 18,
     "metadata": {},
     "output_type": "execute_result"
    }
   ],
   "source": [
    "model_decision_dwell_RT = pymer4.models.Lmer(\"is_gap_accepted ~ (d_z + tta_z + time_budget_z)*dwell_mirror_z + RT_z + (tta_z + time_budget_z | participant) \", data=metrics, family=\"binomial\")\n",
    "model_decision_dwell_RT_fit = model_decision_dwell_RT.fit(summarize=True)\n",
    "model_decision_dwell_RT.coefs"
   ],
   "metadata": {
    "collapsed": false,
    "ExecuteTime": {
     "end_time": "2023-11-21T22:32:04.160269600Z",
     "start_time": "2023-11-21T22:31:38.193315Z"
    }
   }
  },
  {
   "cell_type": "code",
   "execution_count": 19,
   "outputs": [],
   "source": [
    "coefs = model_decision_dwell_RT.coefs.loc[:, [\"Estimate\", \"SE\", \"Z-stat\", \"P-val\"]]\n",
    "coefs[\"P-val\"] = coefs[\"P-val\"].apply(p_formatted)\n",
    "styler = coefs.rename(columns=column_names, index=var_names).style.format(precision=2)\n",
    "\n",
    "with open(os.path.join(output_path, \"tab_decision_dwell_RT.tex\"), 'w') as writer:\n",
    "     writer.write(styler.to_latex(\n",
    "         column_format=\"rrrrr\", position=\"!ht\", position_float=\"centering\",\n",
    "         hrules=True, label=\"tab:decision_dwell_RT\", caption=\"Standardized coefficients of the mixed-effects logistic regression describing the decision outcome as a function of kinematic variables, response time, and relative dwell time. Random slopes of TTA to the overtaking vehicle and the time budget provided by the merging lane were included per participant: \\\\texttt{decision $\\sim$ 1 + RT + distance + (TTA * time budget * \\\\% dwell time mirror) + (1 + TTA + time budget) | participant}.\"\n",
    "     )\n",
    ")"
   ],
   "metadata": {
    "collapsed": false,
    "ExecuteTime": {
     "end_time": "2023-11-21T22:32:04.217882900Z",
     "start_time": "2023-11-21T22:32:04.159269Z"
    }
   }
  }
 ],
 "metadata": {
  "kernelspec": {
   "display_name": "Python 3",
   "language": "python",
   "name": "python3"
  },
  "language_info": {
   "codemirror_mode": {
    "name": "ipython",
    "version": 2
   },
   "file_extension": ".py",
   "mimetype": "text/x-python",
   "name": "python",
   "nbconvert_exporter": "python",
   "pygments_lexer": "ipython2",
   "version": "2.7.6"
  }
 },
 "nbformat": 4,
 "nbformat_minor": 0
}
