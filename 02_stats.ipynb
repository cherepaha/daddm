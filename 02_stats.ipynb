{
 "cells": [
  {
   "cell_type": "code",
   "execution_count": 1,
   "metadata": {
    "collapsed": true,
    "ExecuteTime": {
     "end_time": "2023-11-21T19:24:05.048597500Z",
     "start_time": "2023-11-21T19:23:55.928014200Z"
    }
   },
   "outputs": [],
   "source": [
    "import pandas as pd\n",
    "import pymer4.models\n",
    "import numpy as np\n",
    "import scipy.stats\n",
    "import os"
   ]
  },
  {
   "cell_type": "markdown",
   "source": [
    "# Output and formatting settings"
   ],
   "metadata": {
    "collapsed": false
   }
  },
  {
   "cell_type": "code",
   "execution_count": 2,
   "outputs": [],
   "source": [
    "output_path = \"C:\\\\Users\\\\azgonnikov\\\\Dropbox\\\\Apps\\\\Overleaf\\\\AAP Dynamics of merging decisions Elsevier template\"\n",
    "\n",
    "column_names = {\"Estimate\": \"$\\\\beta$\", \"Z-stat\": \"$z$\", \"P-val\": \"$p$\", \"T-stat\": \"$t$\", \"F-stat\": \"$F$\", \"2.5_ci\": \"CI 2.5\\%\", \"97.5_ci\": \"CI 97.5\\%\", \"NumDF\": \"df\"}\n",
    "var_names = {\"tta_z\": \"$\\\\textrm{TTA}$\",\n",
    "             \"d_z\": \"distance\",\n",
    "             \"time_budget_z\": \"time budget\",\n",
    "             \"decision1\": \"decision\",\n",
    "             \"dwell_mirror_z\": \"\\% dwell time mirror\",\n",
    "             \"RT_z\": \"RT\",\n",
    "             \"tta_z:time_budget_z\": \"$\\\\textrm{TTA}$:time budget\",\n",
    "             \"d_z:dwell_mirror_z\": \"distance:\\% dwell time mirror\",\n",
    "             \"tta_z:dwell_mirror_z\": \"$\\\\textrm{TTA}$:\\% dwell time mirror\",\n",
    "             \"time_budget_z:dwell_mirror_z\": \"time budget:\\% dwell time mirror\",\n",
    "             \"tta_z:time_budget_z:dwell_mirror_z\": \"$\\\\textrm{TTA}$:time budget:\\% dwell time mirror\",\n",
    "             \"decision1:d_z\": \"decision:distance\",\n",
    "             \"decision1:tta_z\": \"decision:$\\\\textrm{TTA}$\",\n",
    "             \"decision1:time_budget_z\": \"decision:time budget\",\n",
    "             \"decision1:tta_z:time_budget_z\": \"decision:$\\\\textrm{TTA}$:time budget\"}\n",
    "\n",
    "def p_formatted(p):\n",
    "    if p>0.01:\n",
    "        return \"{:.2f}\".format(p)\n",
    "    elif p>0.001:\n",
    "        return \"{:.3f}\".format(p)\n",
    "    else:\n",
    "        return \"$<0.001$\""
   ],
   "metadata": {
    "collapsed": false,
    "ExecuteTime": {
     "end_time": "2023-11-21T19:24:05.063549500Z",
     "start_time": "2023-11-21T19:24:05.049594Z"
    }
   }
  },
  {
   "cell_type": "markdown",
   "source": [
    "# Read and pre-process the data"
   ],
   "metadata": {
    "collapsed": false
   }
  },
  {
   "cell_type": "code",
   "execution_count": 3,
   "outputs": [],
   "source": [
    "metrics = pd.read_csv(\"metrics.csv\")\n",
    "\n",
    "def get_z_score(x):\n",
    "    return (x-x.mean())/x.std()\n",
    "\n",
    "for col in [\"RT\", \"d\", \"tta\", \"time_budget\", \"dwell_mirror\"]:\n",
    "    metrics.loc[:, col+\"_z\"] = get_z_score(metrics[col]) "
   ],
   "metadata": {
    "collapsed": false,
    "ExecuteTime": {
     "end_time": "2023-11-21T19:24:05.098770500Z",
     "start_time": "2023-11-21T19:24:05.064543500Z"
    }
   }
  },
  {
   "cell_type": "markdown",
   "source": [
    "# Decision outcome as a function of kinematic conditions"
   ],
   "metadata": {
    "collapsed": false,
    "pycharm": {
     "name": "#%% md\n"
    }
   }
  },
  {
   "cell_type": "code",
   "execution_count": 4,
   "outputs": [
    {
     "name": "stdout",
     "output_type": "stream",
     "text": [
      "Linear mixed model fit by maximum likelihood  ['lmerMod']\n",
      "Formula: is_gap_accepted~1+d_z+tta_z+time_budget_z+(1+tta_z+time_budget_z+d_z|participant)\n",
      "\n",
      "Family: binomial\t Inference: parametric\n",
      "\n",
      "Number of observations: 8995\t Groups: {'participant': 25.0}\n",
      "\n",
      "Log-likelihood: -3322.419 \t AIC: 6672.839\n",
      "\n",
      "Random effects:\n",
      "\n",
      "                      Name    Var    Std\n",
      "participant    (Intercept)  1.690  1.300\n",
      "participant          tta_z  0.278  0.528\n",
      "participant  time_budget_z  0.210  0.459\n",
      "participant            d_z  0.269  0.518\n",
      "\n",
      "                       IV1            IV2   Corr\n",
      "participant    (Intercept)          tta_z -0.183\n",
      "participant    (Intercept)  time_budget_z -0.195\n",
      "participant    (Intercept)            d_z  0.286\n",
      "participant          tta_z  time_budget_z -0.215\n",
      "participant          tta_z            d_z -0.594\n",
      "participant  time_budget_z            d_z  0.451\n",
      "\n",
      "Fixed effects:\n"
     ]
    },
    {
     "data": {
      "text/plain": "               Estimate    2.5_ci   97.5_ci        SE        OR  OR_2.5_ci  \\\n(Intercept)    1.258766  0.739833  1.777700  0.264767  3.521075   2.095585   \nd_z            0.492549  0.278481  0.706616  0.109220  1.636482   1.321122   \ntta_z          1.878709  1.650087  2.107330  0.116646  6.545048   5.207435   \ntime_budget_z -0.480137 -0.671919 -0.288355  0.097850  0.618698   0.510727   \n\n               OR_97.5_ci      Prob  Prob_2.5_ci  Prob_97.5_ci     Z-stat  \\\n(Intercept)      5.916231  0.778814     0.676959      0.855413   4.754245   \nd_z              2.027121  0.620707     0.569174      0.669653   4.509684   \ntta_z            8.226248  0.867463     0.838903      0.891614  16.106116   \ntime_budget_z    0.749495  0.382220     0.338067      0.428407  -4.906878   \n\n                      P-val  Sig  \n(Intercept)    1.991893e-06  ***  \nd_z            6.492412e-06  ***  \ntta_z          2.310912e-58  ***  \ntime_budget_z  9.253765e-07  ***  ",
      "text/html": "<div>\n<style scoped>\n    .dataframe tbody tr th:only-of-type {\n        vertical-align: middle;\n    }\n\n    .dataframe tbody tr th {\n        vertical-align: top;\n    }\n\n    .dataframe thead th {\n        text-align: right;\n    }\n</style>\n<table border=\"1\" class=\"dataframe\">\n  <thead>\n    <tr style=\"text-align: right;\">\n      <th></th>\n      <th>Estimate</th>\n      <th>2.5_ci</th>\n      <th>97.5_ci</th>\n      <th>SE</th>\n      <th>OR</th>\n      <th>OR_2.5_ci</th>\n      <th>OR_97.5_ci</th>\n      <th>Prob</th>\n      <th>Prob_2.5_ci</th>\n      <th>Prob_97.5_ci</th>\n      <th>Z-stat</th>\n      <th>P-val</th>\n      <th>Sig</th>\n    </tr>\n  </thead>\n  <tbody>\n    <tr>\n      <th>(Intercept)</th>\n      <td>1.258766</td>\n      <td>0.739833</td>\n      <td>1.777700</td>\n      <td>0.264767</td>\n      <td>3.521075</td>\n      <td>2.095585</td>\n      <td>5.916231</td>\n      <td>0.778814</td>\n      <td>0.676959</td>\n      <td>0.855413</td>\n      <td>4.754245</td>\n      <td>1.991893e-06</td>\n      <td>***</td>\n    </tr>\n    <tr>\n      <th>d_z</th>\n      <td>0.492549</td>\n      <td>0.278481</td>\n      <td>0.706616</td>\n      <td>0.109220</td>\n      <td>1.636482</td>\n      <td>1.321122</td>\n      <td>2.027121</td>\n      <td>0.620707</td>\n      <td>0.569174</td>\n      <td>0.669653</td>\n      <td>4.509684</td>\n      <td>6.492412e-06</td>\n      <td>***</td>\n    </tr>\n    <tr>\n      <th>tta_z</th>\n      <td>1.878709</td>\n      <td>1.650087</td>\n      <td>2.107330</td>\n      <td>0.116646</td>\n      <td>6.545048</td>\n      <td>5.207435</td>\n      <td>8.226248</td>\n      <td>0.867463</td>\n      <td>0.838903</td>\n      <td>0.891614</td>\n      <td>16.106116</td>\n      <td>2.310912e-58</td>\n      <td>***</td>\n    </tr>\n    <tr>\n      <th>time_budget_z</th>\n      <td>-0.480137</td>\n      <td>-0.671919</td>\n      <td>-0.288355</td>\n      <td>0.097850</td>\n      <td>0.618698</td>\n      <td>0.510727</td>\n      <td>0.749495</td>\n      <td>0.382220</td>\n      <td>0.338067</td>\n      <td>0.428407</td>\n      <td>-4.906878</td>\n      <td>9.253765e-07</td>\n      <td>***</td>\n    </tr>\n  </tbody>\n</table>\n</div>"
     },
     "execution_count": 4,
     "metadata": {},
     "output_type": "execute_result"
    }
   ],
   "source": [
    "model_decision = pymer4.models.Lmer(\"is_gap_accepted ~ 1 + d_z + tta_z + time_budget_z + (1 + tta_z + time_budget_z + d_z | participant)\", data=metrics, family=\"binomial\")\n",
    "model_decision_fit = model_decision.fit(summarize=True)\n",
    "model_decision.coefs"
   ],
   "metadata": {
    "collapsed": false,
    "pycharm": {
     "name": "#%%\n"
    },
    "ExecuteTime": {
     "end_time": "2023-11-21T19:24:36.611416300Z",
     "start_time": "2023-11-21T19:24:05.098770500Z"
    }
   }
  },
  {
   "cell_type": "code",
   "execution_count": 5,
   "outputs": [],
   "source": [
    "coefs = model_decision.coefs.loc[:, [\"Estimate\", \"SE\", \"Z-stat\", \"P-val\"]]\n",
    "coefs[\"P-val\"] = coefs[\"P-val\"].apply(p_formatted)\n",
    "styler = coefs.rename(columns=column_names, index=var_names).style.format(precision=2)\n",
    "\n",
    "with open(os.path.join(output_path, \"tab_decision.tex\"), 'w') as writer:\n",
    "     writer.write(styler.to_latex(\n",
    "         column_format=\"rrrrr\", position=\"h\", position_float=\"centering\",\n",
    "         hrules=True, label=\"tab:decision\", caption=\"Standardized coefficients of the mixed-effects logistic regression describing the final decision. All effects were modelled as random slopes per participant: \\\\texttt{decision $\\sim$ 1 + distance + TTA + time budget + (1 + distance + TTA + time budget) | participant}.\"\n",
    "     )\n",
    ")"
   ],
   "metadata": {
    "collapsed": false,
    "ExecuteTime": {
     "end_time": "2023-11-21T19:24:36.725576600Z",
     "start_time": "2023-11-21T19:24:36.603984800Z"
    }
   }
  },
  {
   "cell_type": "markdown",
   "source": [
    "# Response time"
   ],
   "metadata": {
    "collapsed": false
   }
  },
  {
   "cell_type": "code",
   "execution_count": 6,
   "outputs": [
    {
     "name": "stdout",
     "output_type": "stream",
     "text": [
      "Linear mixed model fit by REML [’lmerMod’]\n",
      "Formula: RT_z~1+decision*(d_z+tta_z*time_budget_z)+(decision|participant)\n",
      "\n",
      "Family: gaussian\t Inference: parametric\n",
      "\n",
      "Number of observations: 8995\t Groups: {'participant': 25.0}\n",
      "\n",
      "Log-likelihood: -9553.247 \t AIC: 19134.494\n",
      "\n",
      "Random effects:\n",
      "\n",
      "                       Name    Var    Std\n",
      "participant     (Intercept)  0.346  0.588\n",
      "participant  decisionReject  0.212  0.461\n",
      "Residual                     0.475  0.689\n",
      "\n",
      "                     IV1             IV2   Corr\n",
      "participant  (Intercept)  decisionReject -0.413\n",
      "\n",
      "Fixed effects:\n"
     ]
    },
    {
     "data": {
      "text/plain": "                               Estimate    2.5_ci   97.5_ci        SE  \\\n(Intercept)                   -0.254158 -0.485713 -0.022603  0.118143   \ndecision1                      1.041423  0.855107  1.227738  0.095061   \nd_z                           -0.032367 -0.050265 -0.014469  0.009132   \ntta_z                          0.044018  0.023821  0.064216  0.010305   \ntime_budget_z                  0.066641  0.047053  0.086229  0.009994   \ntta_z:time_budget_z            0.044605  0.025049  0.064160  0.009977   \ndecision1:d_z                  0.079340  0.048490  0.110189  0.015740   \ndecision1:tta_z                0.266949  0.224476  0.309422  0.021670   \ndecision1:time_budget_z        0.125020  0.083797  0.166243  0.021032   \ndecision1:tta_z:time_budget_z  0.041695  0.000679  0.082710  0.020927   \n\n                                        DF     T-stat         P-val  Sig  \n(Intercept)                      24.096480  -2.151284  4.168976e-02    *  \ndecision1                        24.967676  10.955331  5.007392e-11  ***  \nd_z                            8938.891993  -3.544493  3.953779e-04  ***  \ntta_z                          8950.164891   4.271539  1.961353e-05  ***  \ntime_budget_z                  8939.305508   6.668119  2.744551e-11  ***  \ntta_z:time_budget_z            8938.454995   4.470559  7.897711e-06  ***  \ndecision1:d_z                  8950.607096   5.040672  4.729855e-07  ***  \ndecision1:tta_z                8958.597597  12.318615  1.369146e-34  ***  \ndecision1:time_budget_z        8941.990641   5.944157  2.882877e-09  ***  \ndecision1:tta_z:time_budget_z  8940.365160   1.992413  4.635617e-02    *  ",
      "text/html": "<div>\n<style scoped>\n    .dataframe tbody tr th:only-of-type {\n        vertical-align: middle;\n    }\n\n    .dataframe tbody tr th {\n        vertical-align: top;\n    }\n\n    .dataframe thead th {\n        text-align: right;\n    }\n</style>\n<table border=\"1\" class=\"dataframe\">\n  <thead>\n    <tr style=\"text-align: right;\">\n      <th></th>\n      <th>Estimate</th>\n      <th>2.5_ci</th>\n      <th>97.5_ci</th>\n      <th>SE</th>\n      <th>DF</th>\n      <th>T-stat</th>\n      <th>P-val</th>\n      <th>Sig</th>\n    </tr>\n  </thead>\n  <tbody>\n    <tr>\n      <th>(Intercept)</th>\n      <td>-0.254158</td>\n      <td>-0.485713</td>\n      <td>-0.022603</td>\n      <td>0.118143</td>\n      <td>24.096480</td>\n      <td>-2.151284</td>\n      <td>4.168976e-02</td>\n      <td>*</td>\n    </tr>\n    <tr>\n      <th>decision1</th>\n      <td>1.041423</td>\n      <td>0.855107</td>\n      <td>1.227738</td>\n      <td>0.095061</td>\n      <td>24.967676</td>\n      <td>10.955331</td>\n      <td>5.007392e-11</td>\n      <td>***</td>\n    </tr>\n    <tr>\n      <th>d_z</th>\n      <td>-0.032367</td>\n      <td>-0.050265</td>\n      <td>-0.014469</td>\n      <td>0.009132</td>\n      <td>8938.891993</td>\n      <td>-3.544493</td>\n      <td>3.953779e-04</td>\n      <td>***</td>\n    </tr>\n    <tr>\n      <th>tta_z</th>\n      <td>0.044018</td>\n      <td>0.023821</td>\n      <td>0.064216</td>\n      <td>0.010305</td>\n      <td>8950.164891</td>\n      <td>4.271539</td>\n      <td>1.961353e-05</td>\n      <td>***</td>\n    </tr>\n    <tr>\n      <th>time_budget_z</th>\n      <td>0.066641</td>\n      <td>0.047053</td>\n      <td>0.086229</td>\n      <td>0.009994</td>\n      <td>8939.305508</td>\n      <td>6.668119</td>\n      <td>2.744551e-11</td>\n      <td>***</td>\n    </tr>\n    <tr>\n      <th>tta_z:time_budget_z</th>\n      <td>0.044605</td>\n      <td>0.025049</td>\n      <td>0.064160</td>\n      <td>0.009977</td>\n      <td>8938.454995</td>\n      <td>4.470559</td>\n      <td>7.897711e-06</td>\n      <td>***</td>\n    </tr>\n    <tr>\n      <th>decision1:d_z</th>\n      <td>0.079340</td>\n      <td>0.048490</td>\n      <td>0.110189</td>\n      <td>0.015740</td>\n      <td>8950.607096</td>\n      <td>5.040672</td>\n      <td>4.729855e-07</td>\n      <td>***</td>\n    </tr>\n    <tr>\n      <th>decision1:tta_z</th>\n      <td>0.266949</td>\n      <td>0.224476</td>\n      <td>0.309422</td>\n      <td>0.021670</td>\n      <td>8958.597597</td>\n      <td>12.318615</td>\n      <td>1.369146e-34</td>\n      <td>***</td>\n    </tr>\n    <tr>\n      <th>decision1:time_budget_z</th>\n      <td>0.125020</td>\n      <td>0.083797</td>\n      <td>0.166243</td>\n      <td>0.021032</td>\n      <td>8941.990641</td>\n      <td>5.944157</td>\n      <td>2.882877e-09</td>\n      <td>***</td>\n    </tr>\n    <tr>\n      <th>decision1:tta_z:time_budget_z</th>\n      <td>0.041695</td>\n      <td>0.000679</td>\n      <td>0.082710</td>\n      <td>0.020927</td>\n      <td>8940.365160</td>\n      <td>1.992413</td>\n      <td>4.635617e-02</td>\n      <td>*</td>\n    </tr>\n  </tbody>\n</table>\n</div>"
     },
     "execution_count": 6,
     "metadata": {},
     "output_type": "execute_result"
    }
   ],
   "source": [
    "model_RT = pymer4.models.Lmer(\"RT_z ~ 1 + decision*(d_z + tta_z*time_budget_z) + (decision | participant) \", data=metrics, family=\"gaussian\")\n",
    "model_RT.fit(summarize=True, factors={\"decision\": [\"Accept\", \"Reject\"]})\n",
    "model_RT.coefs"
   ],
   "metadata": {
    "collapsed": false,
    "ExecuteTime": {
     "end_time": "2023-11-21T19:24:38.482325100Z",
     "start_time": "2023-11-21T19:24:36.680998200Z"
    }
   }
  },
  {
   "cell_type": "code",
   "execution_count": 7,
   "outputs": [],
   "source": [
    "coefs = model_RT.coefs.loc[:, [\"Estimate\", \"SE\", \"T-stat\", \"P-val\"]]\n",
    "coefs[\"P-val\"] = coefs[\"P-val\"].apply(p_formatted)\n",
    "styler = coefs.rename(columns=column_names, index=var_names).style.format(precision=2)\n",
    "\n",
    "with open(os.path.join(output_path, \"tab_RT.tex\"), 'w') as writer:\n",
    "     writer.write(styler.to_latex(\n",
    "         column_format=\"rrrrr\", position=\"h\", position_float=\"centering\",\n",
    "         hrules=True, label=\"tab:RT\", caption=\"Standardized coefficients of the mixed-effects linear regression describing response times. Random slope of decision was included per participant: \\\\texttt{RT $\\sim$ 1 + decision*(TTA*time budget + distance) + (1 + decision) | participant}. ``Accept'' was set as a reference level for the decision outcome factor.\"\n",
    "     )\n",
    ")"
   ],
   "metadata": {
    "collapsed": false,
    "ExecuteTime": {
     "end_time": "2023-11-21T19:24:38.521911400Z",
     "start_time": "2023-11-21T19:24:38.479834Z"
    }
   }
  },
  {
   "cell_type": "markdown",
   "source": [
    "## ANOVA"
   ],
   "metadata": {
    "collapsed": false
   }
  },
  {
   "cell_type": "code",
   "execution_count": 8,
   "outputs": [
    {
     "name": "stdout",
     "output_type": "stream",
     "text": [
      "SS Type III Analysis of Variance Table with Satterthwaite approximated degrees of freedom:\n",
      "(NOTE: Using original model contrasts, orthogonality not guaranteed)\n"
     ]
    },
    {
     "data": {
      "text/plain": "                                      SS          MS  NumDF      DenomDF  \\\ndecision                       57.027620   57.027620      1    24.967676   \nd_z                             0.409220    0.409220      1  8953.722085   \ntta_z                         127.461269  127.461269      1  8956.022842   \ntime_budget_z                  71.681515   71.681515      1  8945.396627   \ntta_z:time_budget_z            18.593343   18.593343      1  8941.111742   \ndecision:d_z                   12.072885   12.072885      1  8950.607096   \ndecision:tta_z                 72.103772   72.103772      1  8958.597597   \ndecision:time_budget_z         16.788614   16.788614      1  8941.990641   \ndecision:tta_z:time_budget_z    1.886222    1.886222      1  8940.365160   \n\n                                  F-stat         P-val  Sig  \ndecision                      120.019279  5.007392e-11  ***  \nd_z                             0.861237  3.534179e-01       \ntta_z                         268.252639  1.983653e-59  ***  \ntime_budget_z                 150.859595  2.127449e-34  ***  \ntta_z:time_budget_z            39.131208  4.144361e-10  ***  \ndecision:d_z                   25.408371  4.729855e-07  ***  \ndecision:tta_z                151.748269  1.369146e-34  ***  \ndecision:time_budget_z         35.333008  2.882877e-09  ***  \ndecision:tta_z:time_budget_z    3.969708  4.635617e-02    *  ",
      "text/html": "<div>\n<style scoped>\n    .dataframe tbody tr th:only-of-type {\n        vertical-align: middle;\n    }\n\n    .dataframe tbody tr th {\n        vertical-align: top;\n    }\n\n    .dataframe thead th {\n        text-align: right;\n    }\n</style>\n<table border=\"1\" class=\"dataframe\">\n  <thead>\n    <tr style=\"text-align: right;\">\n      <th></th>\n      <th>SS</th>\n      <th>MS</th>\n      <th>NumDF</th>\n      <th>DenomDF</th>\n      <th>F-stat</th>\n      <th>P-val</th>\n      <th>Sig</th>\n    </tr>\n  </thead>\n  <tbody>\n    <tr>\n      <th>decision</th>\n      <td>57.027620</td>\n      <td>57.027620</td>\n      <td>1</td>\n      <td>24.967676</td>\n      <td>120.019279</td>\n      <td>5.007392e-11</td>\n      <td>***</td>\n    </tr>\n    <tr>\n      <th>d_z</th>\n      <td>0.409220</td>\n      <td>0.409220</td>\n      <td>1</td>\n      <td>8953.722085</td>\n      <td>0.861237</td>\n      <td>3.534179e-01</td>\n      <td></td>\n    </tr>\n    <tr>\n      <th>tta_z</th>\n      <td>127.461269</td>\n      <td>127.461269</td>\n      <td>1</td>\n      <td>8956.022842</td>\n      <td>268.252639</td>\n      <td>1.983653e-59</td>\n      <td>***</td>\n    </tr>\n    <tr>\n      <th>time_budget_z</th>\n      <td>71.681515</td>\n      <td>71.681515</td>\n      <td>1</td>\n      <td>8945.396627</td>\n      <td>150.859595</td>\n      <td>2.127449e-34</td>\n      <td>***</td>\n    </tr>\n    <tr>\n      <th>tta_z:time_budget_z</th>\n      <td>18.593343</td>\n      <td>18.593343</td>\n      <td>1</td>\n      <td>8941.111742</td>\n      <td>39.131208</td>\n      <td>4.144361e-10</td>\n      <td>***</td>\n    </tr>\n    <tr>\n      <th>decision:d_z</th>\n      <td>12.072885</td>\n      <td>12.072885</td>\n      <td>1</td>\n      <td>8950.607096</td>\n      <td>25.408371</td>\n      <td>4.729855e-07</td>\n      <td>***</td>\n    </tr>\n    <tr>\n      <th>decision:tta_z</th>\n      <td>72.103772</td>\n      <td>72.103772</td>\n      <td>1</td>\n      <td>8958.597597</td>\n      <td>151.748269</td>\n      <td>1.369146e-34</td>\n      <td>***</td>\n    </tr>\n    <tr>\n      <th>decision:time_budget_z</th>\n      <td>16.788614</td>\n      <td>16.788614</td>\n      <td>1</td>\n      <td>8941.990641</td>\n      <td>35.333008</td>\n      <td>2.882877e-09</td>\n      <td>***</td>\n    </tr>\n    <tr>\n      <th>decision:tta_z:time_budget_z</th>\n      <td>1.886222</td>\n      <td>1.886222</td>\n      <td>1</td>\n      <td>8940.365160</td>\n      <td>3.969708</td>\n      <td>4.635617e-02</td>\n      <td>*</td>\n    </tr>\n  </tbody>\n</table>\n</div>"
     },
     "execution_count": 8,
     "metadata": {},
     "output_type": "execute_result"
    }
   ],
   "source": [
    "RT_anova = model_RT.anova()\n",
    "RT_decision_marginal_estimates, RT_decision_comparisons = model_RT.post_hoc(marginal_vars=[\"decision\"])\n",
    "RT_anova"
   ],
   "metadata": {
    "collapsed": false,
    "ExecuteTime": {
     "end_time": "2023-11-21T19:24:39.074543800Z",
     "start_time": "2023-11-21T19:24:38.496296800Z"
    }
   }
  },
  {
   "cell_type": "code",
   "execution_count": 9,
   "outputs": [],
   "source": [
    "coefs = RT_anova.loc[:, [\"SS\", \"MS\", \"F-stat\", \"P-val\"]]\n",
    "coefs[\"P-val\"] = coefs[\"P-val\"].apply(p_formatted)\n",
    "styler = coefs.rename(columns=column_names, index=var_names).style.format(precision=2)\n",
    "\n",
    "with open(os.path.join(output_path, \"tab_RT_ANOVA.tex\"), 'w') as writer:\n",
    "     writer.write(styler.to_latex(\n",
    "         column_format=\"rrrrrr\", position=\"h\", position_float=\"centering\",\n",
    "         hrules=True, label=\"tab:RT_ANOVA\", caption=\"ANOVA table based on the mixed-effects linear regression describing response time. Random slope of decision was included per participant: \\\\texttt{RT $\\sim$ 1 + decision*(TTA*time budget + distance) + (1 + decision) | participant}.\"\n",
    "     )\n",
    ")"
   ],
   "metadata": {
    "collapsed": false,
    "ExecuteTime": {
     "end_time": "2023-11-21T19:24:39.097132500Z",
     "start_time": "2023-11-21T19:24:39.072035Z"
    }
   }
  },
  {
   "cell_type": "markdown",
   "source": [
    "## Difference between accept and reject RTs"
   ],
   "metadata": {
    "collapsed": false
   }
  },
  {
   "cell_type": "code",
   "execution_count": 10,
   "outputs": [
    {
     "data": {
      "text/plain": "          Contrast  Estimate  2.5_ci  97.5_ci     SE      DF  T-stat  P-val  \\\n1  Accept - Reject    -1.041  -1.237   -0.846  0.095  24.967 -10.956    0.0   \n\n   Sig  \n1  ***  ",
      "text/html": "<div>\n<style scoped>\n    .dataframe tbody tr th:only-of-type {\n        vertical-align: middle;\n    }\n\n    .dataframe tbody tr th {\n        vertical-align: top;\n    }\n\n    .dataframe thead th {\n        text-align: right;\n    }\n</style>\n<table border=\"1\" class=\"dataframe\">\n  <thead>\n    <tr style=\"text-align: right;\">\n      <th></th>\n      <th>Contrast</th>\n      <th>Estimate</th>\n      <th>2.5_ci</th>\n      <th>97.5_ci</th>\n      <th>SE</th>\n      <th>DF</th>\n      <th>T-stat</th>\n      <th>P-val</th>\n      <th>Sig</th>\n    </tr>\n  </thead>\n  <tbody>\n    <tr>\n      <th>1</th>\n      <td>Accept - Reject</td>\n      <td>-1.041</td>\n      <td>-1.237</td>\n      <td>-0.846</td>\n      <td>0.095</td>\n      <td>24.967</td>\n      <td>-10.956</td>\n      <td>0.0</td>\n      <td>***</td>\n    </tr>\n  </tbody>\n</table>\n</div>"
     },
     "execution_count": 10,
     "metadata": {},
     "output_type": "execute_result"
    }
   ],
   "source": [
    "RT_decision_marginal_estimates, RT_decision_comparisons = model_RT.post_hoc(marginal_vars=[\"decision\"])\n",
    "RT_decision_comparisons"
   ],
   "metadata": {
    "collapsed": false,
    "ExecuteTime": {
     "end_time": "2023-11-21T19:24:39.544161600Z",
     "start_time": "2023-11-21T19:24:39.087279700Z"
    }
   }
  },
  {
   "cell_type": "code",
   "execution_count": 11,
   "outputs": [
    {
     "data": {
      "text/plain": "1   -0.645955\nName: Estimate, dtype: float64"
     },
     "execution_count": 11,
     "metadata": {},
     "output_type": "execute_result"
    }
   ],
   "source": [
    "RT_decision_comparisons.Estimate*metrics.RT.std()"
   ],
   "metadata": {
    "collapsed": false,
    "ExecuteTime": {
     "end_time": "2023-11-21T19:24:39.550314Z",
     "start_time": "2023-11-21T19:24:39.535274200Z"
    }
   }
  },
  {
   "cell_type": "markdown",
   "source": [
    "## Estimates of condition effects on RT per decision"
   ],
   "metadata": {
    "collapsed": false
   }
  },
  {
   "cell_type": "code",
   "execution_count": 12,
   "outputs": [],
   "source": [
    "def get_marginal_estimates(model_RT, marginal_vars):\n",
    "    marginal_estimates, comparisons = model_RT.post_hoc(marginal_vars=marginal_vars, grouping_vars=[\"decision\"])\n",
    "    marginal_estimates[\"T-stat\"] = marginal_estimates[\"Estimate\"]/marginal_estimates[\"SE\"]\n",
    "    marginal_estimates[\"P-val\"] = scipy.stats.t.sf(np.abs(marginal_estimates[\"T-stat\"]), marginal_estimates.DF)\n",
    "    return marginal_estimates"
   ],
   "metadata": {
    "collapsed": false,
    "ExecuteTime": {
     "end_time": "2023-11-21T19:24:39.567571700Z",
     "start_time": "2023-11-21T19:24:39.550811400Z"
    }
   }
  },
  {
   "cell_type": "code",
   "execution_count": 13,
   "outputs": [
    {
     "data": {
      "text/plain": "  decision  Estimate  2.5_ci  97.5_ci     SE        DF     T-stat  \\\n1   Accept     0.044   0.024    0.064  0.010  8950.164   4.400000   \n2   Reject     0.311   0.274    0.348  0.019  8957.837  16.368421   \n\n          P-val  \n1  5.475230e-06  \n2  1.162934e-59  ",
      "text/html": "<div>\n<style scoped>\n    .dataframe tbody tr th:only-of-type {\n        vertical-align: middle;\n    }\n\n    .dataframe tbody tr th {\n        vertical-align: top;\n    }\n\n    .dataframe thead th {\n        text-align: right;\n    }\n</style>\n<table border=\"1\" class=\"dataframe\">\n  <thead>\n    <tr style=\"text-align: right;\">\n      <th></th>\n      <th>decision</th>\n      <th>Estimate</th>\n      <th>2.5_ci</th>\n      <th>97.5_ci</th>\n      <th>SE</th>\n      <th>DF</th>\n      <th>T-stat</th>\n      <th>P-val</th>\n    </tr>\n  </thead>\n  <tbody>\n    <tr>\n      <th>1</th>\n      <td>Accept</td>\n      <td>0.044</td>\n      <td>0.024</td>\n      <td>0.064</td>\n      <td>0.010</td>\n      <td>8950.164</td>\n      <td>4.400000</td>\n      <td>5.475230e-06</td>\n    </tr>\n    <tr>\n      <th>2</th>\n      <td>Reject</td>\n      <td>0.311</td>\n      <td>0.274</td>\n      <td>0.348</td>\n      <td>0.019</td>\n      <td>8957.837</td>\n      <td>16.368421</td>\n      <td>1.162934e-59</td>\n    </tr>\n  </tbody>\n</table>\n</div>"
     },
     "execution_count": 13,
     "metadata": {},
     "output_type": "execute_result"
    }
   ],
   "source": [
    "get_marginal_estimates(model_RT, \"tta_z\")"
   ],
   "metadata": {
    "collapsed": false,
    "ExecuteTime": {
     "end_time": "2023-11-21T19:24:40.181182200Z",
     "start_time": "2023-11-21T19:24:39.565130600Z"
    }
   }
  },
  {
   "cell_type": "code",
   "execution_count": 14,
   "outputs": [
    {
     "data": {
      "text/plain": "  decision  Estimate  2.5_ci  97.5_ci     SE        DF    T-stat     P-val\n1   Accept    -0.032  -0.050   -0.014  0.009  8938.892 -3.555556  0.000190\n2   Reject     0.047   0.022    0.072  0.013  8956.576  3.615385  0.000151",
      "text/html": "<div>\n<style scoped>\n    .dataframe tbody tr th:only-of-type {\n        vertical-align: middle;\n    }\n\n    .dataframe tbody tr th {\n        vertical-align: top;\n    }\n\n    .dataframe thead th {\n        text-align: right;\n    }\n</style>\n<table border=\"1\" class=\"dataframe\">\n  <thead>\n    <tr style=\"text-align: right;\">\n      <th></th>\n      <th>decision</th>\n      <th>Estimate</th>\n      <th>2.5_ci</th>\n      <th>97.5_ci</th>\n      <th>SE</th>\n      <th>DF</th>\n      <th>T-stat</th>\n      <th>P-val</th>\n    </tr>\n  </thead>\n  <tbody>\n    <tr>\n      <th>1</th>\n      <td>Accept</td>\n      <td>-0.032</td>\n      <td>-0.050</td>\n      <td>-0.014</td>\n      <td>0.009</td>\n      <td>8938.892</td>\n      <td>-3.555556</td>\n      <td>0.000190</td>\n    </tr>\n    <tr>\n      <th>2</th>\n      <td>Reject</td>\n      <td>0.047</td>\n      <td>0.022</td>\n      <td>0.072</td>\n      <td>0.013</td>\n      <td>8956.576</td>\n      <td>3.615385</td>\n      <td>0.000151</td>\n    </tr>\n  </tbody>\n</table>\n</div>"
     },
     "execution_count": 14,
     "metadata": {},
     "output_type": "execute_result"
    }
   ],
   "source": [
    "get_marginal_estimates(model_RT, \"d_z\")"
   ],
   "metadata": {
    "collapsed": false,
    "ExecuteTime": {
     "end_time": "2023-11-21T19:24:40.605975800Z",
     "start_time": "2023-11-21T19:24:40.153367800Z"
    }
   }
  },
  {
   "cell_type": "code",
   "execution_count": 15,
   "outputs": [
    {
     "data": {
      "text/plain": "  decision  Estimate  2.5_ci  97.5_ci     SE        DF     T-stat  \\\n1   Accept     0.067   0.047    0.086  0.010  8939.306   6.700000   \n2   Reject     0.192   0.155    0.228  0.019  8944.907  10.105263   \n\n          P-val  \n1  1.105043e-11  \n2  3.515585e-24  ",
      "text/html": "<div>\n<style scoped>\n    .dataframe tbody tr th:only-of-type {\n        vertical-align: middle;\n    }\n\n    .dataframe tbody tr th {\n        vertical-align: top;\n    }\n\n    .dataframe thead th {\n        text-align: right;\n    }\n</style>\n<table border=\"1\" class=\"dataframe\">\n  <thead>\n    <tr style=\"text-align: right;\">\n      <th></th>\n      <th>decision</th>\n      <th>Estimate</th>\n      <th>2.5_ci</th>\n      <th>97.5_ci</th>\n      <th>SE</th>\n      <th>DF</th>\n      <th>T-stat</th>\n      <th>P-val</th>\n    </tr>\n  </thead>\n  <tbody>\n    <tr>\n      <th>1</th>\n      <td>Accept</td>\n      <td>0.067</td>\n      <td>0.047</td>\n      <td>0.086</td>\n      <td>0.010</td>\n      <td>8939.306</td>\n      <td>6.700000</td>\n      <td>1.105043e-11</td>\n    </tr>\n    <tr>\n      <th>2</th>\n      <td>Reject</td>\n      <td>0.192</td>\n      <td>0.155</td>\n      <td>0.228</td>\n      <td>0.019</td>\n      <td>8944.907</td>\n      <td>10.105263</td>\n      <td>3.515585e-24</td>\n    </tr>\n  </tbody>\n</table>\n</div>"
     },
     "execution_count": 15,
     "metadata": {},
     "output_type": "execute_result"
    }
   ],
   "source": [
    "get_marginal_estimates(model_RT, \"time_budget_z\")"
   ],
   "metadata": {
    "collapsed": false,
    "ExecuteTime": {
     "end_time": "2023-11-21T19:24:41.013603200Z",
     "start_time": "2023-11-21T19:24:40.604442Z"
    }
   }
  },
  {
   "cell_type": "markdown",
   "source": [
    "## Estimates of time budget effect per decision and TTA level"
   ],
   "metadata": {
    "collapsed": false
   }
  },
  {
   "cell_type": "code",
   "execution_count": 16,
   "outputs": [],
   "source": [
    "marginal_estimates, comparisons = model_RT.post_hoc(marginal_vars=[\"time_budget_z\"], grouping_vars=[\"decision\", \"tta_z\"])\n",
    "marginal_estimates[\"T-stat\"] = marginal_estimates[\"Estimate\"]/marginal_estimates[\"SE\"]\n",
    "marginal_estimates[\"P-val\"] = scipy.stats.t.sf(np.abs(marginal_estimates[\"T-stat\"]), marginal_estimates.DF)"
   ],
   "metadata": {
    "collapsed": false,
    "ExecuteTime": {
     "end_time": "2023-11-21T19:24:41.411390600Z",
     "start_time": "2023-11-21T19:24:41.007547900Z"
    }
   }
  },
  {
   "cell_type": "code",
   "execution_count": 17,
   "outputs": [
    {
     "data": {
      "text/plain": "  decision  tta_z  Estimate  2.5_ci  97.5_ci     SE        DF     T-stat  \\\n1   Accept   -1.0     0.022  -0.011    0.055  0.017  8939.527   1.294118   \n2   Reject   -1.0     0.105   0.079    0.132  0.014  8949.606   7.500000   \n3   Accept    1.0     0.111   0.090    0.132  0.011  8937.299  10.090909   \n4   Reject    1.0     0.278   0.211    0.345  0.034  8942.048   8.176471   \n\n          P-val  \n1  9.782911e-02  \n2  3.495322e-14  \n3  4.063917e-24  \n4  1.661016e-16  ",
      "text/html": "<div>\n<style scoped>\n    .dataframe tbody tr th:only-of-type {\n        vertical-align: middle;\n    }\n\n    .dataframe tbody tr th {\n        vertical-align: top;\n    }\n\n    .dataframe thead th {\n        text-align: right;\n    }\n</style>\n<table border=\"1\" class=\"dataframe\">\n  <thead>\n    <tr style=\"text-align: right;\">\n      <th></th>\n      <th>decision</th>\n      <th>tta_z</th>\n      <th>Estimate</th>\n      <th>2.5_ci</th>\n      <th>97.5_ci</th>\n      <th>SE</th>\n      <th>DF</th>\n      <th>T-stat</th>\n      <th>P-val</th>\n    </tr>\n  </thead>\n  <tbody>\n    <tr>\n      <th>1</th>\n      <td>Accept</td>\n      <td>-1.0</td>\n      <td>0.022</td>\n      <td>-0.011</td>\n      <td>0.055</td>\n      <td>0.017</td>\n      <td>8939.527</td>\n      <td>1.294118</td>\n      <td>9.782911e-02</td>\n    </tr>\n    <tr>\n      <th>2</th>\n      <td>Reject</td>\n      <td>-1.0</td>\n      <td>0.105</td>\n      <td>0.079</td>\n      <td>0.132</td>\n      <td>0.014</td>\n      <td>8949.606</td>\n      <td>7.500000</td>\n      <td>3.495322e-14</td>\n    </tr>\n    <tr>\n      <th>3</th>\n      <td>Accept</td>\n      <td>1.0</td>\n      <td>0.111</td>\n      <td>0.090</td>\n      <td>0.132</td>\n      <td>0.011</td>\n      <td>8937.299</td>\n      <td>10.090909</td>\n      <td>4.063917e-24</td>\n    </tr>\n    <tr>\n      <th>4</th>\n      <td>Reject</td>\n      <td>1.0</td>\n      <td>0.278</td>\n      <td>0.211</td>\n      <td>0.345</td>\n      <td>0.034</td>\n      <td>8942.048</td>\n      <td>8.176471</td>\n      <td>1.661016e-16</td>\n    </tr>\n  </tbody>\n</table>\n</div>"
     },
     "execution_count": 17,
     "metadata": {},
     "output_type": "execute_result"
    }
   ],
   "source": [
    "marginal_estimates"
   ],
   "metadata": {
    "collapsed": false,
    "ExecuteTime": {
     "end_time": "2023-11-21T19:24:41.432747200Z",
     "start_time": "2023-11-21T19:24:41.411390600Z"
    }
   }
  },
  {
   "cell_type": "markdown",
   "source": [
    "# Decision outcome as a function of dwell time and response time"
   ],
   "metadata": {
    "collapsed": false
   }
  },
  {
   "cell_type": "code",
   "execution_count": 18,
   "outputs": [
    {
     "name": "stdout",
     "output_type": "stream",
     "text": [
      "Linear mixed model fit by maximum likelihood  ['lmerMod']\n",
      "Formula: is_gap_accepted~(d_z+tta_z+time_budget_z)*dwell_mirror_z+RT_z+(tta_z+time_budget_z|participant)\n",
      "\n",
      "Family: binomial\t Inference: parametric\n",
      "\n",
      "Number of observations: 8995\t Groups: {'participant': 25.0}\n",
      "\n",
      "Log-likelihood: -2609.598 \t AIC: 5249.196\n",
      "\n",
      "Random effects:\n",
      "\n",
      "                      Name    Var    Std\n",
      "participant    (Intercept)  2.753  1.659\n",
      "participant          tta_z  0.648  0.805\n",
      "participant  time_budget_z  0.126  0.355\n",
      "\n",
      "                     IV1            IV2   Corr\n",
      "participant  (Intercept)          tta_z  0.392\n",
      "participant  (Intercept)  time_budget_z -0.525\n",
      "participant        tta_z  time_budget_z -0.320\n",
      "\n",
      "Fixed effects:\n"
     ]
    },
    {
     "data": {
      "text/plain": "                              Estimate    2.5_ci   97.5_ci        SE  \\\n(Intercept)                   1.650792  0.988030  2.313555  0.338150   \nd_z                           0.469337  0.397102  0.541573  0.036856   \ntta_z                         2.242300  1.901045  2.583554  0.174113   \ntime_budget_z                -0.327912 -0.486948 -0.168876  0.081142   \ndwell_mirror_z               -0.321945 -0.440772 -0.203119  0.060627   \nRT_z                         -1.909833 -2.028957 -1.790709  0.060779   \nd_z:dwell_mirror_z           -0.056345 -0.130568  0.017878  0.037869   \ntta_z:dwell_mirror_z          0.135669  0.019393  0.251945  0.059325   \ntime_budget_z:dwell_mirror_z  0.208178  0.113350  0.303006  0.048382   \n\n                                    OR  OR_2.5_ci  OR_97.5_ci      Prob  \\\n(Intercept)                   5.211107   2.685938   10.110299  0.838998   \nd_z                           1.598934   1.487507    1.718709  0.615227   \ntta_z                         9.414956   6.692883   13.244128  0.903984   \ntime_budget_z                 0.720426   0.614499    0.844613  0.418749   \ndwell_mirror_z                0.724738   0.643540    0.816181  0.420202   \nRT_z                          0.148105   0.131473    0.166842  0.129000   \nd_z:dwell_mirror_z            0.945213   0.877597    1.018039  0.485917   \ntta_z:dwell_mirror_z          1.145303   1.019583    1.286525  0.533865   \ntime_budget_z:dwell_mirror_z  1.231433   1.120024    1.353923  0.551857   \n\n                              Prob_2.5_ci  Prob_97.5_ci     Z-stat  \\\n(Intercept)                      0.728699      0.909993   4.881830   \nd_z                              0.597991      0.632178  12.734472   \ntta_z                            0.870010      0.929796  12.878432   \ntime_budget_z                    0.380613      0.457881  -4.041205   \ndwell_mirror_z                   0.391557      0.449394  -5.310285   \nRT_z                             0.116196      0.142986 -31.422817   \nd_z:dwell_mirror_z               0.467404      0.504469  -1.487875   \ntta_z:dwell_mirror_z             0.504848      0.562655   2.286861   \ntime_budget_z:dwell_mirror_z     0.528307      0.575177   4.302760   \n\n                                      P-val  Sig  \n(Intercept)                    1.051056e-06  ***  \nd_z                            3.804091e-37  ***  \ntta_z                          5.953249e-38  ***  \ntime_budget_z                  5.317721e-05  ***  \ndwell_mirror_z                 1.094536e-07  ***  \nRT_z                          9.873984e-217  ***  \nd_z:dwell_mirror_z             1.367840e-01       \ntta_z:dwell_mirror_z           2.220393e-02    *  \ntime_budget_z:dwell_mirror_z   1.686832e-05  ***  ",
      "text/html": "<div>\n<style scoped>\n    .dataframe tbody tr th:only-of-type {\n        vertical-align: middle;\n    }\n\n    .dataframe tbody tr th {\n        vertical-align: top;\n    }\n\n    .dataframe thead th {\n        text-align: right;\n    }\n</style>\n<table border=\"1\" class=\"dataframe\">\n  <thead>\n    <tr style=\"text-align: right;\">\n      <th></th>\n      <th>Estimate</th>\n      <th>2.5_ci</th>\n      <th>97.5_ci</th>\n      <th>SE</th>\n      <th>OR</th>\n      <th>OR_2.5_ci</th>\n      <th>OR_97.5_ci</th>\n      <th>Prob</th>\n      <th>Prob_2.5_ci</th>\n      <th>Prob_97.5_ci</th>\n      <th>Z-stat</th>\n      <th>P-val</th>\n      <th>Sig</th>\n    </tr>\n  </thead>\n  <tbody>\n    <tr>\n      <th>(Intercept)</th>\n      <td>1.650792</td>\n      <td>0.988030</td>\n      <td>2.313555</td>\n      <td>0.338150</td>\n      <td>5.211107</td>\n      <td>2.685938</td>\n      <td>10.110299</td>\n      <td>0.838998</td>\n      <td>0.728699</td>\n      <td>0.909993</td>\n      <td>4.881830</td>\n      <td>1.051056e-06</td>\n      <td>***</td>\n    </tr>\n    <tr>\n      <th>d_z</th>\n      <td>0.469337</td>\n      <td>0.397102</td>\n      <td>0.541573</td>\n      <td>0.036856</td>\n      <td>1.598934</td>\n      <td>1.487507</td>\n      <td>1.718709</td>\n      <td>0.615227</td>\n      <td>0.597991</td>\n      <td>0.632178</td>\n      <td>12.734472</td>\n      <td>3.804091e-37</td>\n      <td>***</td>\n    </tr>\n    <tr>\n      <th>tta_z</th>\n      <td>2.242300</td>\n      <td>1.901045</td>\n      <td>2.583554</td>\n      <td>0.174113</td>\n      <td>9.414956</td>\n      <td>6.692883</td>\n      <td>13.244128</td>\n      <td>0.903984</td>\n      <td>0.870010</td>\n      <td>0.929796</td>\n      <td>12.878432</td>\n      <td>5.953249e-38</td>\n      <td>***</td>\n    </tr>\n    <tr>\n      <th>time_budget_z</th>\n      <td>-0.327912</td>\n      <td>-0.486948</td>\n      <td>-0.168876</td>\n      <td>0.081142</td>\n      <td>0.720426</td>\n      <td>0.614499</td>\n      <td>0.844613</td>\n      <td>0.418749</td>\n      <td>0.380613</td>\n      <td>0.457881</td>\n      <td>-4.041205</td>\n      <td>5.317721e-05</td>\n      <td>***</td>\n    </tr>\n    <tr>\n      <th>dwell_mirror_z</th>\n      <td>-0.321945</td>\n      <td>-0.440772</td>\n      <td>-0.203119</td>\n      <td>0.060627</td>\n      <td>0.724738</td>\n      <td>0.643540</td>\n      <td>0.816181</td>\n      <td>0.420202</td>\n      <td>0.391557</td>\n      <td>0.449394</td>\n      <td>-5.310285</td>\n      <td>1.094536e-07</td>\n      <td>***</td>\n    </tr>\n    <tr>\n      <th>RT_z</th>\n      <td>-1.909833</td>\n      <td>-2.028957</td>\n      <td>-1.790709</td>\n      <td>0.060779</td>\n      <td>0.148105</td>\n      <td>0.131473</td>\n      <td>0.166842</td>\n      <td>0.129000</td>\n      <td>0.116196</td>\n      <td>0.142986</td>\n      <td>-31.422817</td>\n      <td>9.873984e-217</td>\n      <td>***</td>\n    </tr>\n    <tr>\n      <th>d_z:dwell_mirror_z</th>\n      <td>-0.056345</td>\n      <td>-0.130568</td>\n      <td>0.017878</td>\n      <td>0.037869</td>\n      <td>0.945213</td>\n      <td>0.877597</td>\n      <td>1.018039</td>\n      <td>0.485917</td>\n      <td>0.467404</td>\n      <td>0.504469</td>\n      <td>-1.487875</td>\n      <td>1.367840e-01</td>\n      <td></td>\n    </tr>\n    <tr>\n      <th>tta_z:dwell_mirror_z</th>\n      <td>0.135669</td>\n      <td>0.019393</td>\n      <td>0.251945</td>\n      <td>0.059325</td>\n      <td>1.145303</td>\n      <td>1.019583</td>\n      <td>1.286525</td>\n      <td>0.533865</td>\n      <td>0.504848</td>\n      <td>0.562655</td>\n      <td>2.286861</td>\n      <td>2.220393e-02</td>\n      <td>*</td>\n    </tr>\n    <tr>\n      <th>time_budget_z:dwell_mirror_z</th>\n      <td>0.208178</td>\n      <td>0.113350</td>\n      <td>0.303006</td>\n      <td>0.048382</td>\n      <td>1.231433</td>\n      <td>1.120024</td>\n      <td>1.353923</td>\n      <td>0.551857</td>\n      <td>0.528307</td>\n      <td>0.575177</td>\n      <td>4.302760</td>\n      <td>1.686832e-05</td>\n      <td>***</td>\n    </tr>\n  </tbody>\n</table>\n</div>"
     },
     "execution_count": 18,
     "metadata": {},
     "output_type": "execute_result"
    }
   ],
   "source": [
    "model_decision_dwell_RT = pymer4.models.Lmer(\"is_gap_accepted ~ (d_z + tta_z + time_budget_z)*dwell_mirror_z + RT_z + (tta_z + time_budget_z | participant) \", data=metrics, family=\"binomial\")\n",
    "model_decision_dwell_RT_fit = model_decision_dwell_RT.fit(summarize=True)\n",
    "model_decision_dwell_RT.coefs"
   ],
   "metadata": {
    "collapsed": false,
    "ExecuteTime": {
     "end_time": "2023-11-21T19:25:14.084905200Z",
     "start_time": "2023-11-21T19:24:41.428745900Z"
    }
   }
  },
  {
   "cell_type": "code",
   "execution_count": 19,
   "outputs": [],
   "source": [
    "coefs = model_decision_dwell_RT.coefs.loc[:, [\"Estimate\", \"SE\", \"Z-stat\", \"P-val\"]]\n",
    "coefs[\"P-val\"] = coefs[\"P-val\"].apply(p_formatted)\n",
    "styler = coefs.rename(columns=column_names, index=var_names).style.format(precision=2)\n",
    "\n",
    "with open(os.path.join(output_path, \"tab_decision_dwell_RT.tex\"), 'w') as writer:\n",
    "     writer.write(styler.to_latex(\n",
    "         column_format=\"rrrrr\", position=\"!ht\", position_float=\"centering\",\n",
    "         hrules=True, label=\"tab:decision_dwell_RT\", caption=\"Standardized coefficients of the mixed-effects logistic regression describing the decision outcome as a function of kinematic variables, response time, and relative dwell time. Random slopes of TTA to the overtaking vehicle and the time budget provided by the merging lane were included per participant: \\\\texttt{decision $\\sim$ 1 + RT + distance + (TTA * time budget * \\\\% dwell time mirror) + (1 + TTA + time budget) | participant}.\"\n",
    "     )\n",
    ")"
   ],
   "metadata": {
    "collapsed": false,
    "ExecuteTime": {
     "end_time": "2023-11-21T19:25:14.103336100Z",
     "start_time": "2023-11-21T19:25:14.083852100Z"
    }
   }
  }
 ],
 "metadata": {
  "kernelspec": {
   "display_name": "Python 3",
   "language": "python",
   "name": "python3"
  },
  "language_info": {
   "codemirror_mode": {
    "name": "ipython",
    "version": 2
   },
   "file_extension": ".py",
   "mimetype": "text/x-python",
   "name": "python",
   "nbconvert_exporter": "python",
   "pygments_lexer": "ipython2",
   "version": "2.7.6"
  }
 },
 "nbformat": 4,
 "nbformat_minor": 0
}
