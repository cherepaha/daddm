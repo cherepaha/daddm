{
 "cells": [
  {
   "cell_type": "code",
   "execution_count": 1,
   "metadata": {
    "collapsed": true,
    "ExecuteTime": {
     "end_time": "2023-11-28T15:54:18.449271200Z",
     "start_time": "2023-11-28T15:54:16.354426800Z"
    }
   },
   "outputs": [],
   "source": [
    "import pandas as pd\n",
    "import pymer4.models\n",
    "import numpy as np\n",
    "import scipy.stats\n",
    "import os"
   ]
  },
  {
   "cell_type": "markdown",
   "source": [
    "# Output and formatting settings"
   ],
   "metadata": {
    "collapsed": false
   }
  },
  {
   "cell_type": "code",
   "execution_count": 2,
   "outputs": [],
   "source": [
    "column_names = {\"Estimate\": \"$\\\\beta$\", \"Z-stat\": \"$z$\", \"P-val\": \"$p$\", \"T-stat\": \"$t$\", \"F-stat\": \"$F$\", \"2.5_ci\": \"CI 2.5\\%\", \"97.5_ci\": \"CI 97.5\\%\", \"NumDF\": \"df\"}\n",
    "var_names = {\"tta_z\": \"$\\\\textrm{TTA}$\",\n",
    "             \"d_z\": \"distance\",\n",
    "             \"time_budget_z\": \"time budget\",\n",
    "             \"decision1\": \"decision\",\n",
    "             \"dwell_mirror_z\": \"\\% dwell time mirror\",\n",
    "             \"RT_z\": \"RT\",\n",
    "             \"tta_z:time_budget_z\": \"$\\\\textrm{TTA}$:time budget\",\n",
    "             \"d_z:dwell_mirror_z\": \"distance:\\% dwell time mirror\",\n",
    "             \"tta_z:dwell_mirror_z\": \"$\\\\textrm{TTA}$:\\% dwell time mirror\",\n",
    "             \"time_budget_z:dwell_mirror_z\": \"time budget:\\% dwell time mirror\",\n",
    "             \"tta_z:time_budget_z:dwell_mirror_z\": \"$\\\\textrm{TTA}$:time budget:\\% dwell time mirror\",\n",
    "             \"decision1:d_z\": \"decision:distance\",\n",
    "             \"decision1:tta_z\": \"decision:$\\\\textrm{TTA}$\",\n",
    "             \"decision1:time_budget_z\": \"decision:time budget\",\n",
    "             \"decision1:tta_z:time_budget_z\": \"decision:$\\\\textrm{TTA}$:time budget\"}\n",
    "\n",
    "def p_formatted(p):\n",
    "    if p>0.01:\n",
    "        return \"{:.2f}\".format(p)\n",
    "    elif p>0.001:\n",
    "        return \"{:.3f}\".format(p)\n",
    "    else:\n",
    "        return \"$<0.001$\""
   ],
   "metadata": {
    "collapsed": false,
    "ExecuteTime": {
     "end_time": "2023-11-28T15:54:18.465672100Z",
     "start_time": "2023-11-28T15:54:18.449271200Z"
    }
   }
  },
  {
   "cell_type": "markdown",
   "source": [
    "# Read and pre-process the data"
   ],
   "metadata": {
    "collapsed": false
   }
  },
  {
   "cell_type": "code",
   "execution_count": 3,
   "outputs": [],
   "source": [
    "output_path = \"output\"\n",
    "\n",
    "processed_data_path = \"../../surfdrive/data/merging_eye_tracking/processed\"\n",
    "data = pd.read_csv(os.path.join(processed_data_path, \"processed_eye_data.csv\"))\n",
    "metrics = pd.read_csv(os.path.join(processed_data_path, \"metrics.csv\"))\n",
    "\n",
    "def get_z_score(x):\n",
    "    return (x-x.mean())/x.std()\n",
    "\n",
    "for col in [\"RT\", \"d\", \"tta\", \"time_budget\", \"dwell_mirror\"]:\n",
    "    metrics.loc[:, col+\"_z\"] = get_z_score(metrics[col]) "
   ],
   "metadata": {
    "collapsed": false,
    "ExecuteTime": {
     "end_time": "2023-11-28T15:54:22.163444Z",
     "start_time": "2023-11-28T15:54:18.467663400Z"
    }
   }
  },
  {
   "cell_type": "markdown",
   "source": [
    "# Decision outcome as a function of kinematic conditions"
   ],
   "metadata": {
    "collapsed": false,
    "pycharm": {
     "name": "#%% md\n"
    }
   }
  },
  {
   "cell_type": "code",
   "execution_count": 4,
   "outputs": [
    {
     "name": "stdout",
     "output_type": "stream",
     "text": [
      "Linear mixed model fit by maximum likelihood  ['lmerMod']\n",
      "Formula: is_gap_accepted~1+d_z+tta_z+time_budget_z+(1+tta_z+time_budget_z+d_z|participant)\n",
      "\n",
      "Family: binomial\t Inference: parametric\n",
      "\n",
      "Number of observations: 8634\t Groups: {'participant': 24.0}\n",
      "\n",
      "Log-likelihood: -3232.833 \t AIC: 6493.667\n",
      "\n",
      "Random effects:\n",
      "\n",
      "                      Name    Var    Std\n",
      "participant    (Intercept)  1.622  1.273\n",
      "participant          tta_z  0.268  0.518\n",
      "participant  time_budget_z  0.202  0.449\n",
      "participant            d_z  0.251  0.501\n",
      "\n",
      "                       IV1            IV2   Corr\n",
      "participant    (Intercept)          tta_z -0.124\n",
      "participant    (Intercept)  time_budget_z -0.220\n",
      "participant    (Intercept)            d_z  0.215\n",
      "participant          tta_z  time_budget_z -0.140\n",
      "participant          tta_z            d_z -0.548\n",
      "participant  time_budget_z            d_z  0.462\n",
      "\n",
      "Fixed effects:\n"
     ]
    },
    {
     "data": {
      "text/plain": "               Estimate    2.5_ci   97.5_ci        SE        OR  OR_2.5_ci  \\\n(Intercept)    1.299496  0.780144  1.818847  0.264980  3.667447   2.181787   \nd_z            0.537354  0.325556  0.749153  0.108062  1.711472   1.384800   \ntta_z          1.841692  1.611944  2.071439  0.117220  6.307198   5.012548   \ntime_budget_z -0.416696 -0.608421 -0.224971  0.097821  0.659221   0.544210   \n\n               OR_97.5_ci      Prob  Prob_2.5_ci  Prob_97.5_ci     Z-stat  \\\n(Intercept)      6.164747  0.785750     0.685711      0.860428   4.904127   \nd_z              2.115207  0.631197     0.580678      0.678994   4.972624   \ntta_z            7.936233  0.863149     0.833681      0.888096  15.711401   \ntime_budget_z    0.798539  0.397308     0.352420      0.443993  -4.259795   \n\n                      P-val  Sig  \n(Intercept)    9.384372e-07  ***  \nd_z            6.605256e-07  ***  \ntta_z          1.263553e-55  ***  \ntime_budget_z  2.046146e-05  ***  ",
      "text/html": "<div>\n<style scoped>\n    .dataframe tbody tr th:only-of-type {\n        vertical-align: middle;\n    }\n\n    .dataframe tbody tr th {\n        vertical-align: top;\n    }\n\n    .dataframe thead th {\n        text-align: right;\n    }\n</style>\n<table border=\"1\" class=\"dataframe\">\n  <thead>\n    <tr style=\"text-align: right;\">\n      <th></th>\n      <th>Estimate</th>\n      <th>2.5_ci</th>\n      <th>97.5_ci</th>\n      <th>SE</th>\n      <th>OR</th>\n      <th>OR_2.5_ci</th>\n      <th>OR_97.5_ci</th>\n      <th>Prob</th>\n      <th>Prob_2.5_ci</th>\n      <th>Prob_97.5_ci</th>\n      <th>Z-stat</th>\n      <th>P-val</th>\n      <th>Sig</th>\n    </tr>\n  </thead>\n  <tbody>\n    <tr>\n      <th>(Intercept)</th>\n      <td>1.299496</td>\n      <td>0.780144</td>\n      <td>1.818847</td>\n      <td>0.264980</td>\n      <td>3.667447</td>\n      <td>2.181787</td>\n      <td>6.164747</td>\n      <td>0.785750</td>\n      <td>0.685711</td>\n      <td>0.860428</td>\n      <td>4.904127</td>\n      <td>9.384372e-07</td>\n      <td>***</td>\n    </tr>\n    <tr>\n      <th>d_z</th>\n      <td>0.537354</td>\n      <td>0.325556</td>\n      <td>0.749153</td>\n      <td>0.108062</td>\n      <td>1.711472</td>\n      <td>1.384800</td>\n      <td>2.115207</td>\n      <td>0.631197</td>\n      <td>0.580678</td>\n      <td>0.678994</td>\n      <td>4.972624</td>\n      <td>6.605256e-07</td>\n      <td>***</td>\n    </tr>\n    <tr>\n      <th>tta_z</th>\n      <td>1.841692</td>\n      <td>1.611944</td>\n      <td>2.071439</td>\n      <td>0.117220</td>\n      <td>6.307198</td>\n      <td>5.012548</td>\n      <td>7.936233</td>\n      <td>0.863149</td>\n      <td>0.833681</td>\n      <td>0.888096</td>\n      <td>15.711401</td>\n      <td>1.263553e-55</td>\n      <td>***</td>\n    </tr>\n    <tr>\n      <th>time_budget_z</th>\n      <td>-0.416696</td>\n      <td>-0.608421</td>\n      <td>-0.224971</td>\n      <td>0.097821</td>\n      <td>0.659221</td>\n      <td>0.544210</td>\n      <td>0.798539</td>\n      <td>0.397308</td>\n      <td>0.352420</td>\n      <td>0.443993</td>\n      <td>-4.259795</td>\n      <td>2.046146e-05</td>\n      <td>***</td>\n    </tr>\n  </tbody>\n</table>\n</div>"
     },
     "execution_count": 4,
     "metadata": {},
     "output_type": "execute_result"
    }
   ],
   "source": [
    "model_decision = pymer4.models.Lmer(\"is_gap_accepted ~ 1 + d_z + tta_z + time_budget_z + (1 + tta_z + time_budget_z + d_z | participant)\", data=metrics, family=\"binomial\")\n",
    "model_decision_fit = model_decision.fit(summarize=True)\n",
    "model_decision.coefs"
   ],
   "metadata": {
    "collapsed": false,
    "pycharm": {
     "name": "#%%\n"
    },
    "ExecuteTime": {
     "end_time": "2023-11-28T15:54:49.337175300Z",
     "start_time": "2023-11-28T15:54:22.165436700Z"
    }
   }
  },
  {
   "cell_type": "code",
   "execution_count": 5,
   "outputs": [],
   "source": [
    "coefs = model_decision.coefs.loc[:, [\"Estimate\", \"SE\", \"Z-stat\", \"P-val\"]]\n",
    "coefs[\"P-val\"] = coefs[\"P-val\"].apply(p_formatted)\n",
    "styler = coefs.rename(columns=column_names, index=var_names).style.format(precision=2)\n",
    "\n",
    "with open(os.path.join(output_path, \"tab_decision.tex\"), 'w') as writer:\n",
    "     writer.write(styler.to_latex(\n",
    "         column_format=\"rrrrr\", position=\"h\", position_float=\"centering\",\n",
    "         hrules=True, label=\"tab:decision\", caption=\"Standardized coefficients of the mixed-effects logistic regression describing the final decision. All effects were modelled as random slopes per participant: \\\\texttt{decision $\\sim$ 1 + distance + TTA + time budget + (1 + distance + TTA + time budget) | participant}.\"\n",
    "     )\n",
    ")"
   ],
   "metadata": {
    "collapsed": false,
    "ExecuteTime": {
     "end_time": "2023-11-28T15:54:49.521601300Z",
     "start_time": "2023-11-28T15:54:49.338132Z"
    }
   }
  },
  {
   "cell_type": "markdown",
   "source": [
    "# Response time"
   ],
   "metadata": {
    "collapsed": false
   }
  },
  {
   "cell_type": "code",
   "execution_count": 6,
   "outputs": [
    {
     "name": "stdout",
     "output_type": "stream",
     "text": [
      "Linear mixed model fit by REML [’lmerMod’]\n",
      "Formula: RT_z~1+decision*(d_z+tta_z*time_budget_z)+(decision|participant)\n",
      "\n",
      "Family: gaussian\t Inference: parametric\n",
      "\n",
      "Number of observations: 8634\t Groups: {'participant': 24.0}\n",
      "\n",
      "Log-likelihood: -9164.353 \t AIC: 18356.706\n",
      "\n",
      "Random effects:\n",
      "\n",
      "                       Name    Var    Std\n",
      "participant     (Intercept)  0.343  0.586\n",
      "participant  decisionReject  0.201  0.449\n",
      "Residual                     0.475  0.689\n",
      "\n",
      "                     IV1             IV2   Corr\n",
      "participant  (Intercept)  decisionReject -0.431\n",
      "\n",
      "Fixed effects:\n"
     ]
    },
    {
     "data": {
      "text/plain": "                               Estimate    2.5_ci   97.5_ci        SE  \\\n(Intercept)                   -0.262322 -0.497570 -0.027074  0.120027   \ndecision1                      1.076628  0.891219  1.262037  0.094598   \nd_z                           -0.036674 -0.054909 -0.018440  0.009303   \ntta_z                          0.038983  0.018668  0.059298  0.010365   \ntime_budget_z                  0.057298  0.037564  0.077032  0.010069   \ntta_z:time_budget_z            0.044440  0.024741  0.064139  0.010051   \ndecision1:d_z                  0.091484  0.059867  0.123102  0.016132   \ndecision1:tta_z                0.284746  0.241664  0.327829  0.021981   \ndecision1:time_budget_z        0.131781  0.089988  0.173575  0.021323   \ndecision1:tta_z:time_budget_z  0.042008  0.000436  0.083580  0.021211   \n\n                                        DF     T-stat         P-val  Sig  \n(Intercept)                      23.082381  -2.185533  3.925263e-02    *  \ndecision1                        23.988532  11.381083  3.732780e-11  ***  \nd_z                            8579.888190  -3.942068  8.142388e-05  ***  \ntta_z                          8589.916562   3.761069  1.703127e-04  ***  \ntime_budget_z                  8579.983000   5.690774  1.306221e-08  ***  \ntta_z:time_budget_z            8579.076836   4.421580  9.918840e-06  ***  \ndecision1:d_z                  8591.988758   5.671088  1.464876e-08  ***  \ndecision1:tta_z                8599.404594  12.954012  5.051654e-38  ***  \ndecision1:time_budget_z        8583.265825   6.180098  6.698096e-10  ***  \ndecision1:tta_z:time_budget_z  8581.322753   1.980505  4.767869e-02    *  ",
      "text/html": "<div>\n<style scoped>\n    .dataframe tbody tr th:only-of-type {\n        vertical-align: middle;\n    }\n\n    .dataframe tbody tr th {\n        vertical-align: top;\n    }\n\n    .dataframe thead th {\n        text-align: right;\n    }\n</style>\n<table border=\"1\" class=\"dataframe\">\n  <thead>\n    <tr style=\"text-align: right;\">\n      <th></th>\n      <th>Estimate</th>\n      <th>2.5_ci</th>\n      <th>97.5_ci</th>\n      <th>SE</th>\n      <th>DF</th>\n      <th>T-stat</th>\n      <th>P-val</th>\n      <th>Sig</th>\n    </tr>\n  </thead>\n  <tbody>\n    <tr>\n      <th>(Intercept)</th>\n      <td>-0.262322</td>\n      <td>-0.497570</td>\n      <td>-0.027074</td>\n      <td>0.120027</td>\n      <td>23.082381</td>\n      <td>-2.185533</td>\n      <td>3.925263e-02</td>\n      <td>*</td>\n    </tr>\n    <tr>\n      <th>decision1</th>\n      <td>1.076628</td>\n      <td>0.891219</td>\n      <td>1.262037</td>\n      <td>0.094598</td>\n      <td>23.988532</td>\n      <td>11.381083</td>\n      <td>3.732780e-11</td>\n      <td>***</td>\n    </tr>\n    <tr>\n      <th>d_z</th>\n      <td>-0.036674</td>\n      <td>-0.054909</td>\n      <td>-0.018440</td>\n      <td>0.009303</td>\n      <td>8579.888190</td>\n      <td>-3.942068</td>\n      <td>8.142388e-05</td>\n      <td>***</td>\n    </tr>\n    <tr>\n      <th>tta_z</th>\n      <td>0.038983</td>\n      <td>0.018668</td>\n      <td>0.059298</td>\n      <td>0.010365</td>\n      <td>8589.916562</td>\n      <td>3.761069</td>\n      <td>1.703127e-04</td>\n      <td>***</td>\n    </tr>\n    <tr>\n      <th>time_budget_z</th>\n      <td>0.057298</td>\n      <td>0.037564</td>\n      <td>0.077032</td>\n      <td>0.010069</td>\n      <td>8579.983000</td>\n      <td>5.690774</td>\n      <td>1.306221e-08</td>\n      <td>***</td>\n    </tr>\n    <tr>\n      <th>tta_z:time_budget_z</th>\n      <td>0.044440</td>\n      <td>0.024741</td>\n      <td>0.064139</td>\n      <td>0.010051</td>\n      <td>8579.076836</td>\n      <td>4.421580</td>\n      <td>9.918840e-06</td>\n      <td>***</td>\n    </tr>\n    <tr>\n      <th>decision1:d_z</th>\n      <td>0.091484</td>\n      <td>0.059867</td>\n      <td>0.123102</td>\n      <td>0.016132</td>\n      <td>8591.988758</td>\n      <td>5.671088</td>\n      <td>1.464876e-08</td>\n      <td>***</td>\n    </tr>\n    <tr>\n      <th>decision1:tta_z</th>\n      <td>0.284746</td>\n      <td>0.241664</td>\n      <td>0.327829</td>\n      <td>0.021981</td>\n      <td>8599.404594</td>\n      <td>12.954012</td>\n      <td>5.051654e-38</td>\n      <td>***</td>\n    </tr>\n    <tr>\n      <th>decision1:time_budget_z</th>\n      <td>0.131781</td>\n      <td>0.089988</td>\n      <td>0.173575</td>\n      <td>0.021323</td>\n      <td>8583.265825</td>\n      <td>6.180098</td>\n      <td>6.698096e-10</td>\n      <td>***</td>\n    </tr>\n    <tr>\n      <th>decision1:tta_z:time_budget_z</th>\n      <td>0.042008</td>\n      <td>0.000436</td>\n      <td>0.083580</td>\n      <td>0.021211</td>\n      <td>8581.322753</td>\n      <td>1.980505</td>\n      <td>4.767869e-02</td>\n      <td>*</td>\n    </tr>\n  </tbody>\n</table>\n</div>"
     },
     "execution_count": 6,
     "metadata": {},
     "output_type": "execute_result"
    }
   ],
   "source": [
    "model_RT = pymer4.models.Lmer(\"RT_z ~ 1 + decision*(d_z + tta_z*time_budget_z) + (decision | participant) \", data=metrics, family=\"gaussian\")\n",
    "model_RT.fit(summarize=True, factors={\"decision\": [\"Accept\", \"Reject\"]})\n",
    "model_RT.coefs"
   ],
   "metadata": {
    "collapsed": false,
    "ExecuteTime": {
     "end_time": "2023-11-28T15:54:52.565919800Z",
     "start_time": "2023-11-28T15:54:49.439140800Z"
    }
   }
  },
  {
   "cell_type": "code",
   "execution_count": 7,
   "outputs": [],
   "source": [
    "coefs = model_RT.coefs.loc[:, [\"Estimate\", \"SE\", \"T-stat\", \"P-val\"]]\n",
    "coefs[\"P-val\"] = coefs[\"P-val\"].apply(p_formatted)\n",
    "styler = coefs.rename(columns=column_names, index=var_names).style.format(precision=2)\n",
    "\n",
    "with open(os.path.join(output_path, \"tab_RT.tex\"), 'w') as writer:\n",
    "     writer.write(styler.to_latex(\n",
    "         column_format=\"rrrrr\", position=\"h\", position_float=\"centering\",\n",
    "         hrules=True, label=\"tab:RT\", caption=\"Standardized coefficients of the mixed-effects linear regression describing response times. Random slope of decision was included per participant: \\\\texttt{RT $\\sim$ 1 + decision*(TTA*time budget + distance) + (1 + decision) | participant}. ``Accept'' was set as a reference level for the decision outcome factor.\"\n",
    "     )\n",
    ")"
   ],
   "metadata": {
    "collapsed": false,
    "ExecuteTime": {
     "end_time": "2023-11-28T15:54:52.637739100Z",
     "start_time": "2023-11-28T15:54:52.564920200Z"
    }
   }
  },
  {
   "cell_type": "markdown",
   "source": [
    "## ANOVA"
   ],
   "metadata": {
    "collapsed": false
   }
  },
  {
   "cell_type": "code",
   "execution_count": 8,
   "outputs": [
    {
     "name": "stdout",
     "output_type": "stream",
     "text": [
      "SS Type III Analysis of Variance Table with Satterthwaite approximated degrees of freedom:\n",
      "(NOTE: Using original model contrasts, orthogonality not guaranteed)\n"
     ]
    },
    {
     "data": {
      "text/plain": "                                      SS          MS  NumDF      DenomDF  \\\ndecision                       61.469085   61.469085      1    23.988532   \nd_z                             0.599919    0.599919      1  8594.728327   \ntta_z                         129.168121  129.168121      1  8597.057317   \ntime_budget_z                  63.368563   63.368563      1  8586.658892   \ntta_z:time_budget_z            18.071613   18.071613      1  8582.008689   \ndecision:d_z                   15.262386   15.262386      1  8591.988758   \ndecision:tta_z                 79.633941   79.633941      1  8599.404594   \ndecision:time_budget_z         18.125095   18.125095      1  8583.265825   \ndecision:tta_z:time_budget_z    1.861408    1.861408      1  8581.322753   \n\n                                  F-stat         P-val  Sig  \ndecision                      129.529044  3.732780e-11  ***  \nd_z                             1.264164  2.608958e-01       \ntta_z                         272.185979  3.173882e-60  ***  \ntime_budget_z                 133.531667  1.165224e-30  ***  \ntta_z:time_budget_z            38.080911  7.094581e-10  ***  \ndecision:d_z                   32.161243  1.464876e-08  ***  \ndecision:tta_z                167.806438  5.051654e-38  ***  \ndecision:time_budget_z         38.193609  6.698096e-10  ***  \ndecision:tta_z:time_budget_z    3.922400  4.767869e-02    *  ",
      "text/html": "<div>\n<style scoped>\n    .dataframe tbody tr th:only-of-type {\n        vertical-align: middle;\n    }\n\n    .dataframe tbody tr th {\n        vertical-align: top;\n    }\n\n    .dataframe thead th {\n        text-align: right;\n    }\n</style>\n<table border=\"1\" class=\"dataframe\">\n  <thead>\n    <tr style=\"text-align: right;\">\n      <th></th>\n      <th>SS</th>\n      <th>MS</th>\n      <th>NumDF</th>\n      <th>DenomDF</th>\n      <th>F-stat</th>\n      <th>P-val</th>\n      <th>Sig</th>\n    </tr>\n  </thead>\n  <tbody>\n    <tr>\n      <th>decision</th>\n      <td>61.469085</td>\n      <td>61.469085</td>\n      <td>1</td>\n      <td>23.988532</td>\n      <td>129.529044</td>\n      <td>3.732780e-11</td>\n      <td>***</td>\n    </tr>\n    <tr>\n      <th>d_z</th>\n      <td>0.599919</td>\n      <td>0.599919</td>\n      <td>1</td>\n      <td>8594.728327</td>\n      <td>1.264164</td>\n      <td>2.608958e-01</td>\n      <td></td>\n    </tr>\n    <tr>\n      <th>tta_z</th>\n      <td>129.168121</td>\n      <td>129.168121</td>\n      <td>1</td>\n      <td>8597.057317</td>\n      <td>272.185979</td>\n      <td>3.173882e-60</td>\n      <td>***</td>\n    </tr>\n    <tr>\n      <th>time_budget_z</th>\n      <td>63.368563</td>\n      <td>63.368563</td>\n      <td>1</td>\n      <td>8586.658892</td>\n      <td>133.531667</td>\n      <td>1.165224e-30</td>\n      <td>***</td>\n    </tr>\n    <tr>\n      <th>tta_z:time_budget_z</th>\n      <td>18.071613</td>\n      <td>18.071613</td>\n      <td>1</td>\n      <td>8582.008689</td>\n      <td>38.080911</td>\n      <td>7.094581e-10</td>\n      <td>***</td>\n    </tr>\n    <tr>\n      <th>decision:d_z</th>\n      <td>15.262386</td>\n      <td>15.262386</td>\n      <td>1</td>\n      <td>8591.988758</td>\n      <td>32.161243</td>\n      <td>1.464876e-08</td>\n      <td>***</td>\n    </tr>\n    <tr>\n      <th>decision:tta_z</th>\n      <td>79.633941</td>\n      <td>79.633941</td>\n      <td>1</td>\n      <td>8599.404594</td>\n      <td>167.806438</td>\n      <td>5.051654e-38</td>\n      <td>***</td>\n    </tr>\n    <tr>\n      <th>decision:time_budget_z</th>\n      <td>18.125095</td>\n      <td>18.125095</td>\n      <td>1</td>\n      <td>8583.265825</td>\n      <td>38.193609</td>\n      <td>6.698096e-10</td>\n      <td>***</td>\n    </tr>\n    <tr>\n      <th>decision:tta_z:time_budget_z</th>\n      <td>1.861408</td>\n      <td>1.861408</td>\n      <td>1</td>\n      <td>8581.322753</td>\n      <td>3.922400</td>\n      <td>4.767869e-02</td>\n      <td>*</td>\n    </tr>\n  </tbody>\n</table>\n</div>"
     },
     "execution_count": 8,
     "metadata": {},
     "output_type": "execute_result"
    }
   ],
   "source": [
    "RT_anova = model_RT.anova()\n",
    "RT_decision_marginal_estimates, RT_decision_comparisons = model_RT.post_hoc(marginal_vars=[\"decision\"])\n",
    "RT_anova"
   ],
   "metadata": {
    "collapsed": false,
    "ExecuteTime": {
     "end_time": "2023-11-28T15:54:53.694068900Z",
     "start_time": "2023-11-28T15:54:52.595961700Z"
    }
   }
  },
  {
   "cell_type": "code",
   "execution_count": 9,
   "outputs": [],
   "source": [
    "coefs = RT_anova.loc[:, [\"SS\", \"MS\", \"F-stat\", \"P-val\"]]\n",
    "coefs[\"P-val\"] = coefs[\"P-val\"].apply(p_formatted)\n",
    "styler = coefs.rename(columns=column_names, index=var_names).style.format(precision=2)\n",
    "\n",
    "with open(os.path.join(output_path, \"tab_RT_ANOVA.tex\"), 'w') as writer:\n",
    "     writer.write(styler.to_latex(\n",
    "         column_format=\"rrrrrr\", position=\"h\", position_float=\"centering\",\n",
    "         hrules=True, label=\"tab:RT_ANOVA\", caption=\"ANOVA table based on the mixed-effects linear regression describing response time. Random slope of decision was included per participant: \\\\texttt{RT $\\sim$ 1 + decision*(TTA*time budget + distance) + (1 + decision) | participant}.\"\n",
    "     )\n",
    ")"
   ],
   "metadata": {
    "collapsed": false,
    "ExecuteTime": {
     "end_time": "2023-11-28T15:54:53.762350400Z",
     "start_time": "2023-11-28T15:54:53.689583600Z"
    }
   }
  },
  {
   "cell_type": "markdown",
   "source": [
    "## Difference between accept and reject RTs"
   ],
   "metadata": {
    "collapsed": false
   }
  },
  {
   "cell_type": "code",
   "execution_count": 10,
   "outputs": [
    {
     "data": {
      "text/plain": "          Contrast  Estimate  2.5_ci  97.5_ci     SE      DF  T-stat  P-val  \\\n1  Accept - Reject    -1.077  -1.272   -0.881  0.095  23.988 -11.382    0.0   \n\n   Sig  \n1  ***  ",
      "text/html": "<div>\n<style scoped>\n    .dataframe tbody tr th:only-of-type {\n        vertical-align: middle;\n    }\n\n    .dataframe tbody tr th {\n        vertical-align: top;\n    }\n\n    .dataframe thead th {\n        text-align: right;\n    }\n</style>\n<table border=\"1\" class=\"dataframe\">\n  <thead>\n    <tr style=\"text-align: right;\">\n      <th></th>\n      <th>Contrast</th>\n      <th>Estimate</th>\n      <th>2.5_ci</th>\n      <th>97.5_ci</th>\n      <th>SE</th>\n      <th>DF</th>\n      <th>T-stat</th>\n      <th>P-val</th>\n      <th>Sig</th>\n    </tr>\n  </thead>\n  <tbody>\n    <tr>\n      <th>1</th>\n      <td>Accept - Reject</td>\n      <td>-1.077</td>\n      <td>-1.272</td>\n      <td>-0.881</td>\n      <td>0.095</td>\n      <td>23.988</td>\n      <td>-11.382</td>\n      <td>0.0</td>\n      <td>***</td>\n    </tr>\n  </tbody>\n</table>\n</div>"
     },
     "execution_count": 10,
     "metadata": {},
     "output_type": "execute_result"
    }
   ],
   "source": [
    "RT_decision_marginal_estimates, RT_decision_comparisons = model_RT.post_hoc(marginal_vars=[\"decision\"])\n",
    "RT_decision_comparisons"
   ],
   "metadata": {
    "collapsed": false,
    "ExecuteTime": {
     "end_time": "2023-11-28T15:54:54.558256400Z",
     "start_time": "2023-11-28T15:54:53.727010900Z"
    }
   }
  },
  {
   "cell_type": "code",
   "execution_count": 11,
   "outputs": [
    {
     "data": {
      "text/plain": "1   -0.687359\nName: Estimate, dtype: float64"
     },
     "execution_count": 11,
     "metadata": {},
     "output_type": "execute_result"
    }
   ],
   "source": [
    "RT_decision_comparisons.Estimate*metrics.RT.std()"
   ],
   "metadata": {
    "collapsed": false,
    "ExecuteTime": {
     "end_time": "2023-11-28T15:54:54.578572800Z",
     "start_time": "2023-11-28T15:54:54.557292800Z"
    }
   }
  },
  {
   "cell_type": "markdown",
   "source": [
    "## Estimates of condition effects on RT per decision"
   ],
   "metadata": {
    "collapsed": false
   }
  },
  {
   "cell_type": "code",
   "execution_count": 12,
   "outputs": [],
   "source": [
    "def get_marginal_estimates(model_RT, marginal_vars):\n",
    "    marginal_estimates, comparisons = model_RT.post_hoc(marginal_vars=marginal_vars, grouping_vars=[\"decision\"])\n",
    "    marginal_estimates[\"T-stat\"] = marginal_estimates[\"Estimate\"]/marginal_estimates[\"SE\"]\n",
    "    marginal_estimates[\"P-val\"] = scipy.stats.t.sf(np.abs(marginal_estimates[\"T-stat\"]), marginal_estimates.DF)\n",
    "    return marginal_estimates"
   ],
   "metadata": {
    "collapsed": false,
    "ExecuteTime": {
     "end_time": "2023-11-28T15:54:54.629853100Z",
     "start_time": "2023-11-28T15:54:54.572313300Z"
    }
   }
  },
  {
   "cell_type": "code",
   "execution_count": 13,
   "outputs": [
    {
     "data": {
      "text/plain": "  decision  Estimate  2.5_ci  97.5_ci     SE        DF     T-stat  \\\n1   Accept     0.039   0.019    0.059  0.010  8589.916   3.900000   \n2   Reject     0.324   0.286    0.362  0.019  8598.869  17.052632   \n\n          P-val  \n1  4.846282e-05  \n2  1.880770e-64  ",
      "text/html": "<div>\n<style scoped>\n    .dataframe tbody tr th:only-of-type {\n        vertical-align: middle;\n    }\n\n    .dataframe tbody tr th {\n        vertical-align: top;\n    }\n\n    .dataframe thead th {\n        text-align: right;\n    }\n</style>\n<table border=\"1\" class=\"dataframe\">\n  <thead>\n    <tr style=\"text-align: right;\">\n      <th></th>\n      <th>decision</th>\n      <th>Estimate</th>\n      <th>2.5_ci</th>\n      <th>97.5_ci</th>\n      <th>SE</th>\n      <th>DF</th>\n      <th>T-stat</th>\n      <th>P-val</th>\n    </tr>\n  </thead>\n  <tbody>\n    <tr>\n      <th>1</th>\n      <td>Accept</td>\n      <td>0.039</td>\n      <td>0.019</td>\n      <td>0.059</td>\n      <td>0.010</td>\n      <td>8589.916</td>\n      <td>3.900000</td>\n      <td>4.846282e-05</td>\n    </tr>\n    <tr>\n      <th>2</th>\n      <td>Reject</td>\n      <td>0.324</td>\n      <td>0.286</td>\n      <td>0.362</td>\n      <td>0.019</td>\n      <td>8598.869</td>\n      <td>17.052632</td>\n      <td>1.880770e-64</td>\n    </tr>\n  </tbody>\n</table>\n</div>"
     },
     "execution_count": 13,
     "metadata": {},
     "output_type": "execute_result"
    }
   ],
   "source": [
    "get_marginal_estimates(model_RT, \"tta_z\")"
   ],
   "metadata": {
    "collapsed": false,
    "ExecuteTime": {
     "end_time": "2023-11-28T15:54:55.507192800Z",
     "start_time": "2023-11-28T15:54:54.588418600Z"
    }
   }
  },
  {
   "cell_type": "code",
   "execution_count": 14,
   "outputs": [
    {
     "data": {
      "text/plain": "  decision  Estimate  2.5_ci  97.5_ci     SE        DF    T-stat     P-val\n1   Accept    -0.037  -0.055   -0.018  0.009  8579.888 -4.111111  0.000020\n2   Reject     0.055   0.029    0.081  0.013  8597.518  4.230769  0.000012",
      "text/html": "<div>\n<style scoped>\n    .dataframe tbody tr th:only-of-type {\n        vertical-align: middle;\n    }\n\n    .dataframe tbody tr th {\n        vertical-align: top;\n    }\n\n    .dataframe thead th {\n        text-align: right;\n    }\n</style>\n<table border=\"1\" class=\"dataframe\">\n  <thead>\n    <tr style=\"text-align: right;\">\n      <th></th>\n      <th>decision</th>\n      <th>Estimate</th>\n      <th>2.5_ci</th>\n      <th>97.5_ci</th>\n      <th>SE</th>\n      <th>DF</th>\n      <th>T-stat</th>\n      <th>P-val</th>\n    </tr>\n  </thead>\n  <tbody>\n    <tr>\n      <th>1</th>\n      <td>Accept</td>\n      <td>-0.037</td>\n      <td>-0.055</td>\n      <td>-0.018</td>\n      <td>0.009</td>\n      <td>8579.888</td>\n      <td>-4.111111</td>\n      <td>0.000020</td>\n    </tr>\n    <tr>\n      <th>2</th>\n      <td>Reject</td>\n      <td>0.055</td>\n      <td>0.029</td>\n      <td>0.081</td>\n      <td>0.013</td>\n      <td>8597.518</td>\n      <td>4.230769</td>\n      <td>0.000012</td>\n    </tr>\n  </tbody>\n</table>\n</div>"
     },
     "execution_count": 14,
     "metadata": {},
     "output_type": "execute_result"
    }
   ],
   "source": [
    "get_marginal_estimates(model_RT, \"d_z\")"
   ],
   "metadata": {
    "collapsed": false,
    "ExecuteTime": {
     "end_time": "2023-11-28T15:54:56.311724700Z",
     "start_time": "2023-11-28T15:54:55.504692900Z"
    }
   }
  },
  {
   "cell_type": "code",
   "execution_count": 15,
   "outputs": [
    {
     "data": {
      "text/plain": "  decision  Estimate  2.5_ci  97.5_ci     SE        DF    T-stat         P-val\n1   Accept     0.057   0.038    0.077  0.010  8579.983  5.700000  6.188545e-09\n2   Reject     0.189   0.152    0.226  0.019  8586.301  9.947368  1.727870e-23",
      "text/html": "<div>\n<style scoped>\n    .dataframe tbody tr th:only-of-type {\n        vertical-align: middle;\n    }\n\n    .dataframe tbody tr th {\n        vertical-align: top;\n    }\n\n    .dataframe thead th {\n        text-align: right;\n    }\n</style>\n<table border=\"1\" class=\"dataframe\">\n  <thead>\n    <tr style=\"text-align: right;\">\n      <th></th>\n      <th>decision</th>\n      <th>Estimate</th>\n      <th>2.5_ci</th>\n      <th>97.5_ci</th>\n      <th>SE</th>\n      <th>DF</th>\n      <th>T-stat</th>\n      <th>P-val</th>\n    </tr>\n  </thead>\n  <tbody>\n    <tr>\n      <th>1</th>\n      <td>Accept</td>\n      <td>0.057</td>\n      <td>0.038</td>\n      <td>0.077</td>\n      <td>0.010</td>\n      <td>8579.983</td>\n      <td>5.700000</td>\n      <td>6.188545e-09</td>\n    </tr>\n    <tr>\n      <th>2</th>\n      <td>Reject</td>\n      <td>0.189</td>\n      <td>0.152</td>\n      <td>0.226</td>\n      <td>0.019</td>\n      <td>8586.301</td>\n      <td>9.947368</td>\n      <td>1.727870e-23</td>\n    </tr>\n  </tbody>\n</table>\n</div>"
     },
     "execution_count": 15,
     "metadata": {},
     "output_type": "execute_result"
    }
   ],
   "source": [
    "get_marginal_estimates(model_RT, \"time_budget_z\")"
   ],
   "metadata": {
    "collapsed": false,
    "ExecuteTime": {
     "end_time": "2023-11-28T15:54:57.161210700Z",
     "start_time": "2023-11-28T15:54:56.312725100Z"
    }
   }
  },
  {
   "cell_type": "markdown",
   "source": [
    "## Estimates of time budget effect per decision and TTA level"
   ],
   "metadata": {
    "collapsed": false
   }
  },
  {
   "cell_type": "code",
   "execution_count": 16,
   "outputs": [],
   "source": [
    "marginal_estimates, comparisons = model_RT.post_hoc(marginal_vars=[\"time_budget_z\"], grouping_vars=[\"decision\", \"tta_z\"])\n",
    "marginal_estimates[\"T-stat\"] = marginal_estimates[\"Estimate\"]/marginal_estimates[\"SE\"]\n",
    "marginal_estimates[\"P-val\"] = scipy.stats.t.sf(np.abs(marginal_estimates[\"T-stat\"]), marginal_estimates.DF)"
   ],
   "metadata": {
    "collapsed": false,
    "ExecuteTime": {
     "end_time": "2023-11-28T15:54:57.988391200Z",
     "start_time": "2023-11-28T15:54:57.148859700Z"
    }
   }
  },
  {
   "cell_type": "code",
   "execution_count": 17,
   "outputs": [
    {
     "data": {
      "text/plain": "  decision  tta_z  Estimate  2.5_ci  97.5_ci     SE        DF    T-stat  \\\n1   Accept   -1.0     0.013  -0.020    0.046  0.017  8580.044  0.764706   \n2   Reject   -1.0     0.103   0.075    0.130  0.014  8590.524  7.357143   \n3   Accept    1.0     0.102   0.080    0.123  0.011  8578.325  9.272727   \n4   Reject    1.0     0.276   0.207    0.344  0.035  8583.289  7.885714   \n\n          P-val  \n1  2.222339e-01  \n2  1.025880e-13  \n3  1.129338e-20  \n4  1.755460e-15  ",
      "text/html": "<div>\n<style scoped>\n    .dataframe tbody tr th:only-of-type {\n        vertical-align: middle;\n    }\n\n    .dataframe tbody tr th {\n        vertical-align: top;\n    }\n\n    .dataframe thead th {\n        text-align: right;\n    }\n</style>\n<table border=\"1\" class=\"dataframe\">\n  <thead>\n    <tr style=\"text-align: right;\">\n      <th></th>\n      <th>decision</th>\n      <th>tta_z</th>\n      <th>Estimate</th>\n      <th>2.5_ci</th>\n      <th>97.5_ci</th>\n      <th>SE</th>\n      <th>DF</th>\n      <th>T-stat</th>\n      <th>P-val</th>\n    </tr>\n  </thead>\n  <tbody>\n    <tr>\n      <th>1</th>\n      <td>Accept</td>\n      <td>-1.0</td>\n      <td>0.013</td>\n      <td>-0.020</td>\n      <td>0.046</td>\n      <td>0.017</td>\n      <td>8580.044</td>\n      <td>0.764706</td>\n      <td>2.222339e-01</td>\n    </tr>\n    <tr>\n      <th>2</th>\n      <td>Reject</td>\n      <td>-1.0</td>\n      <td>0.103</td>\n      <td>0.075</td>\n      <td>0.130</td>\n      <td>0.014</td>\n      <td>8590.524</td>\n      <td>7.357143</td>\n      <td>1.025880e-13</td>\n    </tr>\n    <tr>\n      <th>3</th>\n      <td>Accept</td>\n      <td>1.0</td>\n      <td>0.102</td>\n      <td>0.080</td>\n      <td>0.123</td>\n      <td>0.011</td>\n      <td>8578.325</td>\n      <td>9.272727</td>\n      <td>1.129338e-20</td>\n    </tr>\n    <tr>\n      <th>4</th>\n      <td>Reject</td>\n      <td>1.0</td>\n      <td>0.276</td>\n      <td>0.207</td>\n      <td>0.344</td>\n      <td>0.035</td>\n      <td>8583.289</td>\n      <td>7.885714</td>\n      <td>1.755460e-15</td>\n    </tr>\n  </tbody>\n</table>\n</div>"
     },
     "execution_count": 17,
     "metadata": {},
     "output_type": "execute_result"
    }
   ],
   "source": [
    "marginal_estimates"
   ],
   "metadata": {
    "collapsed": false,
    "ExecuteTime": {
     "end_time": "2023-11-28T15:54:58.040945200Z",
     "start_time": "2023-11-28T15:54:57.988955600Z"
    }
   }
  },
  {
   "cell_type": "markdown",
   "source": [
    "# Decision outcome as a function of dwell time and response time"
   ],
   "metadata": {
    "collapsed": false
   }
  },
  {
   "cell_type": "code",
   "execution_count": 18,
   "outputs": [
    {
     "name": "stdout",
     "output_type": "stream",
     "text": [
      "Linear mixed model fit by maximum likelihood  ['lmerMod']\n",
      "Formula: is_gap_accepted~(d_z+tta_z+time_budget_z)*dwell_mirror_z+RT_z+(tta_z+time_budget_z|participant)\n",
      "\n",
      "Family: binomial\t Inference: parametric\n",
      "\n",
      "Number of observations: 8634\t Groups: {'participant': 24.0}\n",
      "\n",
      "Log-likelihood: -2511.120 \t AIC: 5052.241\n",
      "\n",
      "Random effects:\n",
      "\n",
      "                      Name    Var    Std\n",
      "participant    (Intercept)  2.522  1.588\n",
      "participant          tta_z  0.627  0.792\n",
      "participant  time_budget_z  0.112  0.334\n",
      "\n",
      "                     IV1            IV2   Corr\n",
      "participant  (Intercept)          tta_z  0.484\n",
      "participant  (Intercept)  time_budget_z -0.498\n",
      "participant        tta_z  time_budget_z -0.275\n",
      "\n",
      "Fixed effects:\n"
     ]
    },
    {
     "data": {
      "text/plain": "                              Estimate    2.5_ci   97.5_ci        SE  \\\n(Intercept)                   1.703604  1.054824  2.352385  0.331016   \nd_z                           0.506101  0.432285  0.579917  0.037662   \ntta_z                         2.204732  1.860916  2.548549  0.175420   \ntime_budget_z                -0.277667 -0.432193 -0.123141  0.078841   \ndwell_mirror_z               -0.342972 -0.468987 -0.216957  0.064294   \nRT_z                         -1.945560 -2.067887 -1.823233  0.062413   \nd_z:dwell_mirror_z           -0.061387 -0.137672  0.014898  0.038922   \ntta_z:dwell_mirror_z          0.099243 -0.022663  0.221150  0.062199   \ntime_budget_z:dwell_mirror_z  0.238182  0.140022  0.336343  0.050083   \n\n                                    OR  OR_2.5_ci  OR_97.5_ci      Prob  \\\n(Intercept)                   5.493712   2.871469   10.510603  0.846005   \nd_z                           1.658811   1.540775    1.785891  0.623892   \ntta_z                         9.067823   6.429621   12.788532  0.900674   \ntime_budget_z                 0.757549   0.649084    0.884139  0.431026   \ndwell_mirror_z                0.709658   0.625636    0.804964  0.415088   \nRT_z                          0.142907   0.126453    0.161503  0.125038   \nd_z:dwell_mirror_z            0.940459   0.871385    1.015010  0.484658   \ntta_z:dwell_mirror_z          1.104335   0.977591    1.247511  0.524791   \ntime_budget_z:dwell_mirror_z  1.268940   1.150299    1.399819  0.559266   \n\n                              Prob_2.5_ci  Prob_97.5_ci     Z-stat  \\\n(Intercept)                      0.741700      0.913124   5.146584   \nd_z                              0.606419      0.641048  13.438019   \ntta_z                            0.865404      0.927476  12.568315   \ntime_budget_z                    0.393603      0.469254  -3.521855   \ndwell_mirror_z                   0.384856      0.445972  -5.334402   \nRT_z                             0.112257      0.139046 -31.172295   \nd_z:dwell_mirror_z               0.465636      0.503725  -1.577185   \ntta_z:dwell_mirror_z             0.494334      0.555063   1.595591   \ntime_budget_z:dwell_mirror_z     0.534948      0.583302   4.755764   \n\n                                      P-val  Sig  \n(Intercept)                    2.652730e-07  ***  \nd_z                            3.619992e-41  ***  \ntta_z                          3.153730e-36  ***  \ntime_budget_z                  4.285379e-04  ***  \ndwell_mirror_z                 9.585992e-08  ***  \nRT_z                          2.530144e-213  ***  \nd_z:dwell_mirror_z             1.147529e-01       \ntta_z:dwell_mirror_z           1.105801e-01       \ntime_budget_z:dwell_mirror_z   1.976972e-06  ***  ",
      "text/html": "<div>\n<style scoped>\n    .dataframe tbody tr th:only-of-type {\n        vertical-align: middle;\n    }\n\n    .dataframe tbody tr th {\n        vertical-align: top;\n    }\n\n    .dataframe thead th {\n        text-align: right;\n    }\n</style>\n<table border=\"1\" class=\"dataframe\">\n  <thead>\n    <tr style=\"text-align: right;\">\n      <th></th>\n      <th>Estimate</th>\n      <th>2.5_ci</th>\n      <th>97.5_ci</th>\n      <th>SE</th>\n      <th>OR</th>\n      <th>OR_2.5_ci</th>\n      <th>OR_97.5_ci</th>\n      <th>Prob</th>\n      <th>Prob_2.5_ci</th>\n      <th>Prob_97.5_ci</th>\n      <th>Z-stat</th>\n      <th>P-val</th>\n      <th>Sig</th>\n    </tr>\n  </thead>\n  <tbody>\n    <tr>\n      <th>(Intercept)</th>\n      <td>1.703604</td>\n      <td>1.054824</td>\n      <td>2.352385</td>\n      <td>0.331016</td>\n      <td>5.493712</td>\n      <td>2.871469</td>\n      <td>10.510603</td>\n      <td>0.846005</td>\n      <td>0.741700</td>\n      <td>0.913124</td>\n      <td>5.146584</td>\n      <td>2.652730e-07</td>\n      <td>***</td>\n    </tr>\n    <tr>\n      <th>d_z</th>\n      <td>0.506101</td>\n      <td>0.432285</td>\n      <td>0.579917</td>\n      <td>0.037662</td>\n      <td>1.658811</td>\n      <td>1.540775</td>\n      <td>1.785891</td>\n      <td>0.623892</td>\n      <td>0.606419</td>\n      <td>0.641048</td>\n      <td>13.438019</td>\n      <td>3.619992e-41</td>\n      <td>***</td>\n    </tr>\n    <tr>\n      <th>tta_z</th>\n      <td>2.204732</td>\n      <td>1.860916</td>\n      <td>2.548549</td>\n      <td>0.175420</td>\n      <td>9.067823</td>\n      <td>6.429621</td>\n      <td>12.788532</td>\n      <td>0.900674</td>\n      <td>0.865404</td>\n      <td>0.927476</td>\n      <td>12.568315</td>\n      <td>3.153730e-36</td>\n      <td>***</td>\n    </tr>\n    <tr>\n      <th>time_budget_z</th>\n      <td>-0.277667</td>\n      <td>-0.432193</td>\n      <td>-0.123141</td>\n      <td>0.078841</td>\n      <td>0.757549</td>\n      <td>0.649084</td>\n      <td>0.884139</td>\n      <td>0.431026</td>\n      <td>0.393603</td>\n      <td>0.469254</td>\n      <td>-3.521855</td>\n      <td>4.285379e-04</td>\n      <td>***</td>\n    </tr>\n    <tr>\n      <th>dwell_mirror_z</th>\n      <td>-0.342972</td>\n      <td>-0.468987</td>\n      <td>-0.216957</td>\n      <td>0.064294</td>\n      <td>0.709658</td>\n      <td>0.625636</td>\n      <td>0.804964</td>\n      <td>0.415088</td>\n      <td>0.384856</td>\n      <td>0.445972</td>\n      <td>-5.334402</td>\n      <td>9.585992e-08</td>\n      <td>***</td>\n    </tr>\n    <tr>\n      <th>RT_z</th>\n      <td>-1.945560</td>\n      <td>-2.067887</td>\n      <td>-1.823233</td>\n      <td>0.062413</td>\n      <td>0.142907</td>\n      <td>0.126453</td>\n      <td>0.161503</td>\n      <td>0.125038</td>\n      <td>0.112257</td>\n      <td>0.139046</td>\n      <td>-31.172295</td>\n      <td>2.530144e-213</td>\n      <td>***</td>\n    </tr>\n    <tr>\n      <th>d_z:dwell_mirror_z</th>\n      <td>-0.061387</td>\n      <td>-0.137672</td>\n      <td>0.014898</td>\n      <td>0.038922</td>\n      <td>0.940459</td>\n      <td>0.871385</td>\n      <td>1.015010</td>\n      <td>0.484658</td>\n      <td>0.465636</td>\n      <td>0.503725</td>\n      <td>-1.577185</td>\n      <td>1.147529e-01</td>\n      <td></td>\n    </tr>\n    <tr>\n      <th>tta_z:dwell_mirror_z</th>\n      <td>0.099243</td>\n      <td>-0.022663</td>\n      <td>0.221150</td>\n      <td>0.062199</td>\n      <td>1.104335</td>\n      <td>0.977591</td>\n      <td>1.247511</td>\n      <td>0.524791</td>\n      <td>0.494334</td>\n      <td>0.555063</td>\n      <td>1.595591</td>\n      <td>1.105801e-01</td>\n      <td></td>\n    </tr>\n    <tr>\n      <th>time_budget_z:dwell_mirror_z</th>\n      <td>0.238182</td>\n      <td>0.140022</td>\n      <td>0.336343</td>\n      <td>0.050083</td>\n      <td>1.268940</td>\n      <td>1.150299</td>\n      <td>1.399819</td>\n      <td>0.559266</td>\n      <td>0.534948</td>\n      <td>0.583302</td>\n      <td>4.755764</td>\n      <td>1.976972e-06</td>\n      <td>***</td>\n    </tr>\n  </tbody>\n</table>\n</div>"
     },
     "execution_count": 18,
     "metadata": {},
     "output_type": "execute_result"
    }
   ],
   "source": [
    "model_decision_dwell_RT = pymer4.models.Lmer(\"is_gap_accepted ~ (d_z + tta_z + time_budget_z)*dwell_mirror_z + RT_z + (tta_z + time_budget_z | participant) \", data=metrics, family=\"binomial\")\n",
    "model_decision_dwell_RT_fit = model_decision_dwell_RT.fit(summarize=True)\n",
    "model_decision_dwell_RT.coefs"
   ],
   "metadata": {
    "collapsed": false,
    "ExecuteTime": {
     "end_time": "2023-11-28T15:55:27.312398800Z",
     "start_time": "2023-11-28T15:54:58.017915300Z"
    }
   }
  },
  {
   "cell_type": "code",
   "execution_count": 19,
   "outputs": [],
   "source": [
    "coefs = model_decision_dwell_RT.coefs.loc[:, [\"Estimate\", \"SE\", \"Z-stat\", \"P-val\"]]\n",
    "coefs[\"P-val\"] = coefs[\"P-val\"].apply(p_formatted)\n",
    "styler = coefs.rename(columns=column_names, index=var_names).style.format(precision=2)\n",
    "\n",
    "with open(os.path.join(output_path, \"tab_decision_dwell_RT.tex\"), 'w') as writer:\n",
    "     writer.write(styler.to_latex(\n",
    "         column_format=\"rrrrr\", position=\"!ht\", position_float=\"centering\",\n",
    "         hrules=True, label=\"tab:decision_dwell_RT\", caption=\"Standardized coefficients of the mixed-effects logistic regression describing the decision outcome as a function of kinematic variables, response time, and relative dwell time. Random slopes of TTA to the overtaking vehicle and the time budget provided by the merging lane were included per participant: \\\\texttt{decision $\\sim$ 1 + RT + distance + (TTA * time budget * \\\\% dwell time mirror) + (1 + TTA + time budget) | participant}.\"\n",
    "     )\n",
    ")"
   ],
   "metadata": {
    "collapsed": false,
    "ExecuteTime": {
     "end_time": "2023-11-28T15:55:27.325028400Z",
     "start_time": "2023-11-28T15:55:27.307201700Z"
    }
   }
  }
 ],
 "metadata": {
  "kernelspec": {
   "display_name": "Python 3",
   "language": "python",
   "name": "python3"
  },
  "language_info": {
   "codemirror_mode": {
    "name": "ipython",
    "version": 2
   },
   "file_extension": ".py",
   "mimetype": "text/x-python",
   "name": "python",
   "nbconvert_exporter": "python",
   "pygments_lexer": "ipython2",
   "version": "2.7.6"
  }
 },
 "nbformat": 4,
 "nbformat_minor": 0
}
