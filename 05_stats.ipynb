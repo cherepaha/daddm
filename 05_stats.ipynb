{
 "cells": [
  {
   "cell_type": "code",
   "execution_count": 1,
   "metadata": {
    "collapsed": true,
    "ExecuteTime": {
     "end_time": "2023-09-18T06:48:27.712742600Z",
     "start_time": "2023-09-18T06:48:16.298750800Z"
    }
   },
   "outputs": [],
   "source": [
    "import pandas as pd\n",
    "import pymer4.models\n",
    "import numpy as np\n",
    "import scipy.stats"
   ]
  },
  {
   "cell_type": "code",
   "execution_count": 2,
   "outputs": [],
   "source": [
    "measures = pd.read_csv(\"measures.csv\")\n",
    "measures[\"d_condition_z\"] = (measures[\"d_condition\"]-measures[\"d_condition\"].mean())/measures[\"d_condition\"].std()\n",
    "measures[\"tta_condition_z\"] = (measures[\"tta_condition\"]-measures[\"tta_condition\"].mean())/measures[\"tta_condition\"].std()\n",
    "measures[\"tta_or_condition_z\"] = (measures[\"tta_or_condition\"]-measures[\"tta_or_condition\"].mean())/measures[\"tta_or_condition\"].std()\n",
    "measures[\"dwell_time_z\"] = (measures[\"dwell_time\"]-measures[\"dwell_time\"].mean())/measures[\"dwell_time\"].std()"
   ],
   "metadata": {
    "collapsed": false,
    "pycharm": {
     "name": "#%%\n"
    },
    "ExecuteTime": {
     "end_time": "2023-09-18T06:48:27.765742500Z",
     "start_time": "2023-09-18T06:48:27.713742800Z"
    }
   }
  },
  {
   "cell_type": "code",
   "execution_count": 74,
   "outputs": [],
   "source": [
    "column_names = {\"Estimate\": \"$\\\\beta$\", \"Z-stat\": \"$z$\", \"P-val\": \"$p$\", \"T-stat\": \"$t$\", \"F-stat\": \"$F$\", \"2.5_ci\": \"CI 2.5\\%\", \"97.5_ci\": \"CI 97.5\\%\", \"NumDF\": \"df\"}\n",
    "var_names = {\"tta_condition_z\": \"$\\\\textrm{TTA}$\",\n",
    "             \"d_condition_z\": \"distance\",\n",
    "             \"tta_or_condition_z\": \"time budget\",\n",
    "             \"dwell_time_z\": \"\\% dwell time mirror\",\n",
    "             \"tta_condition_z:tta_or_condition_z\": \"$\\\\textrm{TTA}$:time budget\",\n",
    "             \"tta_condition_z:dwell_time_z\": \"$\\\\textrm{TTA}$:\\% dwell time mirror\",\n",
    "             \"tta_or_condition_z:dwell_time_z\": \"time budget:\\% dwell time mirror\",\n",
    "             \"tta_condition_z:tta_or_condition_z:dwell_time_z\": \"$\\\\textrm{TTA}$:time budget:\\% dwell time mirror\",\n",
    "             \"decision:d_condition_z\": \"decision:distance\",\n",
    "             \"decision:tta_condition_z\": \"decision:$\\\\textrm{TTA}$\",\n",
    "             \"decision:tta_or_condition_z\": \"decision:time budget\",\n",
    "             \"decision:tta_condition_z:tta_or_condition_z\": \"decision:$\\\\textrm{TTA}$:time budget\"}\n",
    "\n",
    "def p_formatted(p):\n",
    "    if p>0.01:\n",
    "        return \"{:.2f}\".format(p)\n",
    "    elif p>0.001:\n",
    "        return \"{:.3f}\".format(p)\n",
    "    else:\n",
    "        return \"$<0.001$\""
   ],
   "metadata": {
    "collapsed": false,
    "ExecuteTime": {
     "end_time": "2023-09-08T22:41:16.210171900Z",
     "start_time": "2023-09-08T22:41:16.192291Z"
    }
   }
  },
  {
   "cell_type": "markdown",
   "source": [
    "# Dwell time"
   ],
   "metadata": {
    "collapsed": false,
    "pycharm": {
     "name": "#%% md\n"
    }
   }
  },
  {
   "cell_type": "code",
   "execution_count": 7,
   "outputs": [
    {
     "name": "stdout",
     "output_type": "stream",
     "text": [
      "Linear mixed model fit by REML [’lmerMod’]\n",
      "Formula: dwell_time~RT*decision+(1|subj_id)\n",
      "\n",
      "Family: gaussian\t Inference: parametric\n",
      "\n",
      "Number of observations: 8634\t Groups: {'subj_id': 24.0}\n",
      "\n",
      "Log-likelihood: 5549.427 \t AIC: -11086.854\n",
      "\n",
      "Random effects:\n",
      "\n",
      "                 Name    Var    Std\n",
      "subj_id   (Intercept)  0.017  0.131\n",
      "Residual               0.016  0.126\n",
      "\n",
      "No random effect correlations specified\n",
      "\n",
      "Fixed effects:\n"
     ]
    },
    {
     "data": {
      "text/plain": "                 Estimate    2.5_ci   97.5_ci        SE           DF  \\\n(Intercept)      0.754781  0.701355  0.808206  0.027258    24.788643   \nRT              -0.057524 -0.064805 -0.050243  0.003715  8625.113433   \ndecisionWait    -0.009403 -0.027541  0.008735  0.009254  8612.478371   \nRT:decisionWait  0.015998  0.006085  0.025910  0.005057  8612.813952   \n\n                    T-stat         P-val  Sig  \n(Intercept)      27.689943  3.657287e-20  ***  \nRT              -15.485115  2.276965e-53  ***  \ndecisionWait     -1.016047  3.096357e-01       \nRT:decisionWait   3.163214  1.565800e-03   **  ",
      "text/html": "<div>\n<style scoped>\n    .dataframe tbody tr th:only-of-type {\n        vertical-align: middle;\n    }\n\n    .dataframe tbody tr th {\n        vertical-align: top;\n    }\n\n    .dataframe thead th {\n        text-align: right;\n    }\n</style>\n<table border=\"1\" class=\"dataframe\">\n  <thead>\n    <tr style=\"text-align: right;\">\n      <th></th>\n      <th>Estimate</th>\n      <th>2.5_ci</th>\n      <th>97.5_ci</th>\n      <th>SE</th>\n      <th>DF</th>\n      <th>T-stat</th>\n      <th>P-val</th>\n      <th>Sig</th>\n    </tr>\n  </thead>\n  <tbody>\n    <tr>\n      <th>(Intercept)</th>\n      <td>0.754781</td>\n      <td>0.701355</td>\n      <td>0.808206</td>\n      <td>0.027258</td>\n      <td>24.788643</td>\n      <td>27.689943</td>\n      <td>3.657287e-20</td>\n      <td>***</td>\n    </tr>\n    <tr>\n      <th>RT</th>\n      <td>-0.057524</td>\n      <td>-0.064805</td>\n      <td>-0.050243</td>\n      <td>0.003715</td>\n      <td>8625.113433</td>\n      <td>-15.485115</td>\n      <td>2.276965e-53</td>\n      <td>***</td>\n    </tr>\n    <tr>\n      <th>decisionWait</th>\n      <td>-0.009403</td>\n      <td>-0.027541</td>\n      <td>0.008735</td>\n      <td>0.009254</td>\n      <td>8612.478371</td>\n      <td>-1.016047</td>\n      <td>3.096357e-01</td>\n      <td></td>\n    </tr>\n    <tr>\n      <th>RT:decisionWait</th>\n      <td>0.015998</td>\n      <td>0.006085</td>\n      <td>0.025910</td>\n      <td>0.005057</td>\n      <td>8612.813952</td>\n      <td>3.163214</td>\n      <td>1.565800e-03</td>\n      <td>**</td>\n    </tr>\n  </tbody>\n</table>\n</div>"
     },
     "execution_count": 7,
     "metadata": {},
     "output_type": "execute_result"
    }
   ],
   "source": [
    "model_dwell_time = pymer4.models.Lmer(\"dwell_time ~ RT*decision + (1 | subj_id) \", data=measures, family=\"gaussian\")\n",
    "model_dwell_time_fit = model_dwell_time.fit(summarize=True)\n",
    "model_dwell_time.coefs"
   ],
   "metadata": {
    "collapsed": false,
    "pycharm": {
     "name": "#%%\n"
    }
   }
  },
  {
   "cell_type": "markdown",
   "source": [
    "# Decision outcome"
   ],
   "metadata": {
    "collapsed": false,
    "pycharm": {
     "name": "#%% md\n"
    }
   }
  },
  {
   "cell_type": "code",
   "execution_count": 75,
   "outputs": [
    {
     "name": "stdout",
     "output_type": "stream",
     "text": [
      "Linear mixed model fit by maximum likelihood  ['lmerMod']\n",
      "Formula: is_gap_accepted~d_condition_z+tta_condition_z+tta_or_condition_z+(tta_condition_z+tta_or_condition_z+d_condition_z|subj_id)\n",
      "\n",
      "Family: binomial\t Inference: parametric\n",
      "\n",
      "Number of observations: 8634\t Groups: {'subj_id': 24.0}\n",
      "\n",
      "Log-likelihood: -3232.833 \t AIC: 6493.667\n",
      "\n",
      "Random effects:\n",
      "\n",
      "                       Name    Var    Std\n",
      "subj_id         (Intercept)  1.621  1.273\n",
      "subj_id     tta_condition_z  0.268  0.518\n",
      "subj_id  tta_or_condition_z  0.202  0.449\n",
      "subj_id       d_condition_z  0.251  0.501\n",
      "\n",
      "                        IV1                 IV2   Corr\n",
      "subj_id         (Intercept)     tta_condition_z -0.124\n",
      "subj_id         (Intercept)  tta_or_condition_z -0.220\n",
      "subj_id         (Intercept)       d_condition_z  0.215\n",
      "subj_id     tta_condition_z  tta_or_condition_z -0.140\n",
      "subj_id     tta_condition_z       d_condition_z -0.548\n",
      "subj_id  tta_or_condition_z       d_condition_z  0.462\n",
      "\n",
      "Fixed effects:\n"
     ]
    },
    {
     "data": {
      "text/plain": "                    Estimate    2.5_ci   97.5_ci        SE        OR  \\\n(Intercept)         1.299452  0.780160  1.818745  0.264950  3.667288   \nd_condition_z       0.537341  0.325559  0.749123  0.108054  1.711451   \ntta_condition_z     1.841681  1.611953  2.071408  0.117210  6.307130   \ntta_or_condition_z -0.416692 -0.608406 -0.224978  0.097815  0.659224   \n\n                    OR_2.5_ci  OR_97.5_ci      Prob  Prob_2.5_ci  \\\n(Intercept)          2.181821    6.164116  0.785743     0.685715   \nd_condition_z        1.384805    2.115145  0.631194     0.580678   \ntta_condition_z      5.012592    7.935991  0.863147     0.833682   \ntta_or_condition_z   0.544218    0.798534  0.397309     0.352423   \n\n                    Prob_97.5_ci     Z-stat         P-val  Sig  \n(Intercept)             0.860415   4.904520  9.365625e-07  ***  \nd_condition_z           0.678988   4.972894  6.596063e-07  ***  \ntta_condition_z         0.888093  15.712650  1.238910e-55  ***  \ntta_or_condition_z      0.443992  -4.259998  2.044290e-05  ***  ",
      "text/html": "<div>\n<style scoped>\n    .dataframe tbody tr th:only-of-type {\n        vertical-align: middle;\n    }\n\n    .dataframe tbody tr th {\n        vertical-align: top;\n    }\n\n    .dataframe thead th {\n        text-align: right;\n    }\n</style>\n<table border=\"1\" class=\"dataframe\">\n  <thead>\n    <tr style=\"text-align: right;\">\n      <th></th>\n      <th>Estimate</th>\n      <th>2.5_ci</th>\n      <th>97.5_ci</th>\n      <th>SE</th>\n      <th>OR</th>\n      <th>OR_2.5_ci</th>\n      <th>OR_97.5_ci</th>\n      <th>Prob</th>\n      <th>Prob_2.5_ci</th>\n      <th>Prob_97.5_ci</th>\n      <th>Z-stat</th>\n      <th>P-val</th>\n      <th>Sig</th>\n    </tr>\n  </thead>\n  <tbody>\n    <tr>\n      <th>(Intercept)</th>\n      <td>1.299452</td>\n      <td>0.780160</td>\n      <td>1.818745</td>\n      <td>0.264950</td>\n      <td>3.667288</td>\n      <td>2.181821</td>\n      <td>6.164116</td>\n      <td>0.785743</td>\n      <td>0.685715</td>\n      <td>0.860415</td>\n      <td>4.904520</td>\n      <td>9.365625e-07</td>\n      <td>***</td>\n    </tr>\n    <tr>\n      <th>d_condition_z</th>\n      <td>0.537341</td>\n      <td>0.325559</td>\n      <td>0.749123</td>\n      <td>0.108054</td>\n      <td>1.711451</td>\n      <td>1.384805</td>\n      <td>2.115145</td>\n      <td>0.631194</td>\n      <td>0.580678</td>\n      <td>0.678988</td>\n      <td>4.972894</td>\n      <td>6.596063e-07</td>\n      <td>***</td>\n    </tr>\n    <tr>\n      <th>tta_condition_z</th>\n      <td>1.841681</td>\n      <td>1.611953</td>\n      <td>2.071408</td>\n      <td>0.117210</td>\n      <td>6.307130</td>\n      <td>5.012592</td>\n      <td>7.935991</td>\n      <td>0.863147</td>\n      <td>0.833682</td>\n      <td>0.888093</td>\n      <td>15.712650</td>\n      <td>1.238910e-55</td>\n      <td>***</td>\n    </tr>\n    <tr>\n      <th>tta_or_condition_z</th>\n      <td>-0.416692</td>\n      <td>-0.608406</td>\n      <td>-0.224978</td>\n      <td>0.097815</td>\n      <td>0.659224</td>\n      <td>0.544218</td>\n      <td>0.798534</td>\n      <td>0.397309</td>\n      <td>0.352423</td>\n      <td>0.443992</td>\n      <td>-4.259998</td>\n      <td>2.044290e-05</td>\n      <td>***</td>\n    </tr>\n  </tbody>\n</table>\n</div>"
     },
     "execution_count": 75,
     "metadata": {},
     "output_type": "execute_result"
    }
   ],
   "source": [
    "model_decision = pymer4.models.Lmer(\"is_gap_accepted ~ d_condition_z + tta_condition_z + tta_or_condition_z + (tta_condition_z + tta_or_condition_z + d_condition_z | subj_id) \", data=measures, family=\"binomial\")\n",
    "model_decision_fit = model_decision.fit(summarize=True)\n",
    "model_decision.coefs"
   ],
   "metadata": {
    "collapsed": false,
    "pycharm": {
     "name": "#%%\n"
    },
    "ExecuteTime": {
     "end_time": "2023-09-08T22:41:44.704060900Z",
     "start_time": "2023-09-08T22:41:21.653829600Z"
    }
   }
  },
  {
   "cell_type": "code",
   "execution_count": 76,
   "outputs": [],
   "source": [
    "df = model_decision.coefs.loc[:, [\"Estimate\", \"SE\", \"Z-stat\", \"P-val\"]]\n",
    "\n",
    "df[\"P-val\"] = df[\"P-val\"].apply(p_formatted)\n",
    "\n",
    "styler = df.rename(columns=column_names, index=var_names).style.format(precision=2)\n",
    "\n",
    "with open('C:\\\\Users\\\\azgonnikov\\\\Dropbox\\\\Apps\\\\Overleaf\\\\AAP Dynamics of merging decisions Elsevier template\\\\tab_decision.tex', 'w') as tf:\n",
    "     tf.write(styler.to_latex(\n",
    "         column_format=\"rrrrr\", position=\"h\", position_float=\"centering\",\n",
    "         hrules=True, label=\"tab:decision\", caption=\"Coefficients of the mixed-effects logistic regression describing the final decision as a function of $\\\\textrm{TTA}$ and distance to the overtaking vehicle and the time budget provided by the merging lane. All effects were modelled as random slopes per participant.\"\n",
    "     )\n",
    ")"
   ],
   "metadata": {
    "collapsed": false,
    "ExecuteTime": {
     "end_time": "2023-09-08T22:41:44.746196600Z",
     "start_time": "2023-09-08T22:41:44.708978300Z"
    }
   }
  },
  {
   "cell_type": "markdown",
   "source": [
    "# Response time"
   ],
   "metadata": {
    "collapsed": false
   }
  },
  {
   "cell_type": "code",
   "execution_count": 3,
   "outputs": [
    {
     "name": "stdout",
     "output_type": "stream",
     "text": [
      "Linear mixed model fit by REML [’lmerMod’]\n",
      "Formula: RT~1+decision*(d_condition_z+tta_condition_z*tta_or_condition_z)+(decision+tta_condition_z+tta_or_condition_z|subj_id)\n",
      "\n",
      "Family: gaussian\t Inference: parametric\n",
      "\n",
      "Number of observations: 8634\t Groups: {'subj_id': 24.0}\n",
      "\n",
      "Log-likelihood: -5153.224 \t AIC: 10348.448\n",
      "\n",
      "Random effects:\n",
      "\n",
      "                        Name    Var    Std\n",
      "subj_id          (Intercept)  0.144  0.379\n",
      "subj_id         decisionWait  0.083  0.287\n",
      "subj_id      tta_condition_z  0.002  0.048\n",
      "subj_id   tta_or_condition_z  0.007  0.082\n",
      "Residual                      0.186  0.431\n",
      "\n",
      "                     IV1                 IV2   Corr\n",
      "subj_id      (Intercept)        decisionWait -0.494\n",
      "subj_id      (Intercept)     tta_condition_z  0.282\n",
      "subj_id      (Intercept)  tta_or_condition_z  0.784\n",
      "subj_id     decisionWait     tta_condition_z -0.150\n",
      "subj_id     decisionWait  tta_or_condition_z -0.416\n",
      "subj_id  tta_condition_z  tta_or_condition_z  0.274\n",
      "\n",
      "Fixed effects:\n",
      "\n",
      "SS Type III Analysis of Variance Table with Satterthwaite approximated degrees of freedom:\n",
      "(NOTE: Using original model contrasts, orthogonality not guaranteed)\n"
     ]
    }
   ],
   "source": [
    "model_RT = pymer4.models.Lmer(\"RT ~ 1 + decision*(d_condition_z + tta_condition_z*tta_or_condition_z) + (decision + tta_condition_z +  tta_or_condition_z| subj_id) \", data=measures, family=\"gaussian\")\n",
    "model_RT.fit(summarize=True, factors={\"decision\": [\"Merge\", \"Wait\"]})\n",
    "model_RT.coefs\n",
    "RT_anova = model_RT.anova()\n",
    "RT_decision_marginal_estimates, RT_decision_comparisons = model_RT.post_hoc(marginal_vars=[\"decision\"])"
   ],
   "metadata": {
    "collapsed": false,
    "ExecuteTime": {
     "end_time": "2023-09-18T06:48:39.046217700Z",
     "start_time": "2023-09-18T06:48:27.748742600Z"
    }
   }
  },
  {
   "cell_type": "code",
   "execution_count": 4,
   "outputs": [
    {
     "data": {
      "text/plain": "                                                    SS         MS  NumDF  \\\ndecision                                     21.950024  21.950024      1   \nd_condition_z                                 0.253921   0.253921      1   \ntta_condition_z                              13.534993  13.534993      1   \ntta_or_condition_z                            3.720726   3.720726      1   \ntta_condition_z:tta_or_condition_z            7.082923   7.082923      1   \ndecision:d_condition_z                        5.999752   5.999752      1   \ndecision:tta_condition_z                     14.530222  14.530222      1   \ndecision:tta_or_condition_z                   6.220185   6.220185      1   \ndecision:tta_condition_z:tta_or_condition_z   0.977408   0.977408      1   \n\n                                                 DenomDF      F-stat  \\\ndecision                                       23.295020  118.239584   \nd_condition_z                                8565.325964    1.367813   \ntta_condition_z                                26.175459   72.909801   \ntta_or_condition_z                             26.422380   20.042672   \ntta_condition_z:tta_or_condition_z           8087.385956   38.154031   \ndecision:d_condition_z                       8565.474244   32.319245   \ndecision:tta_condition_z                     1107.769860   78.270867   \ndecision:tta_or_condition_z                  6805.134404   33.506665   \ndecision:tta_condition_z:tta_or_condition_z  7488.086760    5.265063   \n\n                                                    P-val  Sig  \ndecision                                     1.325535e-10  ***  \nd_condition_z                                2.422205e-01       \ntta_condition_z                              4.829125e-09  ***  \ntta_or_condition_z                           1.295146e-04  ***  \ntta_condition_z:tta_or_condition_z           6.853331e-10  ***  \ndecision:d_condition_z                       1.351015e-08  ***  \ndecision:tta_condition_z                     3.481564e-18  ***  \ndecision:tta_or_condition_z                  7.418040e-09  ***  \ndecision:tta_condition_z:tta_or_condition_z  2.178517e-02    *  ",
      "text/html": "<div>\n<style scoped>\n    .dataframe tbody tr th:only-of-type {\n        vertical-align: middle;\n    }\n\n    .dataframe tbody tr th {\n        vertical-align: top;\n    }\n\n    .dataframe thead th {\n        text-align: right;\n    }\n</style>\n<table border=\"1\" class=\"dataframe\">\n  <thead>\n    <tr style=\"text-align: right;\">\n      <th></th>\n      <th>SS</th>\n      <th>MS</th>\n      <th>NumDF</th>\n      <th>DenomDF</th>\n      <th>F-stat</th>\n      <th>P-val</th>\n      <th>Sig</th>\n    </tr>\n  </thead>\n  <tbody>\n    <tr>\n      <th>decision</th>\n      <td>21.950024</td>\n      <td>21.950024</td>\n      <td>1</td>\n      <td>23.295020</td>\n      <td>118.239584</td>\n      <td>1.325535e-10</td>\n      <td>***</td>\n    </tr>\n    <tr>\n      <th>d_condition_z</th>\n      <td>0.253921</td>\n      <td>0.253921</td>\n      <td>1</td>\n      <td>8565.325964</td>\n      <td>1.367813</td>\n      <td>2.422205e-01</td>\n      <td></td>\n    </tr>\n    <tr>\n      <th>tta_condition_z</th>\n      <td>13.534993</td>\n      <td>13.534993</td>\n      <td>1</td>\n      <td>26.175459</td>\n      <td>72.909801</td>\n      <td>4.829125e-09</td>\n      <td>***</td>\n    </tr>\n    <tr>\n      <th>tta_or_condition_z</th>\n      <td>3.720726</td>\n      <td>3.720726</td>\n      <td>1</td>\n      <td>26.422380</td>\n      <td>20.042672</td>\n      <td>1.295146e-04</td>\n      <td>***</td>\n    </tr>\n    <tr>\n      <th>tta_condition_z:tta_or_condition_z</th>\n      <td>7.082923</td>\n      <td>7.082923</td>\n      <td>1</td>\n      <td>8087.385956</td>\n      <td>38.154031</td>\n      <td>6.853331e-10</td>\n      <td>***</td>\n    </tr>\n    <tr>\n      <th>decision:d_condition_z</th>\n      <td>5.999752</td>\n      <td>5.999752</td>\n      <td>1</td>\n      <td>8565.474244</td>\n      <td>32.319245</td>\n      <td>1.351015e-08</td>\n      <td>***</td>\n    </tr>\n    <tr>\n      <th>decision:tta_condition_z</th>\n      <td>14.530222</td>\n      <td>14.530222</td>\n      <td>1</td>\n      <td>1107.769860</td>\n      <td>78.270867</td>\n      <td>3.481564e-18</td>\n      <td>***</td>\n    </tr>\n    <tr>\n      <th>decision:tta_or_condition_z</th>\n      <td>6.220185</td>\n      <td>6.220185</td>\n      <td>1</td>\n      <td>6805.134404</td>\n      <td>33.506665</td>\n      <td>7.418040e-09</td>\n      <td>***</td>\n    </tr>\n    <tr>\n      <th>decision:tta_condition_z:tta_or_condition_z</th>\n      <td>0.977408</td>\n      <td>0.977408</td>\n      <td>1</td>\n      <td>7488.086760</td>\n      <td>5.265063</td>\n      <td>2.178517e-02</td>\n      <td>*</td>\n    </tr>\n  </tbody>\n</table>\n</div>"
     },
     "execution_count": 4,
     "metadata": {},
     "output_type": "execute_result"
    }
   ],
   "source": [
    "RT_anova"
   ],
   "metadata": {
    "collapsed": false,
    "ExecuteTime": {
     "end_time": "2023-09-18T06:48:39.103217800Z",
     "start_time": "2023-09-18T06:48:39.045217600Z"
    }
   }
  },
  {
   "cell_type": "code",
   "execution_count": 107,
   "outputs": [],
   "source": [
    "df = RT_anova.loc[:, [\"SS\", \"MS\", \"NumDF\", \"F-stat\", \"P-val\"]]\n",
    "df[\"P-val\"] = df[\"P-val\"].apply(p_formatted)\n",
    "styler = df.rename(columns=column_names, index=var_names).style.format(precision=2)\n",
    "\n",
    "with open('C:\\\\Users\\\\azgonnikov\\\\Dropbox\\\\Apps\\\\Overleaf\\\\AAP Dynamics of merging decisions Elsevier template\\\\tab_RT.tex', 'w') as tf:\n",
    "     tf.write(styler.to_latex(\n",
    "         column_format=\"rrrrrrr\", position=\"h\", position_float=\"centering\",\n",
    "         hrules=True, label=\"tab:RT\", caption=\"ANOVA table based on the mixed-effects linear regression describing response time as a function of $\\\\textrm{TTA}$ and distance to the overtaking vehicle and the time budget provided by the merging lane. Random slopes of $\\\\textrm{TTA}$ and distance to the overtaking vehicle and the merging lane time budget were included per participant.\"\n",
    "     )\n",
    ")"
   ],
   "metadata": {
    "collapsed": false,
    "ExecuteTime": {
     "end_time": "2023-09-08T23:32:27.859747700Z",
     "start_time": "2023-09-08T23:32:27.836807900Z"
    }
   }
  },
  {
   "cell_type": "code",
   "execution_count": 99,
   "outputs": [
    {
     "data": {
      "text/plain": "       Contrast  Estimate  2.5_ci  97.5_ci     SE      DF  T-stat  P-val  Sig\n1  Merge - Wait     -0.66  -0.786   -0.535  0.061  23.295 -10.875    0.0  ***",
      "text/html": "<div>\n<style scoped>\n    .dataframe tbody tr th:only-of-type {\n        vertical-align: middle;\n    }\n\n    .dataframe tbody tr th {\n        vertical-align: top;\n    }\n\n    .dataframe thead th {\n        text-align: right;\n    }\n</style>\n<table border=\"1\" class=\"dataframe\">\n  <thead>\n    <tr style=\"text-align: right;\">\n      <th></th>\n      <th>Contrast</th>\n      <th>Estimate</th>\n      <th>2.5_ci</th>\n      <th>97.5_ci</th>\n      <th>SE</th>\n      <th>DF</th>\n      <th>T-stat</th>\n      <th>P-val</th>\n      <th>Sig</th>\n    </tr>\n  </thead>\n  <tbody>\n    <tr>\n      <th>1</th>\n      <td>Merge - Wait</td>\n      <td>-0.66</td>\n      <td>-0.786</td>\n      <td>-0.535</td>\n      <td>0.061</td>\n      <td>23.295</td>\n      <td>-10.875</td>\n      <td>0.0</td>\n      <td>***</td>\n    </tr>\n  </tbody>\n</table>\n</div>"
     },
     "execution_count": 99,
     "metadata": {},
     "output_type": "execute_result"
    }
   ],
   "source": [
    "# RT_decision_marginal_estimates, RT_decision_comparisons = model_RT.post_hoc(marginal_vars=[\"tta_condition_z\"], grouping_vars=[\"decision\"])\n",
    "RT_decision_marginal_estimates, RT_decision_comparisons = model_RT.post_hoc(marginal_vars=[\"decision\"])\n",
    "RT_decision_comparisons"
   ],
   "metadata": {
    "collapsed": false,
    "ExecuteTime": {
     "end_time": "2023-09-08T23:30:55.358131700Z",
     "start_time": "2023-09-08T23:30:55.111783900Z"
    }
   }
  },
  {
   "cell_type": "code",
   "execution_count": 100,
   "outputs": [],
   "source": [
    "def get_marginal_estimates(model_RT, marginal_vars):\n",
    "    marginal_estimates, comparisons = model_RT.post_hoc(marginal_vars=marginal_vars, grouping_vars=[\"decision\"])\n",
    "    marginal_estimates[\"T-stat\"] = marginal_estimates[\"Estimate\"]/marginal_estimates[\"SE\"]\n",
    "    marginal_estimates[\"P-val\"] = scipy.stats.t.sf(np.abs(marginal_estimates[\"T-stat\"]), marginal_estimates.DF)\n",
    "    return marginal_estimates"
   ],
   "metadata": {
    "collapsed": false,
    "ExecuteTime": {
     "end_time": "2023-09-08T23:31:02.275783400Z",
     "start_time": "2023-09-08T23:31:02.260971600Z"
    }
   }
  },
  {
   "cell_type": "code",
   "execution_count": 101,
   "outputs": [
    {
     "data": {
      "text/plain": "  decision  Estimate  2.5_ci  97.5_ci     SE        DF    T-stat     P-val\n1    Merge    -0.023  -0.034   -0.011  0.006  8553.857 -3.833333  0.000064\n2     Wait     0.035   0.018    0.051  0.008  8569.662  4.375000  0.000006",
      "text/html": "<div>\n<style scoped>\n    .dataframe tbody tr th:only-of-type {\n        vertical-align: middle;\n    }\n\n    .dataframe tbody tr th {\n        vertical-align: top;\n    }\n\n    .dataframe thead th {\n        text-align: right;\n    }\n</style>\n<table border=\"1\" class=\"dataframe\">\n  <thead>\n    <tr style=\"text-align: right;\">\n      <th></th>\n      <th>decision</th>\n      <th>Estimate</th>\n      <th>2.5_ci</th>\n      <th>97.5_ci</th>\n      <th>SE</th>\n      <th>DF</th>\n      <th>T-stat</th>\n      <th>P-val</th>\n    </tr>\n  </thead>\n  <tbody>\n    <tr>\n      <th>1</th>\n      <td>Merge</td>\n      <td>-0.023</td>\n      <td>-0.034</td>\n      <td>-0.011</td>\n      <td>0.006</td>\n      <td>8553.857</td>\n      <td>-3.833333</td>\n      <td>0.000064</td>\n    </tr>\n    <tr>\n      <th>2</th>\n      <td>Wait</td>\n      <td>0.035</td>\n      <td>0.018</td>\n      <td>0.051</td>\n      <td>0.008</td>\n      <td>8569.662</td>\n      <td>4.375000</td>\n      <td>0.000006</td>\n    </tr>\n  </tbody>\n</table>\n</div>"
     },
     "execution_count": 101,
     "metadata": {},
     "output_type": "execute_result"
    }
   ],
   "source": [
    "get_marginal_estimates(model_RT, \"d_condition_z\")"
   ],
   "metadata": {
    "collapsed": false,
    "ExecuteTime": {
     "end_time": "2023-09-08T23:31:04.270176800Z",
     "start_time": "2023-09-08T23:31:03.982003500Z"
    }
   }
  },
  {
   "cell_type": "code",
   "execution_count": 102,
   "outputs": [
    {
     "data": {
      "text/plain": "  decision  Estimate  2.5_ci  97.5_ci     SE      DF     T-stat         P-val\n1    Merge     0.035   0.010    0.060  0.012  24.588   2.916667  3.722613e-03\n2     Wait     0.174   0.141    0.207  0.017  74.541  10.235294  3.705420e-16",
      "text/html": "<div>\n<style scoped>\n    .dataframe tbody tr th:only-of-type {\n        vertical-align: middle;\n    }\n\n    .dataframe tbody tr th {\n        vertical-align: top;\n    }\n\n    .dataframe thead th {\n        text-align: right;\n    }\n</style>\n<table border=\"1\" class=\"dataframe\">\n  <thead>\n    <tr style=\"text-align: right;\">\n      <th></th>\n      <th>decision</th>\n      <th>Estimate</th>\n      <th>2.5_ci</th>\n      <th>97.5_ci</th>\n      <th>SE</th>\n      <th>DF</th>\n      <th>T-stat</th>\n      <th>P-val</th>\n    </tr>\n  </thead>\n  <tbody>\n    <tr>\n      <th>1</th>\n      <td>Merge</td>\n      <td>0.035</td>\n      <td>0.010</td>\n      <td>0.060</td>\n      <td>0.012</td>\n      <td>24.588</td>\n      <td>2.916667</td>\n      <td>3.722613e-03</td>\n    </tr>\n    <tr>\n      <th>2</th>\n      <td>Wait</td>\n      <td>0.174</td>\n      <td>0.141</td>\n      <td>0.207</td>\n      <td>0.017</td>\n      <td>74.541</td>\n      <td>10.235294</td>\n      <td>3.705420e-16</td>\n    </tr>\n  </tbody>\n</table>\n</div>"
     },
     "execution_count": 102,
     "metadata": {},
     "output_type": "execute_result"
    }
   ],
   "source": [
    "get_marginal_estimates(model_RT, \"tta_condition_z\")"
   ],
   "metadata": {
    "collapsed": false,
    "ExecuteTime": {
     "end_time": "2023-09-08T23:31:08.791320200Z",
     "start_time": "2023-09-08T23:31:08.516411800Z"
    }
   }
  },
  {
   "cell_type": "code",
   "execution_count": 103,
   "outputs": [
    {
     "data": {
      "text/plain": "  decision  Estimate  2.5_ci  97.5_ci     SE      DF    T-stat         P-val\n1    Merge     0.040   0.003    0.077  0.018  25.673  2.222222  1.764791e-02\n2     Wait     0.123   0.081    0.165  0.021  45.894  5.857143  2.387071e-07",
      "text/html": "<div>\n<style scoped>\n    .dataframe tbody tr th:only-of-type {\n        vertical-align: middle;\n    }\n\n    .dataframe tbody tr th {\n        vertical-align: top;\n    }\n\n    .dataframe thead th {\n        text-align: right;\n    }\n</style>\n<table border=\"1\" class=\"dataframe\">\n  <thead>\n    <tr style=\"text-align: right;\">\n      <th></th>\n      <th>decision</th>\n      <th>Estimate</th>\n      <th>2.5_ci</th>\n      <th>97.5_ci</th>\n      <th>SE</th>\n      <th>DF</th>\n      <th>T-stat</th>\n      <th>P-val</th>\n    </tr>\n  </thead>\n  <tbody>\n    <tr>\n      <th>1</th>\n      <td>Merge</td>\n      <td>0.040</td>\n      <td>0.003</td>\n      <td>0.077</td>\n      <td>0.018</td>\n      <td>25.673</td>\n      <td>2.222222</td>\n      <td>1.764791e-02</td>\n    </tr>\n    <tr>\n      <th>2</th>\n      <td>Wait</td>\n      <td>0.123</td>\n      <td>0.081</td>\n      <td>0.165</td>\n      <td>0.021</td>\n      <td>45.894</td>\n      <td>5.857143</td>\n      <td>2.387071e-07</td>\n    </tr>\n  </tbody>\n</table>\n</div>"
     },
     "execution_count": 103,
     "metadata": {},
     "output_type": "execute_result"
    }
   ],
   "source": [
    "get_marginal_estimates(model_RT, \"tta_or_condition_z\")"
   ],
   "metadata": {
    "collapsed": false,
    "ExecuteTime": {
     "end_time": "2023-09-08T23:31:12.069693300Z",
     "start_time": "2023-09-08T23:31:11.799660600Z"
    }
   }
  },
  {
   "cell_type": "code",
   "execution_count": 104,
   "outputs": [],
   "source": [
    "marginal_estimates, comparisons = model_RT.post_hoc(marginal_vars=[\"tta_or_condition_z\"], grouping_vars=[\"decision\", \"tta_condition_z\"])\n",
    "marginal_estimates[\"T-stat\"] = marginal_estimates[\"Estimate\"]/marginal_estimates[\"SE\"]\n",
    "marginal_estimates[\"P-val\"] = scipy.stats.t.sf(np.abs(marginal_estimates[\"T-stat\"]), marginal_estimates.DF)"
   ],
   "metadata": {
    "collapsed": false,
    "ExecuteTime": {
     "end_time": "2023-09-08T23:31:16.291683200Z",
     "start_time": "2023-09-08T23:31:16.010125800Z"
    }
   }
  },
  {
   "cell_type": "code",
   "execution_count": 105,
   "outputs": [
    {
     "data": {
      "text/plain": "  decision  tta_condition_z  Estimate  2.5_ci  97.5_ci     SE       DF  \\\n1    Merge             -1.0     0.014  -0.027    0.054  0.020   39.276   \n2     Wait             -1.0     0.065   0.026    0.104  0.019   31.981   \n3    Merge              1.0     0.066   0.029    0.104  0.018   26.568   \n4     Wait              1.0     0.181   0.125    0.236  0.028  151.822   \n\n     T-stat         P-val  \n1  0.700000  2.440265e-01  \n2  3.421053  8.618330e-04  \n3  3.666667  5.405259e-04  \n4  6.464286  6.565168e-10  ",
      "text/html": "<div>\n<style scoped>\n    .dataframe tbody tr th:only-of-type {\n        vertical-align: middle;\n    }\n\n    .dataframe tbody tr th {\n        vertical-align: top;\n    }\n\n    .dataframe thead th {\n        text-align: right;\n    }\n</style>\n<table border=\"1\" class=\"dataframe\">\n  <thead>\n    <tr style=\"text-align: right;\">\n      <th></th>\n      <th>decision</th>\n      <th>tta_condition_z</th>\n      <th>Estimate</th>\n      <th>2.5_ci</th>\n      <th>97.5_ci</th>\n      <th>SE</th>\n      <th>DF</th>\n      <th>T-stat</th>\n      <th>P-val</th>\n    </tr>\n  </thead>\n  <tbody>\n    <tr>\n      <th>1</th>\n      <td>Merge</td>\n      <td>-1.0</td>\n      <td>0.014</td>\n      <td>-0.027</td>\n      <td>0.054</td>\n      <td>0.020</td>\n      <td>39.276</td>\n      <td>0.700000</td>\n      <td>2.440265e-01</td>\n    </tr>\n    <tr>\n      <th>2</th>\n      <td>Wait</td>\n      <td>-1.0</td>\n      <td>0.065</td>\n      <td>0.026</td>\n      <td>0.104</td>\n      <td>0.019</td>\n      <td>31.981</td>\n      <td>3.421053</td>\n      <td>8.618330e-04</td>\n    </tr>\n    <tr>\n      <th>3</th>\n      <td>Merge</td>\n      <td>1.0</td>\n      <td>0.066</td>\n      <td>0.029</td>\n      <td>0.104</td>\n      <td>0.018</td>\n      <td>26.568</td>\n      <td>3.666667</td>\n      <td>5.405259e-04</td>\n    </tr>\n    <tr>\n      <th>4</th>\n      <td>Wait</td>\n      <td>1.0</td>\n      <td>0.181</td>\n      <td>0.125</td>\n      <td>0.236</td>\n      <td>0.028</td>\n      <td>151.822</td>\n      <td>6.464286</td>\n      <td>6.565168e-10</td>\n    </tr>\n  </tbody>\n</table>\n</div>"
     },
     "execution_count": 105,
     "metadata": {},
     "output_type": "execute_result"
    }
   ],
   "source": [
    "marginal_estimates"
   ],
   "metadata": {
    "collapsed": false,
    "ExecuteTime": {
     "end_time": "2023-09-08T23:31:17.573208200Z",
     "start_time": "2023-09-08T23:31:17.546531800Z"
    }
   }
  },
  {
   "cell_type": "markdown",
   "source": [
    "# Including dwell time in the model for decision outcome"
   ],
   "metadata": {
    "collapsed": false
   }
  },
  {
   "cell_type": "code",
   "execution_count": 78,
   "outputs": [
    {
     "name": "stdout",
     "output_type": "stream",
     "text": [
      "Linear mixed model fit by maximum likelihood  ['lmerMod']\n",
      "Formula: is_gap_accepted~d_condition_z+tta_condition_z*tta_or_condition_z*dwell_time_z+(tta_condition_z+d_condition_z+tta_or_condition_z|subj_id)\n",
      "\n",
      "Family: binomial\t Inference: parametric\n",
      "\n",
      "Number of observations: 8634\t Groups: {'subj_id': 24.0}\n",
      "\n",
      "Log-likelihood: -3213.004 \t AIC: 6464.008\n",
      "\n",
      "Random effects:\n",
      "\n",
      "                       Name    Var    Std\n",
      "subj_id         (Intercept)  1.657  1.287\n",
      "subj_id     tta_condition_z  0.261  0.511\n",
      "subj_id       d_condition_z  0.253  0.503\n",
      "subj_id  tta_or_condition_z  0.114  0.338\n",
      "\n",
      "                     IV1                 IV2   Corr\n",
      "subj_id      (Intercept)     tta_condition_z -0.132\n",
      "subj_id      (Intercept)       d_condition_z  0.219\n",
      "subj_id      (Intercept)  tta_or_condition_z -0.138\n",
      "subj_id  tta_condition_z       d_condition_z -0.540\n",
      "subj_id  tta_condition_z  tta_or_condition_z -0.206\n",
      "subj_id    d_condition_z  tta_or_condition_z  0.580\n",
      "\n",
      "Fixed effects:\n"
     ]
    },
    {
     "data": {
      "text/plain": "                                                 Estimate    2.5_ci   97.5_ci  \\\n(Intercept)                                      1.277144  0.751927  1.802361   \nd_condition_z                                    0.542184  0.329556  0.754812   \ntta_condition_z                                  1.828735  1.601117  2.056353   \ntta_or_condition_z                              -0.391190 -0.546368 -0.236013   \ndwell_time_z                                     0.062410 -0.037146  0.161967   \ntta_condition_z:tta_or_condition_z               0.049566 -0.032159  0.131291   \ntta_condition_z:dwell_time_z                     0.066278 -0.029596  0.162151   \ntta_or_condition_z:dwell_time_z                  0.239457  0.150385  0.328528   \ntta_condition_z:tta_or_condition_z:dwell_time_z -0.046320 -0.121023  0.028382   \n\n                                                       SE        OR  \\\n(Intercept)                                      0.267973  3.586382   \nd_condition_z                                    0.108486  1.719759   \ntta_condition_z                                  0.116134  6.226004   \ntta_or_condition_z                               0.079174  0.676251   \ndwell_time_z                                     0.050795  1.064399   \ntta_condition_z:tta_or_condition_z               0.041697  1.050815   \ntta_condition_z:dwell_time_z                     0.048916  1.068523   \ntta_or_condition_z:dwell_time_z                  0.045445  1.270559   \ntta_condition_z:tta_or_condition_z:dwell_time_z  0.038114  0.954736   \n\n                                                 OR_2.5_ci  OR_97.5_ci  \\\n(Intercept)                                       2.121083    6.063945   \nd_condition_z                                     1.390351    2.127212   \ntta_condition_z                                   4.958567    7.817406   \ntta_or_condition_z                                0.579049    0.789770   \ndwell_time_z                                      0.963535    1.175821   \ntta_condition_z:tta_or_condition_z                0.968353    1.140299   \ntta_condition_z:dwell_time_z                      0.970838    1.176038   \ntta_or_condition_z:dwell_time_z                   1.162282    1.388922   \ntta_condition_z:tta_or_condition_z:dwell_time_z   0.886014    1.028789   \n\n                                                     Prob  Prob_2.5_ci  \\\n(Intercept)                                      0.781963     0.679598   \nd_condition_z                                    0.632320     0.581651   \ntta_condition_z                                  0.861611     0.832174   \ntta_or_condition_z                               0.403431     0.366707   \ndwell_time_z                                     0.515597     0.490714   \ntta_condition_z:tta_or_condition_z               0.512389     0.491961   \ntta_condition_z:dwell_time_z                     0.516563     0.492602   \ntta_or_condition_z:dwell_time_z                  0.559580     0.537526   \ntta_condition_z:tta_or_condition_z:dwell_time_z  0.488422     0.469781   \n\n                                                 Prob_97.5_ci     Z-stat  \\\n(Intercept)                                          0.858436   4.765948   \nd_condition_z                                        0.680226   4.997754   \ntta_condition_z                                      0.886588  15.746795   \ntta_or_condition_z                                   0.441269  -4.940920   \ndwell_time_z                                         0.540403   1.228663   \ntta_condition_z:tta_or_condition_z                   0.532776   1.188719   \ntta_condition_z:dwell_time_z                         0.540449   1.354929   \ntta_or_condition_z:dwell_time_z                      0.581401   5.269113   \ntta_condition_z:tta_or_condition_z:dwell_time_z      0.507095  -1.215300   \n\n                                                        P-val  Sig  \n(Intercept)                                      1.879680e-06  ***  \nd_condition_z                                    5.800192e-07  ***  \ntta_condition_z                                  7.225156e-56  ***  \ntta_or_condition_z                               7.775490e-07  ***  \ndwell_time_z                                     2.191980e-01       \ntta_condition_z:tta_or_condition_z               2.345503e-01       \ntta_condition_z:dwell_time_z                     1.754400e-01       \ntta_or_condition_z:dwell_time_z                  1.370847e-07  ***  \ntta_condition_z:tta_or_condition_z:dwell_time_z  2.242518e-01       ",
      "text/html": "<div>\n<style scoped>\n    .dataframe tbody tr th:only-of-type {\n        vertical-align: middle;\n    }\n\n    .dataframe tbody tr th {\n        vertical-align: top;\n    }\n\n    .dataframe thead th {\n        text-align: right;\n    }\n</style>\n<table border=\"1\" class=\"dataframe\">\n  <thead>\n    <tr style=\"text-align: right;\">\n      <th></th>\n      <th>Estimate</th>\n      <th>2.5_ci</th>\n      <th>97.5_ci</th>\n      <th>SE</th>\n      <th>OR</th>\n      <th>OR_2.5_ci</th>\n      <th>OR_97.5_ci</th>\n      <th>Prob</th>\n      <th>Prob_2.5_ci</th>\n      <th>Prob_97.5_ci</th>\n      <th>Z-stat</th>\n      <th>P-val</th>\n      <th>Sig</th>\n    </tr>\n  </thead>\n  <tbody>\n    <tr>\n      <th>(Intercept)</th>\n      <td>1.277144</td>\n      <td>0.751927</td>\n      <td>1.802361</td>\n      <td>0.267973</td>\n      <td>3.586382</td>\n      <td>2.121083</td>\n      <td>6.063945</td>\n      <td>0.781963</td>\n      <td>0.679598</td>\n      <td>0.858436</td>\n      <td>4.765948</td>\n      <td>1.879680e-06</td>\n      <td>***</td>\n    </tr>\n    <tr>\n      <th>d_condition_z</th>\n      <td>0.542184</td>\n      <td>0.329556</td>\n      <td>0.754812</td>\n      <td>0.108486</td>\n      <td>1.719759</td>\n      <td>1.390351</td>\n      <td>2.127212</td>\n      <td>0.632320</td>\n      <td>0.581651</td>\n      <td>0.680226</td>\n      <td>4.997754</td>\n      <td>5.800192e-07</td>\n      <td>***</td>\n    </tr>\n    <tr>\n      <th>tta_condition_z</th>\n      <td>1.828735</td>\n      <td>1.601117</td>\n      <td>2.056353</td>\n      <td>0.116134</td>\n      <td>6.226004</td>\n      <td>4.958567</td>\n      <td>7.817406</td>\n      <td>0.861611</td>\n      <td>0.832174</td>\n      <td>0.886588</td>\n      <td>15.746795</td>\n      <td>7.225156e-56</td>\n      <td>***</td>\n    </tr>\n    <tr>\n      <th>tta_or_condition_z</th>\n      <td>-0.391190</td>\n      <td>-0.546368</td>\n      <td>-0.236013</td>\n      <td>0.079174</td>\n      <td>0.676251</td>\n      <td>0.579049</td>\n      <td>0.789770</td>\n      <td>0.403431</td>\n      <td>0.366707</td>\n      <td>0.441269</td>\n      <td>-4.940920</td>\n      <td>7.775490e-07</td>\n      <td>***</td>\n    </tr>\n    <tr>\n      <th>dwell_time_z</th>\n      <td>0.062410</td>\n      <td>-0.037146</td>\n      <td>0.161967</td>\n      <td>0.050795</td>\n      <td>1.064399</td>\n      <td>0.963535</td>\n      <td>1.175821</td>\n      <td>0.515597</td>\n      <td>0.490714</td>\n      <td>0.540403</td>\n      <td>1.228663</td>\n      <td>2.191980e-01</td>\n      <td></td>\n    </tr>\n    <tr>\n      <th>tta_condition_z:tta_or_condition_z</th>\n      <td>0.049566</td>\n      <td>-0.032159</td>\n      <td>0.131291</td>\n      <td>0.041697</td>\n      <td>1.050815</td>\n      <td>0.968353</td>\n      <td>1.140299</td>\n      <td>0.512389</td>\n      <td>0.491961</td>\n      <td>0.532776</td>\n      <td>1.188719</td>\n      <td>2.345503e-01</td>\n      <td></td>\n    </tr>\n    <tr>\n      <th>tta_condition_z:dwell_time_z</th>\n      <td>0.066278</td>\n      <td>-0.029596</td>\n      <td>0.162151</td>\n      <td>0.048916</td>\n      <td>1.068523</td>\n      <td>0.970838</td>\n      <td>1.176038</td>\n      <td>0.516563</td>\n      <td>0.492602</td>\n      <td>0.540449</td>\n      <td>1.354929</td>\n      <td>1.754400e-01</td>\n      <td></td>\n    </tr>\n    <tr>\n      <th>tta_or_condition_z:dwell_time_z</th>\n      <td>0.239457</td>\n      <td>0.150385</td>\n      <td>0.328528</td>\n      <td>0.045445</td>\n      <td>1.270559</td>\n      <td>1.162282</td>\n      <td>1.388922</td>\n      <td>0.559580</td>\n      <td>0.537526</td>\n      <td>0.581401</td>\n      <td>5.269113</td>\n      <td>1.370847e-07</td>\n      <td>***</td>\n    </tr>\n    <tr>\n      <th>tta_condition_z:tta_or_condition_z:dwell_time_z</th>\n      <td>-0.046320</td>\n      <td>-0.121023</td>\n      <td>0.028382</td>\n      <td>0.038114</td>\n      <td>0.954736</td>\n      <td>0.886014</td>\n      <td>1.028789</td>\n      <td>0.488422</td>\n      <td>0.469781</td>\n      <td>0.507095</td>\n      <td>-1.215300</td>\n      <td>2.242518e-01</td>\n      <td></td>\n    </tr>\n  </tbody>\n</table>\n</div>"
     },
     "execution_count": 78,
     "metadata": {},
     "output_type": "execute_result"
    }
   ],
   "source": [
    "model_decision_dwell = pymer4.models.Lmer(\"is_gap_accepted ~ d_condition_z + tta_condition_z*tta_or_condition_z*dwell_time_z + (tta_condition_z + d_condition_z + tta_or_condition_z | subj_id) \", data=measures, family=\"binomial\")\n",
    "model_decision_dwell_fit = model_decision_dwell.fit(summarize=True)\n",
    "model_decision_dwell.coefs"
   ],
   "metadata": {
    "collapsed": false,
    "pycharm": {
     "name": "#%%\n"
    },
    "ExecuteTime": {
     "end_time": "2023-09-08T22:42:31.752260100Z",
     "start_time": "2023-09-08T22:41:46.174548100Z"
    }
   }
  },
  {
   "cell_type": "code",
   "execution_count": 79,
   "outputs": [],
   "source": [
    "df = model_decision_dwell.coefs.loc[:, [\"Estimate\", \"SE\", \"Z-stat\", \"P-val\"]]\n",
    "\n",
    "df[\"P-val\"] = df[\"P-val\"].apply(p_formatted)\n",
    "\n",
    "styler = df.rename(columns=column_names, index=var_names).style.format(precision=2)\n",
    "\n",
    "with open('C:\\\\Users\\\\azgonnikov\\\\Dropbox\\\\Apps\\\\Overleaf\\\\AAP Dynamics of merging decisions Elsevier template\\\\tab_decision_dwell.tex', 'w') as tf:\n",
    "     tf.write(styler.to_latex(\n",
    "         column_format=\"rrrrr\", position=\"h\", position_float=\"centering\",\n",
    "         hrules=True, label=\"tab:decision_dwell\", caption=\"Coefficients of the mixed-effects logistic regression describing the final decision as a function of dwell time. Random slopes of $\\\\textrm{TTA}$ and distance to the overtaking vehicle and the time budget provided by the merging lane were included per participant.\"\n",
    "     )\n",
    ")"
   ],
   "metadata": {
    "collapsed": false,
    "ExecuteTime": {
     "end_time": "2023-09-08T22:42:31.780541300Z",
     "start_time": "2023-09-08T22:42:31.752260100Z"
    }
   }
  }
 ],
 "metadata": {
  "kernelspec": {
   "display_name": "Python 3",
   "language": "python",
   "name": "python3"
  },
  "language_info": {
   "codemirror_mode": {
    "name": "ipython",
    "version": 2
   },
   "file_extension": ".py",
   "mimetype": "text/x-python",
   "name": "python",
   "nbconvert_exporter": "python",
   "pygments_lexer": "ipython2",
   "version": "2.7.6"
  }
 },
 "nbformat": 4,
 "nbformat_minor": 0
}
