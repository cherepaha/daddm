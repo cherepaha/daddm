{
 "cells": [
  {
   "cell_type": "code",
   "execution_count": 1,
   "metadata": {
    "collapsed": true
   },
   "outputs": [],
   "source": [
    "import pandas as pd\n",
    "import pymer4.models"
   ]
  },
  {
   "cell_type": "code",
   "execution_count": 21,
   "outputs": [
    {
     "data": {
      "text/plain": "      tta_or_condition  d_condition  tta_condition  is_gap_accepted     RT  \\\n0                    4           20              4             True  1.195   \n1                    4           20              4             True  1.175   \n2                    4           20              4             True  1.865   \n3                    4           20              4             True  0.923   \n4                    4           20              4             True  1.335   \n...                ...          ...            ...              ...    ...   \n8629                 6           40              6            False  2.433   \n8630                 6           40              6            False  2.185   \n8631                 6           40              6            False  1.199   \n8632                 6           40              6            False  1.571   \n8633                 6           40              6            False  1.872   \n\n      subj_id  dwell_time decision  \n0           3    0.826087    Merge  \n1           3    0.739130    Merge  \n2           3    0.621622    Merge  \n3           3    1.000000    Merge  \n4           3    0.846154    Merge  \n...       ...         ...      ...  \n8629       24    0.541667     Wait  \n8630       24    0.813953     Wait  \n8631       24    0.869565     Wait  \n8632       24    0.677419     Wait  \n8633       24    0.756757     Wait  \n\n[8634 rows x 8 columns]",
      "text/html": "<div>\n<style scoped>\n    .dataframe tbody tr th:only-of-type {\n        vertical-align: middle;\n    }\n\n    .dataframe tbody tr th {\n        vertical-align: top;\n    }\n\n    .dataframe thead th {\n        text-align: right;\n    }\n</style>\n<table border=\"1\" class=\"dataframe\">\n  <thead>\n    <tr style=\"text-align: right;\">\n      <th></th>\n      <th>tta_or_condition</th>\n      <th>d_condition</th>\n      <th>tta_condition</th>\n      <th>is_gap_accepted</th>\n      <th>RT</th>\n      <th>subj_id</th>\n      <th>dwell_time</th>\n      <th>decision</th>\n    </tr>\n  </thead>\n  <tbody>\n    <tr>\n      <th>0</th>\n      <td>4</td>\n      <td>20</td>\n      <td>4</td>\n      <td>True</td>\n      <td>1.195</td>\n      <td>3</td>\n      <td>0.826087</td>\n      <td>Merge</td>\n    </tr>\n    <tr>\n      <th>1</th>\n      <td>4</td>\n      <td>20</td>\n      <td>4</td>\n      <td>True</td>\n      <td>1.175</td>\n      <td>3</td>\n      <td>0.739130</td>\n      <td>Merge</td>\n    </tr>\n    <tr>\n      <th>2</th>\n      <td>4</td>\n      <td>20</td>\n      <td>4</td>\n      <td>True</td>\n      <td>1.865</td>\n      <td>3</td>\n      <td>0.621622</td>\n      <td>Merge</td>\n    </tr>\n    <tr>\n      <th>3</th>\n      <td>4</td>\n      <td>20</td>\n      <td>4</td>\n      <td>True</td>\n      <td>0.923</td>\n      <td>3</td>\n      <td>1.000000</td>\n      <td>Merge</td>\n    </tr>\n    <tr>\n      <th>4</th>\n      <td>4</td>\n      <td>20</td>\n      <td>4</td>\n      <td>True</td>\n      <td>1.335</td>\n      <td>3</td>\n      <td>0.846154</td>\n      <td>Merge</td>\n    </tr>\n    <tr>\n      <th>...</th>\n      <td>...</td>\n      <td>...</td>\n      <td>...</td>\n      <td>...</td>\n      <td>...</td>\n      <td>...</td>\n      <td>...</td>\n      <td>...</td>\n    </tr>\n    <tr>\n      <th>8629</th>\n      <td>6</td>\n      <td>40</td>\n      <td>6</td>\n      <td>False</td>\n      <td>2.433</td>\n      <td>24</td>\n      <td>0.541667</td>\n      <td>Wait</td>\n    </tr>\n    <tr>\n      <th>8630</th>\n      <td>6</td>\n      <td>40</td>\n      <td>6</td>\n      <td>False</td>\n      <td>2.185</td>\n      <td>24</td>\n      <td>0.813953</td>\n      <td>Wait</td>\n    </tr>\n    <tr>\n      <th>8631</th>\n      <td>6</td>\n      <td>40</td>\n      <td>6</td>\n      <td>False</td>\n      <td>1.199</td>\n      <td>24</td>\n      <td>0.869565</td>\n      <td>Wait</td>\n    </tr>\n    <tr>\n      <th>8632</th>\n      <td>6</td>\n      <td>40</td>\n      <td>6</td>\n      <td>False</td>\n      <td>1.571</td>\n      <td>24</td>\n      <td>0.677419</td>\n      <td>Wait</td>\n    </tr>\n    <tr>\n      <th>8633</th>\n      <td>6</td>\n      <td>40</td>\n      <td>6</td>\n      <td>False</td>\n      <td>1.872</td>\n      <td>24</td>\n      <td>0.756757</td>\n      <td>Wait</td>\n    </tr>\n  </tbody>\n</table>\n<p>8634 rows × 8 columns</p>\n</div>"
     },
     "execution_count": 21,
     "metadata": {},
     "output_type": "execute_result"
    }
   ],
   "source": [
    "measures = pd.read_csv(\"measures.csv\")\n",
    "measures"
   ],
   "metadata": {
    "collapsed": false,
    "pycharm": {
     "name": "#%%\n"
    }
   }
  },
  {
   "cell_type": "markdown",
   "source": [
    "# Decision outcome"
   ],
   "metadata": {
    "collapsed": false,
    "pycharm": {
     "name": "#%% md\n"
    }
   }
  },
  {
   "cell_type": "code",
   "execution_count": 20,
   "outputs": [
    {
     "name": "stdout",
     "output_type": "stream",
     "text": [
      "Linear mixed model fit by maximum likelihood  ['lmerMod']\n",
      "Formula: is_gap_accepted~tta_condition+tta_or_condition+d_condition+(1|subj_id)\n",
      "\n",
      "Family: binomial\t Inference: parametric\n",
      "\n",
      "Number of observations: 8634\t Groups: {'subj_id': 24.0}\n",
      "\n",
      "Log-likelihood: -3456.562 \t AIC: 6923.125\n",
      "\n",
      "Random effects:\n",
      "\n",
      "                Name    Var    Std\n",
      "subj_id  (Intercept)  1.438  1.199\n",
      "\n",
      "No random effect correlations specified\n",
      "\n",
      "Fixed effects:\n",
      "\n"
     ]
    },
    {
     "data": {
      "text/plain": "                  Estimate    2.5_ci   97.5_ci        SE        OR  OR_2.5_ci  \\\n(Intercept)      -7.326072 -8.026925 -6.625219  0.357585  0.000658   0.000327   \ntta_condition     1.717876  1.639234  1.796518  0.040124  5.572679   5.151223   \ntta_or_condition -0.374733 -0.434883 -0.314582  0.030690  0.687473   0.647340   \nd_condition       0.060237  0.052759  0.067716  0.003815  1.062089   1.054176   \n\n                  OR_97.5_ci      Prob  Prob_2.5_ci  Prob_97.5_ci     Z-stat  \\\n(Intercept)         0.001326  0.000658     0.000326      0.001325 -20.487656   \ntta_condition       6.028617  0.847855     0.837431      0.857725  42.814073   \ntta_or_condition    0.730094  0.407398     0.392961      0.421997 -12.210402   \nd_condition         1.070061  0.515055     0.513187      0.516922  15.787612   \n\n                         P-val  Sig  \n(Intercept)       2.774307e-93  ***  \ntta_condition     0.000000e+00  ***  \ntta_or_condition  2.735359e-34  ***  \nd_condition       3.786430e-56  ***  ",
      "text/html": "<div>\n<style scoped>\n    .dataframe tbody tr th:only-of-type {\n        vertical-align: middle;\n    }\n\n    .dataframe tbody tr th {\n        vertical-align: top;\n    }\n\n    .dataframe thead th {\n        text-align: right;\n    }\n</style>\n<table border=\"1\" class=\"dataframe\">\n  <thead>\n    <tr style=\"text-align: right;\">\n      <th></th>\n      <th>Estimate</th>\n      <th>2.5_ci</th>\n      <th>97.5_ci</th>\n      <th>SE</th>\n      <th>OR</th>\n      <th>OR_2.5_ci</th>\n      <th>OR_97.5_ci</th>\n      <th>Prob</th>\n      <th>Prob_2.5_ci</th>\n      <th>Prob_97.5_ci</th>\n      <th>Z-stat</th>\n      <th>P-val</th>\n      <th>Sig</th>\n    </tr>\n  </thead>\n  <tbody>\n    <tr>\n      <th>(Intercept)</th>\n      <td>-7.326072</td>\n      <td>-8.026925</td>\n      <td>-6.625219</td>\n      <td>0.357585</td>\n      <td>0.000658</td>\n      <td>0.000327</td>\n      <td>0.001326</td>\n      <td>0.000658</td>\n      <td>0.000326</td>\n      <td>0.001325</td>\n      <td>-20.487656</td>\n      <td>2.774307e-93</td>\n      <td>***</td>\n    </tr>\n    <tr>\n      <th>tta_condition</th>\n      <td>1.717876</td>\n      <td>1.639234</td>\n      <td>1.796518</td>\n      <td>0.040124</td>\n      <td>5.572679</td>\n      <td>5.151223</td>\n      <td>6.028617</td>\n      <td>0.847855</td>\n      <td>0.837431</td>\n      <td>0.857725</td>\n      <td>42.814073</td>\n      <td>0.000000e+00</td>\n      <td>***</td>\n    </tr>\n    <tr>\n      <th>tta_or_condition</th>\n      <td>-0.374733</td>\n      <td>-0.434883</td>\n      <td>-0.314582</td>\n      <td>0.030690</td>\n      <td>0.687473</td>\n      <td>0.647340</td>\n      <td>0.730094</td>\n      <td>0.407398</td>\n      <td>0.392961</td>\n      <td>0.421997</td>\n      <td>-12.210402</td>\n      <td>2.735359e-34</td>\n      <td>***</td>\n    </tr>\n    <tr>\n      <th>d_condition</th>\n      <td>0.060237</td>\n      <td>0.052759</td>\n      <td>0.067716</td>\n      <td>0.003815</td>\n      <td>1.062089</td>\n      <td>1.054176</td>\n      <td>1.070061</td>\n      <td>0.515055</td>\n      <td>0.513187</td>\n      <td>0.516922</td>\n      <td>15.787612</td>\n      <td>3.786430e-56</td>\n      <td>***</td>\n    </tr>\n  </tbody>\n</table>\n</div>"
     },
     "execution_count": 20,
     "metadata": {},
     "output_type": "execute_result"
    }
   ],
   "source": [
    "model_decision = pymer4.models.Lmer(\"is_gap_accepted ~ tta_condition + tta_or_condition + d_condition + (1 | subj_id) \", data=measures, family=\"binomial\")\n",
    "model_decision_fit = model_decision.fit(summarize=True)\n",
    "model_decision.coefs"
   ],
   "metadata": {
    "collapsed": false,
    "pycharm": {
     "name": "#%%\n"
    }
   }
  },
  {
   "cell_type": "code",
   "execution_count": 29,
   "outputs": [
    {
     "name": "stdout",
     "output_type": "stream",
     "text": [
      "[1] \"Model failed to converge with max|grad| = 0.0383726 (tol = 0.002, component 1)\"\n",
      "[2] \" \\n\"                                                                           \n",
      "\n",
      "[1] \"Model is nearly unidentifiable: large eigenvalue ratio\\n - Rescale variables?\"\n",
      "[2] \" \\n\"                                                                          \n",
      "\n",
      "Linear mixed model fit by maximum likelihood  ['lmerMod']\n",
      "Formula: is_gap_accepted~tta_condition*tta_or_condition*dwell_time+d_condition+(1|subj_id)\n",
      "\n",
      "Family: binomial\t Inference: parametric\n",
      "\n",
      "Number of observations: 8634\t Groups: {'subj_id': 24.0}\n",
      "\n",
      "Log-likelihood: -3405.937 \t AIC: 6831.874\n",
      "\n",
      "Random effects:\n",
      "\n",
      "                Name    Var    Std\n",
      "subj_id  (Intercept)  1.484  1.218\n",
      "\n",
      "No random effect correlations specified\n",
      "\n",
      "Fixed effects:\n",
      "\n"
     ]
    },
    {
     "data": {
      "text/plain": "                                            Estimate     2.5_ci    97.5_ci  \\\n(Intercept)                                 3.639996  -2.941439  10.221431   \ntta_condition                               0.430278  -0.992541   1.853097   \ntta_or_condition                           -2.280645  -3.544536  -1.016754   \ndwell_time                                -14.098124 -23.417724  -4.778524   \nd_condition                                 0.061788   0.054202   0.069373   \ntta_condition:tta_or_condition              0.193646  -0.078472   0.465764   \ntta_condition:dwell_time                    1.400931  -0.599101   3.400962   \ntta_or_condition:dwell_time                 2.374278   0.574540   4.174015   \ntta_condition:tta_or_condition:dwell_time  -0.185121  -0.569752   0.199511   \n\n                                                 SE            OR  \\\n(Intercept)                                3.357937  3.809168e+01   \ntta_condition                              0.725941  1.537685e+00   \ntta_or_condition                           0.644854  1.022183e-01   \ndwell_time                                 4.754985  7.538111e-07   \nd_condition                                0.003870  1.063736e+00   \ntta_condition:tta_or_condition             0.138838  1.213667e+00   \ntta_condition:dwell_time                   1.020443  4.058976e+00   \ntta_or_condition:dwell_time                0.918250  1.074325e+01   \ntta_condition:tta_or_condition:dwell_time  0.196244  8.310041e-01   \n\n                                              OR_2.5_ci    OR_97.5_ci  \\\n(Intercept)                                5.278969e-02  27485.967352   \ntta_condition                              3.706338e-01      6.379546   \ntta_or_condition                           2.888203e-02      0.361767   \ndwell_time                                 6.757898e-11      0.008408   \nd_condition                                1.055698e+00      1.071836   \ntta_condition:tta_or_condition             9.245283e-01      1.593232   \ntta_condition:dwell_time                   5.493055e-01     29.992935   \ntta_or_condition:dwell_time                1.776314e+00     64.975810   \ntta_condition:tta_or_condition:dwell_time  5.656658e-01      1.220805   \n\n                                                   Prob   Prob_2.5_ci  \\\n(Intercept)                                9.744191e-01  5.014268e-02   \ntta_condition                              6.059401e-01  2.704105e-01   \ntta_or_condition                           9.273867e-02  2.807127e-02   \ndwell_time                                 7.538106e-07  6.757898e-11   \nd_condition                                5.154420e-01  5.135471e-01   \ntta_condition:tta_or_condition             5.482609e-01  4.803922e-01   \ntta_condition:dwell_time                   8.023315e-01  3.545495e-01   \ntta_or_condition:dwell_time                9.148447e-01  6.398102e-01   \ntta_condition:tta_or_condition:dwell_time  4.538516e-01  3.612941e-01   \n\n                                           Prob_97.5_ci     Z-stat  \\\n(Intercept)                                    0.999964   1.083998   \ntta_condition                                  0.864490   0.592717   \ntta_or_condition                               0.265660  -3.536684   \ndwell_time                                     0.008338  -2.964914   \nd_condition                                    0.517336  15.964205   \ntta_condition:tta_or_condition                 0.614381   1.394763   \ntta_condition:dwell_time                       0.967735   1.372865   \ntta_or_condition:dwell_time                    0.984843   2.585654   \ntta_condition:tta_or_condition:dwell_time      0.549713  -0.943318   \n\n                                                  P-val  Sig  \n(Intercept)                                2.783658e-01       \ntta_condition                              5.533703e-01       \ntta_or_condition                           4.051842e-04  ***  \ndwell_time                                 3.027673e-03   **  \nd_condition                                2.269159e-57  ***  \ntta_condition:tta_or_condition             1.630875e-01       \ntta_condition:dwell_time                   1.697942e-01       \ntta_or_condition:dwell_time                9.719436e-03   **  \ntta_condition:tta_or_condition:dwell_time  3.455181e-01       ",
      "text/html": "<div>\n<style scoped>\n    .dataframe tbody tr th:only-of-type {\n        vertical-align: middle;\n    }\n\n    .dataframe tbody tr th {\n        vertical-align: top;\n    }\n\n    .dataframe thead th {\n        text-align: right;\n    }\n</style>\n<table border=\"1\" class=\"dataframe\">\n  <thead>\n    <tr style=\"text-align: right;\">\n      <th></th>\n      <th>Estimate</th>\n      <th>2.5_ci</th>\n      <th>97.5_ci</th>\n      <th>SE</th>\n      <th>OR</th>\n      <th>OR_2.5_ci</th>\n      <th>OR_97.5_ci</th>\n      <th>Prob</th>\n      <th>Prob_2.5_ci</th>\n      <th>Prob_97.5_ci</th>\n      <th>Z-stat</th>\n      <th>P-val</th>\n      <th>Sig</th>\n    </tr>\n  </thead>\n  <tbody>\n    <tr>\n      <th>(Intercept)</th>\n      <td>3.639996</td>\n      <td>-2.941439</td>\n      <td>10.221431</td>\n      <td>3.357937</td>\n      <td>3.809168e+01</td>\n      <td>5.278969e-02</td>\n      <td>27485.967352</td>\n      <td>9.744191e-01</td>\n      <td>5.014268e-02</td>\n      <td>0.999964</td>\n      <td>1.083998</td>\n      <td>2.783658e-01</td>\n      <td></td>\n    </tr>\n    <tr>\n      <th>tta_condition</th>\n      <td>0.430278</td>\n      <td>-0.992541</td>\n      <td>1.853097</td>\n      <td>0.725941</td>\n      <td>1.537685e+00</td>\n      <td>3.706338e-01</td>\n      <td>6.379546</td>\n      <td>6.059401e-01</td>\n      <td>2.704105e-01</td>\n      <td>0.864490</td>\n      <td>0.592717</td>\n      <td>5.533703e-01</td>\n      <td></td>\n    </tr>\n    <tr>\n      <th>tta_or_condition</th>\n      <td>-2.280645</td>\n      <td>-3.544536</td>\n      <td>-1.016754</td>\n      <td>0.644854</td>\n      <td>1.022183e-01</td>\n      <td>2.888203e-02</td>\n      <td>0.361767</td>\n      <td>9.273867e-02</td>\n      <td>2.807127e-02</td>\n      <td>0.265660</td>\n      <td>-3.536684</td>\n      <td>4.051842e-04</td>\n      <td>***</td>\n    </tr>\n    <tr>\n      <th>dwell_time</th>\n      <td>-14.098124</td>\n      <td>-23.417724</td>\n      <td>-4.778524</td>\n      <td>4.754985</td>\n      <td>7.538111e-07</td>\n      <td>6.757898e-11</td>\n      <td>0.008408</td>\n      <td>7.538106e-07</td>\n      <td>6.757898e-11</td>\n      <td>0.008338</td>\n      <td>-2.964914</td>\n      <td>3.027673e-03</td>\n      <td>**</td>\n    </tr>\n    <tr>\n      <th>d_condition</th>\n      <td>0.061788</td>\n      <td>0.054202</td>\n      <td>0.069373</td>\n      <td>0.003870</td>\n      <td>1.063736e+00</td>\n      <td>1.055698e+00</td>\n      <td>1.071836</td>\n      <td>5.154420e-01</td>\n      <td>5.135471e-01</td>\n      <td>0.517336</td>\n      <td>15.964205</td>\n      <td>2.269159e-57</td>\n      <td>***</td>\n    </tr>\n    <tr>\n      <th>tta_condition:tta_or_condition</th>\n      <td>0.193646</td>\n      <td>-0.078472</td>\n      <td>0.465764</td>\n      <td>0.138838</td>\n      <td>1.213667e+00</td>\n      <td>9.245283e-01</td>\n      <td>1.593232</td>\n      <td>5.482609e-01</td>\n      <td>4.803922e-01</td>\n      <td>0.614381</td>\n      <td>1.394763</td>\n      <td>1.630875e-01</td>\n      <td></td>\n    </tr>\n    <tr>\n      <th>tta_condition:dwell_time</th>\n      <td>1.400931</td>\n      <td>-0.599101</td>\n      <td>3.400962</td>\n      <td>1.020443</td>\n      <td>4.058976e+00</td>\n      <td>5.493055e-01</td>\n      <td>29.992935</td>\n      <td>8.023315e-01</td>\n      <td>3.545495e-01</td>\n      <td>0.967735</td>\n      <td>1.372865</td>\n      <td>1.697942e-01</td>\n      <td></td>\n    </tr>\n    <tr>\n      <th>tta_or_condition:dwell_time</th>\n      <td>2.374278</td>\n      <td>0.574540</td>\n      <td>4.174015</td>\n      <td>0.918250</td>\n      <td>1.074325e+01</td>\n      <td>1.776314e+00</td>\n      <td>64.975810</td>\n      <td>9.148447e-01</td>\n      <td>6.398102e-01</td>\n      <td>0.984843</td>\n      <td>2.585654</td>\n      <td>9.719436e-03</td>\n      <td>**</td>\n    </tr>\n    <tr>\n      <th>tta_condition:tta_or_condition:dwell_time</th>\n      <td>-0.185121</td>\n      <td>-0.569752</td>\n      <td>0.199511</td>\n      <td>0.196244</td>\n      <td>8.310041e-01</td>\n      <td>5.656658e-01</td>\n      <td>1.220805</td>\n      <td>4.538516e-01</td>\n      <td>3.612941e-01</td>\n      <td>0.549713</td>\n      <td>-0.943318</td>\n      <td>3.455181e-01</td>\n      <td></td>\n    </tr>\n  </tbody>\n</table>\n</div>"
     },
     "execution_count": 29,
     "metadata": {},
     "output_type": "execute_result"
    }
   ],
   "source": [
    "model_decision = pymer4.models.Lmer(\"is_gap_accepted ~ tta_condition*tta_or_condition*dwell_time+ d_condition + (1 | subj_id) \", data=measures, family=\"binomial\")\n",
    "model_decision_fit = model_decision.fit(summarize=True)\n",
    "model_decision.coefs"
   ],
   "metadata": {
    "collapsed": false,
    "pycharm": {
     "name": "#%%\n"
    }
   }
  },
  {
   "cell_type": "markdown",
   "source": [
    "## Trying normalizing the values"
   ],
   "metadata": {
    "collapsed": false,
    "pycharm": {
     "name": "#%% md\n"
    }
   }
  },
  {
   "cell_type": "code",
   "execution_count": 33,
   "outputs": [],
   "source": [
    "measures.iloc[:, [0, 1, 2, 4, 6]] = measures.iloc[:, [0, 1, 2, 4, 6]].apply(lambda x: (x-x.mean())/ x.std(), axis=0)"
   ],
   "metadata": {
    "collapsed": false,
    "pycharm": {
     "name": "#%%\n"
    }
   }
  },
  {
   "cell_type": "code",
   "execution_count": 34,
   "outputs": [
    {
     "data": {
      "text/plain": "      tta_or_condition  d_condition  tta_condition  is_gap_accepted        RT  \\\n0            -0.999247    -1.224426      -0.999942             True -0.567196   \n1            -0.999247    -1.224426      -0.999942             True -0.598533   \n2            -0.999247    -1.224426      -0.999942             True  0.482605   \n3            -0.999247    -1.224426      -0.999942             True -0.993384   \n4            -0.999247    -1.224426      -0.999942             True -0.347835   \n...                ...          ...            ...              ...       ...   \n8629          1.000637     1.224709       0.999942            False  1.372586   \n8630          1.000637     1.224709       0.999942            False  0.984002   \n8631          1.000637     1.224709       0.999942            False -0.560928   \n8632          1.000637     1.224709       0.999942            False  0.021946   \n8633          1.000637     1.224709       0.999942            False  0.493573   \n\n      subj_id  dwell_time decision  \n0           3    0.818658    Merge  \n1           3    0.355308    Merge  \n2           3   -0.270842    Merge  \n3           3    1.745359    Merge  \n4           3    0.925585    Merge  \n...       ...         ...      ...  \n8629       24   -0.696884     Wait  \n8630       24    0.754004     Wait  \n8631       24    1.050333     Wait  \n8632       24    0.026478     Wait  \n8633       24    0.449230     Wait  \n\n[8634 rows x 8 columns]",
      "text/html": "<div>\n<style scoped>\n    .dataframe tbody tr th:only-of-type {\n        vertical-align: middle;\n    }\n\n    .dataframe tbody tr th {\n        vertical-align: top;\n    }\n\n    .dataframe thead th {\n        text-align: right;\n    }\n</style>\n<table border=\"1\" class=\"dataframe\">\n  <thead>\n    <tr style=\"text-align: right;\">\n      <th></th>\n      <th>tta_or_condition</th>\n      <th>d_condition</th>\n      <th>tta_condition</th>\n      <th>is_gap_accepted</th>\n      <th>RT</th>\n      <th>subj_id</th>\n      <th>dwell_time</th>\n      <th>decision</th>\n    </tr>\n  </thead>\n  <tbody>\n    <tr>\n      <th>0</th>\n      <td>-0.999247</td>\n      <td>-1.224426</td>\n      <td>-0.999942</td>\n      <td>True</td>\n      <td>-0.567196</td>\n      <td>3</td>\n      <td>0.818658</td>\n      <td>Merge</td>\n    </tr>\n    <tr>\n      <th>1</th>\n      <td>-0.999247</td>\n      <td>-1.224426</td>\n      <td>-0.999942</td>\n      <td>True</td>\n      <td>-0.598533</td>\n      <td>3</td>\n      <td>0.355308</td>\n      <td>Merge</td>\n    </tr>\n    <tr>\n      <th>2</th>\n      <td>-0.999247</td>\n      <td>-1.224426</td>\n      <td>-0.999942</td>\n      <td>True</td>\n      <td>0.482605</td>\n      <td>3</td>\n      <td>-0.270842</td>\n      <td>Merge</td>\n    </tr>\n    <tr>\n      <th>3</th>\n      <td>-0.999247</td>\n      <td>-1.224426</td>\n      <td>-0.999942</td>\n      <td>True</td>\n      <td>-0.993384</td>\n      <td>3</td>\n      <td>1.745359</td>\n      <td>Merge</td>\n    </tr>\n    <tr>\n      <th>4</th>\n      <td>-0.999247</td>\n      <td>-1.224426</td>\n      <td>-0.999942</td>\n      <td>True</td>\n      <td>-0.347835</td>\n      <td>3</td>\n      <td>0.925585</td>\n      <td>Merge</td>\n    </tr>\n    <tr>\n      <th>...</th>\n      <td>...</td>\n      <td>...</td>\n      <td>...</td>\n      <td>...</td>\n      <td>...</td>\n      <td>...</td>\n      <td>...</td>\n      <td>...</td>\n    </tr>\n    <tr>\n      <th>8629</th>\n      <td>1.000637</td>\n      <td>1.224709</td>\n      <td>0.999942</td>\n      <td>False</td>\n      <td>1.372586</td>\n      <td>24</td>\n      <td>-0.696884</td>\n      <td>Wait</td>\n    </tr>\n    <tr>\n      <th>8630</th>\n      <td>1.000637</td>\n      <td>1.224709</td>\n      <td>0.999942</td>\n      <td>False</td>\n      <td>0.984002</td>\n      <td>24</td>\n      <td>0.754004</td>\n      <td>Wait</td>\n    </tr>\n    <tr>\n      <th>8631</th>\n      <td>1.000637</td>\n      <td>1.224709</td>\n      <td>0.999942</td>\n      <td>False</td>\n      <td>-0.560928</td>\n      <td>24</td>\n      <td>1.050333</td>\n      <td>Wait</td>\n    </tr>\n    <tr>\n      <th>8632</th>\n      <td>1.000637</td>\n      <td>1.224709</td>\n      <td>0.999942</td>\n      <td>False</td>\n      <td>0.021946</td>\n      <td>24</td>\n      <td>0.026478</td>\n      <td>Wait</td>\n    </tr>\n    <tr>\n      <th>8633</th>\n      <td>1.000637</td>\n      <td>1.224709</td>\n      <td>0.999942</td>\n      <td>False</td>\n      <td>0.493573</td>\n      <td>24</td>\n      <td>0.449230</td>\n      <td>Wait</td>\n    </tr>\n  </tbody>\n</table>\n<p>8634 rows × 8 columns</p>\n</div>"
     },
     "execution_count": 34,
     "metadata": {},
     "output_type": "execute_result"
    }
   ],
   "source": [
    "measures"
   ],
   "metadata": {
    "collapsed": false,
    "pycharm": {
     "name": "#%%\n"
    }
   }
  },
  {
   "cell_type": "code",
   "execution_count": 39,
   "outputs": [
    {
     "name": "stdout",
     "output_type": "stream",
     "text": [
      "Linear mixed model fit by maximum likelihood  ['lmerMod']\n",
      "Formula: is_gap_accepted~tta_condition*tta_or_condition*dwell_time+d_condition+(1|subj_id)\n",
      "\n",
      "Family: binomial\t Inference: parametric\n",
      "\n",
      "Number of observations: 8634\t Groups: {'subj_id': 24.0}\n",
      "\n",
      "Log-likelihood: -3405.937 \t AIC: 6831.874\n",
      "\n",
      "Random effects:\n",
      "\n",
      "                Name    Var    Std\n",
      "subj_id  (Intercept)  1.484  1.218\n",
      "\n",
      "No random effect correlations specified\n",
      "\n",
      "Fixed effects:\n",
      "\n"
     ]
    },
    {
     "data": {
      "text/plain": "                                           Estimate     Z-stat         P-val  \\\n(Intercept)                                1.183962   4.709543  2.482725e-06   \ntta_condition                              1.718187  42.461655  0.000000e+00   \ntta_or_condition                          -0.338237  -9.806266  1.058116e-22   \ndwell_time                                 0.028027   0.579136  5.624976e-01   \nd_condition                                0.504611  15.965989  2.205167e-57   \ntta_condition:tta_or_condition             0.069222   2.016654  4.373160e-02   \ntta_condition:dwell_time                   0.089289   2.383227  1.716162e-02   \ntta_or_condition:dwell_time                0.271623   7.768817  7.922256e-15   \ntta_condition:tta_or_condition:dwell_time -0.035458  -1.018764  3.083152e-01   \n\n                                           Sig  \n(Intercept)                                ***  \ntta_condition                              ***  \ntta_or_condition                           ***  \ndwell_time                                      \nd_condition                                ***  \ntta_condition:tta_or_condition               *  \ntta_condition:dwell_time                     *  \ntta_or_condition:dwell_time                ***  \ntta_condition:tta_or_condition:dwell_time       ",
      "text/html": "<div>\n<style scoped>\n    .dataframe tbody tr th:only-of-type {\n        vertical-align: middle;\n    }\n\n    .dataframe tbody tr th {\n        vertical-align: top;\n    }\n\n    .dataframe thead th {\n        text-align: right;\n    }\n</style>\n<table border=\"1\" class=\"dataframe\">\n  <thead>\n    <tr style=\"text-align: right;\">\n      <th></th>\n      <th>Estimate</th>\n      <th>Z-stat</th>\n      <th>P-val</th>\n      <th>Sig</th>\n    </tr>\n  </thead>\n  <tbody>\n    <tr>\n      <th>(Intercept)</th>\n      <td>1.183962</td>\n      <td>4.709543</td>\n      <td>2.482725e-06</td>\n      <td>***</td>\n    </tr>\n    <tr>\n      <th>tta_condition</th>\n      <td>1.718187</td>\n      <td>42.461655</td>\n      <td>0.000000e+00</td>\n      <td>***</td>\n    </tr>\n    <tr>\n      <th>tta_or_condition</th>\n      <td>-0.338237</td>\n      <td>-9.806266</td>\n      <td>1.058116e-22</td>\n      <td>***</td>\n    </tr>\n    <tr>\n      <th>dwell_time</th>\n      <td>0.028027</td>\n      <td>0.579136</td>\n      <td>5.624976e-01</td>\n      <td></td>\n    </tr>\n    <tr>\n      <th>d_condition</th>\n      <td>0.504611</td>\n      <td>15.965989</td>\n      <td>2.205167e-57</td>\n      <td>***</td>\n    </tr>\n    <tr>\n      <th>tta_condition:tta_or_condition</th>\n      <td>0.069222</td>\n      <td>2.016654</td>\n      <td>4.373160e-02</td>\n      <td>*</td>\n    </tr>\n    <tr>\n      <th>tta_condition:dwell_time</th>\n      <td>0.089289</td>\n      <td>2.383227</td>\n      <td>1.716162e-02</td>\n      <td>*</td>\n    </tr>\n    <tr>\n      <th>tta_or_condition:dwell_time</th>\n      <td>0.271623</td>\n      <td>7.768817</td>\n      <td>7.922256e-15</td>\n      <td>***</td>\n    </tr>\n    <tr>\n      <th>tta_condition:tta_or_condition:dwell_time</th>\n      <td>-0.035458</td>\n      <td>-1.018764</td>\n      <td>3.083152e-01</td>\n      <td></td>\n    </tr>\n  </tbody>\n</table>\n</div>"
     },
     "execution_count": 39,
     "metadata": {},
     "output_type": "execute_result"
    }
   ],
   "source": [
    "model_decision = pymer4.models.Lmer(\"is_gap_accepted ~ tta_condition*tta_or_condition*dwell_time+ d_condition + (1 | subj_id) \", data=measures, family=\"binomial\")\n",
    "model_decision_fit = model_decision.fit(summarize=True)\n",
    "model_decision.coefs.iloc[:, [0, -3, -2, -1]]"
   ],
   "metadata": {
    "collapsed": false,
    "pycharm": {
     "name": "#%%\n"
    }
   }
  }
 ],
 "metadata": {
  "kernelspec": {
   "display_name": "Python 3",
   "language": "python",
   "name": "python3"
  },
  "language_info": {
   "codemirror_mode": {
    "name": "ipython",
    "version": 2
   },
   "file_extension": ".py",
   "mimetype": "text/x-python",
   "name": "python",
   "nbconvert_exporter": "python",
   "pygments_lexer": "ipython2",
   "version": "2.7.6"
  }
 },
 "nbformat": 4,
 "nbformat_minor": 0
}